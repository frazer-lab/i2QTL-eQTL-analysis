{
 "cells": [
  {
   "cell_type": "code",
   "execution_count": 85,
   "metadata": {
    "collapsed": true
   },
   "outputs": [],
   "source": [
    "%matplotlib inline\n",
    "from __future__ import division\n",
    "import numpy as np\n",
    "import os\n",
    "import sys\n",
    "import datetime\n",
    "from subprocess import call\n",
    "import subprocess\n",
    "import glob\n",
    "import warnings\n",
    "warnings.simplefilter(action='ignore', category=FutureWarning)\n",
    "import djPyi2 as DJ\n",
    "from djPyi2 import Common as CM\n",
    "from djPyi2 import mpltools\n",
    "\n",
    "import pandas as pd\n",
    "pd.options.mode.chained_assignment = None\n",
    "import csv\n",
    "import seaborn as sns\n",
    "import matplotlib as mpl\n",
    "import matplotlib.pyplot as plt\n",
    "import copy \n",
    "import pybedtools as pbt\n",
    "import ciepy\n",
    "import cardipspy as cpy\n",
    "import itertools\n",
    "import tempfile\n",
    "import six\n",
    "import networkx as nx\n",
    "import scipy.stats as stats\n",
    "pd.set_option('display.max_columns', 500)\n",
    "pd.set_option('display.max_rows', 100)\n",
    "from mpl_toolkits.axes_grid1 import  make_axes_locatable\n",
    "import datetime\n",
    "\n",
    "from scipy.stats import mode\n",
    "dy_name = 'eqtl_processing'\n",
    "\n",
    "private_out = os.path.join(DJ.root, 'private_output', dy_name)\n",
    "if not os.path.exists(private_out):\n",
    "    cpy.makedir(private_out)\n",
    "\n",
    "import gc"
   ]
  },
  {
   "cell_type": "code",
   "execution_count": 86,
   "metadata": {
    "collapsed": true
   },
   "outputs": [],
   "source": [
    "from rpy2.robjects.packages import importr\n",
    "from rpy2.robjects.vectors import FloatVector\n",
    "\n",
    "stats = importr('stats')\n",
    "qvalue = importr('qvalue')"
   ]
  },
  {
   "cell_type": "code",
   "execution_count": 87,
   "metadata": {
    "collapsed": true
   },
   "outputs": [],
   "source": [
    "dy_name = 'qtl_results_01_17'\n",
    "outdir = os.path.join(private_out, dy_name)\n",
    "\n",
    "if not os.path.exists(outdir):\n",
    "    DJ.makedir(outdir)"
   ]
  },
  {
   "cell_type": "code",
   "execution_count": 88,
   "metadata": {
    "collapsed": true
   },
   "outputs": [],
   "source": [
    "def prep_info_all(df): \n",
    "    df = df.copy()\n",
    "    df['chrom'] = df.CHROM.apply(lambda x: \"chr{}\".format(str(x)))\n",
    "    df = df.set_index('ID', drop = False)\n",
    "    return df"
   ]
  },
  {
   "cell_type": "code",
   "execution_count": 89,
   "metadata": {
    "collapsed": true
   },
   "outputs": [],
   "source": [
    "def add_bins(df, bins, col = 'log10_SVLEN', name_suff = 'bin_log10_SVLEN', \n",
    "            cap_thresh = 4):\n",
    "\n",
    "    bins = [round(x, 1) for x in bins]\n",
    "    df[name_suff] = pd.cut(df[col], bins , labels= bins[1:])\n",
    "    df[name_suff] = df[name_suff].astype(float)\n",
    "    df[\"{}_capped\".format(name_suff)] = df[name_suff]\n",
    "    inds = df[df[name_suff] > cap_thresh].index.tolist()\n",
    "    df.loc[inds, \"{}_capped\".format(name_suff)] = cap_thresh\n",
    "    return df"
   ]
  },
  {
   "cell_type": "code",
   "execution_count": 90,
   "metadata": {
    "collapsed": true
   },
   "outputs": [],
   "source": [
    "# via cdeboever https://github.com/frazer-lab/cardips-ipsc-eqtl/blob/master/notebooks/eQTL%20Processing.ipynb\n",
    "def qvalue(pvals_series, summary=True, plot=False):\n",
    "    \"\"\"Use the R qvalue package to adjust pvalues. pvals should be a pandas\n",
    "    Series with gene names as the index and pvalues as the values.\"\"\"\n",
    "    import rpy2.robjects as ro\n",
    "    pvals = pvals_series.tolist()\n",
    "    \n",
    "    ro.r('suppressMessages(library(qvalue))')\n",
    "    \n",
    "    ro.globalenv['pvals'] = FloatVector(pvals)\n",
    "    ro.r('qobj = qvalue(p=pvals, fdr.level=0.05)')\n",
    "    ro.r('qvalues <- qobj$qvalues')\n",
    "    ro.r('pi0 <- qobj$pi0')\n",
    "    ro.r('lfdr <- qobj$lfdr')\n",
    "    ro.r('sig <- qobj$significant')\n",
    "    qvalues = ro.globalenv['qvalues']\n",
    "    pi0 = ro.globalenv['pi0']\n",
    "    lfdr = ro.globalenv['lfdr']\n",
    "    sig = ro.globalenv['sig']\n",
    "    qvalue_res = pd.DataFrame([list(pvals), list(qvalues), list(sig)], \n",
    "                              index=['perm_pvalue', 'perm_qvalue', 'perm_sig'],\n",
    "                              columns=pvals_series.index).T\n",
    "    qvalue_res['perm_sig'] = qvalue_res.perm_sig.astype(bool)\n",
    "    qvalue_res = qvalue_res.sort_values(['perm_qvalue'])\n",
    "    qvalues = pd.Series(list(qvalues), index=pvals_series.index)\n",
    "    qvalue_res.index.name = None\n",
    "    if summary:\n",
    "        ro.r('summary(qobj)')\n",
    "    if plot:\n",
    "        ro.r('plot(qobj)')\n",
    "    return qvalue_res"
   ]
  },
  {
   "cell_type": "code",
   "execution_count": 91,
   "metadata": {
    "collapsed": true
   },
   "outputs": [],
   "source": [
    "def dist_lambda(df, col_start1, col_end1, col_start2, col_end2):\n",
    "\n",
    "    data = []\n",
    "    for x in df[[col_start1, col_end1, col_start2, col_end2]].values:\n",
    "        l = map(int, x)\n",
    "        \n",
    "        start1, end1 = l[0], l[1]     \n",
    "        start2, end2 = l[2], l[3]\n",
    "    \n",
    "\n",
    "        ## CNV before\n",
    "        if start1 < start2 and end1 <= start2:\n",
    "            dist = end1 - start2\n",
    "        ## CNV after \n",
    "        elif start1 > end2:\n",
    "            dist = start1- end2\n",
    "\n",
    "        ## CNV overlaps right edge:\n",
    "        elif start1 < start2 and end1 > start2 and end1 < end2:\n",
    "            dist = 0\n",
    "        ## CNV overlaps left edge\n",
    "\n",
    "        elif start1 >= start2 and start1 <= end2 and end1 >= end2:\n",
    "            dist=0\n",
    "\n",
    "        ## CNV Overlaps entire region:\n",
    "        elif start1 <= start2 and end1 >= end2:\n",
    "\n",
    "            dist =0\n",
    "\n",
    "        ## CNV_within entirely\n",
    "        elif start1 >= start2 and start1 <= end2 and end1 >= start2 and end1 <= end2:\n",
    "            dist = 0\n",
    "\n",
    "        else:\n",
    "            print start1, start2, end1, end2\n",
    "            return\n",
    "        \n",
    "        data.append(dist)\n",
    "    return data"
   ]
  },
  {
   "cell_type": "code",
   "execution_count": 92,
   "metadata": {
    "collapsed": true
   },
   "outputs": [],
   "source": [
    "def add_fdr(df, n=False, method = 'fdr'):\n",
    "    df = df.copy()\n",
    "    p_vals = df['empirical_feature_p_value'].tolist()\n",
    "    if n:\n",
    "        p_adjust = stats.p_adjust(FloatVector(p_vals), method = method, n = n)\n",
    "    else:\n",
    "        p_adjust = stats.p_adjust(FloatVector(p_vals), method = method)\n",
    "        \n",
    "    df['fdr_global'] = list(p_adjust)\n",
    "    return df\n",
    "\n",
    "\n",
    "def get_pval_threshold_for_fdr(top, fdr = 0.1):\n",
    "    \"\"\" get the min permutation p value that for rejection at the specified fdr\n",
    "    p values lower than this one are pass fdr filtering\"\"\"\n",
    "    thresh = top[top.fdr_global > fdr]['empirical_feature_p_value'].min()\n",
    "    return thresh"
   ]
  },
  {
   "cell_type": "code",
   "execution_count": 93,
   "metadata": {
    "collapsed": true
   },
   "outputs": [],
   "source": [
    "def add_info_cats_per_gene(top_sig):\n",
    "    # merge the info onto the top hits df\n",
    "    top_sig = pd.merge(top_sig, info_cat_per_gene_all[['gene_id_mod', 'ID', 'genic_category_variant']], how='left', left_on=['feature_id', 'snp_id'], right_on=['gene_id_mod', 'ID'])\n",
    "\n",
    "    top_sig['genic_category_variant'] = top_sig.genic_category_variant.fillna('intergenic')\n",
    "    \n",
    "    top_sig['coding'] = False\n",
    "    inds = top_sig[top_sig.genic_category_variant.isin(['contains_gene', 'contains_exon', 'intersects_exon'])].index.tolist()\n",
    "    top_sig.loc[inds, 'coding'] = True    \n",
    "    return top_sig"
   ]
  },
  {
   "cell_type": "code",
   "execution_count": 94,
   "metadata": {
    "collapsed": true
   },
   "outputs": [],
   "source": [
    "def correct_betas(qtl_info, info_vars):\n",
    "    \n",
    "    inds1 = info_vars[(info_vars.SUBTYPE == 'DEL') & (info_vars.CALLER.isin(['HipSTR', 'GS', 'GS_LCNV']))].index.tolist()\n",
    "    inds2 = info_vars[(info_vars.SVTYPE_NR == 'DEL') & (info_vars.CALLER.isin(['GS', 'GS_LCNV']))].index.tolist()\n",
    "    inds = list(set(inds1 + inds2))\n",
    "    \n",
    "    qtl_info['beta_correct_factor'] = 1\n",
    "    inds_correct = qtl_info[qtl_info.snp_id.isin(inds)].index.tolist()\n",
    "    qtl_info.loc[inds_correct, 'beta_correct_factor'] = -1\n",
    "    qtl_info['beta_corrected'] = qtl_info['beta'] * qtl_info['beta_correct_factor'] \n",
    "#     mask = var_egene_nr[(var_egene_nr.SVTYPE_NR == 'DEL') & (var_egene_nr.CALLER == 'GS')].values\n",
    "#     var_egene_nr.loc[mask, 'beta_corrected'] = var_egene_nr.loc[mask, 'beta']  * -1\n",
    "#     var_egene_nr['exonic'] =  var_egene_nr.coding # make naming better\n",
    "    \n",
    "    return qtl_info"
   ]
  },
  {
   "cell_type": "code",
   "execution_count": 95,
   "metadata": {
    "collapsed": true
   },
   "outputs": [],
   "source": [
    "def join_as_dict_apply(df1, df2, cols_to_join, left_on, right_on, fillna = \"missing_key\", \n",
    "                       alternative_col_names = False):\n",
    "    \n",
    "    if not alternative_col_names:\n",
    "        alternative_col_names = copy.deepcopy(cols_to_join)\n",
    "        \n",
    "    for i, c in enumerate(cols_to_join):\n",
    "        alt_cn = alternative_col_names[i]\n",
    "        d = dict(zip(df2[right_on].tolist(), df2[c].tolist()))\n",
    "        df1[alt_cn] = df1[left_on].apply(lambda x: d.get(x, fillna))\n",
    "    return df1"
   ]
  },
  {
   "cell_type": "code",
   "execution_count": 96,
   "metadata": {
    "collapsed": true
   },
   "outputs": [],
   "source": [
    "def tag_most_sig_per_cluster_per_gene(all_qtls):\n",
    "#     all_qtls['NR_ID_tested'] = (all_qtls.snp_id == all_qtls.Non_Redundant_ID)\n",
    "    \n",
    "    all_qtls = all_qtls.sort_values(['feature_id', 'Non_Redundant_ID', 'empirical_feature_p_value'])\n",
    "    all_qtls = all_qtls.set_index('gene_var_id', drop = False)\n",
    "    t = all_qtls.drop_duplicates(['Non_Redundant_ID', 'feature_id'], keep = 'first')\n",
    "    inds = t.index.tolist()\n",
    "    all_qtls['most_significant_nr'] = False\n",
    "    all_qtls.loc[inds, 'most_significant_nr'] = True\n",
    "    return all_qtls"
   ]
  },
  {
   "cell_type": "code",
   "execution_count": 254,
   "metadata": {
    "collapsed": true
   },
   "outputs": [],
   "source": [
    "# def fix_svlen(info_all):\n",
    "    \n",
    "#     info_all = info_all.copy()\n",
    "# #     info_all['SVLEN_MOD'] = info_all.SVLEN\n",
    "#     inds = info_all[info_all.SVTYPE_NR == 'STR'].index.tolist()\n",
    "#     info_all.loc[inds, 'SVLEN'] = info_all.loc[inds, 'MAX_ALLELE_CHANGE']\n",
    "#     info_all['log10_SVLEN'] = info_all['SVLEN'] \n",
    "#     inds = info_all[(info_all.is_SVLEN == True) | (info_all.SVTYPE == 'INV')].index.tolist()\n",
    "#     info_all.loc[inds, 'log10_SVLEN'] = np.log10(info_all.loc[inds, 'SVLEN'].astype(float))\n",
    "#     bins = np.arange(0, 10, 0.2)\n",
    "#     info_all = add_bins(info_all, bins, col = 'log10_SVLEN',\n",
    "#               name_suff = 'bin_log10_SVLEN', \n",
    "#               cap_thresh = 6.2)\n",
    "    \n",
    "#     return info_all"
   ]
  },
  {
   "cell_type": "code",
   "execution_count": 97,
   "metadata": {
    "collapsed": true
   },
   "outputs": [],
   "source": [
    "def prep_info_pass_for_merge(info):\n",
    "    info = info.copy()\n",
    "    c1 =['NR_ID', 'ID', 'CALLER', 'NMODE_all_rna', 'NMODE_AF_all_rna', 'SVTYPE_all_rna', 'SVTYPE_NR', 'ALLELES_DIST_DICT_all_rna', 'SUBTYPE_all_rna', 'MIN_ALLELE_all_rna', 'MAX_ALLELE_all_rna']\n",
    "\n",
    "    c2 = [u'SVLEN', u'MAX_ALLELE_CHANGE',\n",
    "       u'ALLELE_DIFF', u'SVLEN_DS_RANGE', u'MHC', u'VDJ', u'centromere',\n",
    "       u'seg_dupe', u'pseudo_auto', u'is_SVLEN', u'log10_SVLEN',\n",
    "       u'log10_SVLEN_DS_RANGE', u'bin_log10_SVLEN', u'bin_log10_SVLEN_capped',\n",
    "       u'bin_log10_SVLEN_DS_RANGE', u'bin_log10_SVLEN_DS_RANGE_capped',\n",
    "       u'super_category', u'genes_affected', u'num_genes_affected',\n",
    "       u'start_variant', u'end_variant', u'ucsc_coords', u'chrom']\n",
    "\n",
    "    tdf = info[c1 + c2]\n",
    "    tdf.columns = map(lambda x: x.replace('_all_rna', ''), tdf.columns.tolist())\n",
    "    return tdf"
   ]
  },
  {
   "cell_type": "code",
   "execution_count": 98,
   "metadata": {
    "collapsed": true
   },
   "outputs": [],
   "source": [
    "def get_tss_dist(tss_info, all_qtls_filt):\n",
    "    cols = ['start_tss', 'end_tss', 'gene_id_mod_tss', 'tss_id_tss']\n",
    "    tss_ve = all_qtls_filt.merge(tss_info[cols], left_on=['feature_id'], right_on=['gene_id_mod_tss'])\n",
    "\n",
    "    dfs = []\n",
    "    cols = ['feature_id', 'start_variant', 'end_variant', 'start_tss', 'end_tss', 'snp_id', 'gene_var_id']\n",
    "    for i, df in tss_ve[cols].groupby('feature_id'):\n",
    "        df['dist_tss'] = dist_lambda(df, 'start_variant', 'end_variant','start_tss', 'end_tss')\n",
    "        df['dist_tss_abs'] = df['dist_tss'].abs()\n",
    "        cols = ['feature_id', 'snp_id', 'dist_tss', 'dist_tss_abs', 'gene_var_id']\n",
    "        dfs.append(df[cols])\n",
    "\n",
    "    tss_dist = pd.concat(dfs, ignore_index = True)\n",
    "    min_tss_dist = tss_dist.groupby('gene_var_id').dist_tss_abs.min()\n",
    "    tss_dist['min_tss_dist'] = tss_dist.gene_var_id.map(min_tss_dist.to_dict())\n",
    "    tss_dist = tss_dist[tss_dist.dist_tss_abs ==tss_dist.min_tss_dist].drop_duplicates('gene_var_id')\n",
    "    return tss_dist"
   ]
  },
  {
   "cell_type": "code",
   "execution_count": 99,
   "metadata": {
    "collapsed": true
   },
   "outputs": [],
   "source": [
    "def annotate_qtl_data(all_qtls, top, info_cat_per_gene_all, info_all_var, info_var_gene_wide,\n",
    "                      gene_types, mappings = False, genes_filt = False, fdr_thresh = 0.1):\n",
    "    all_qtls['gene_var_id'] = all_qtls['feature_id'] + '_' + all_qtls['snp_id']\n",
    "    \n",
    "    all_qtls = all_qtls.drop_duplicates('gene_var_id')\n",
    "    print all_qtls.shape[0], 1\n",
    "    # merge the info onto the top hits df\n",
    "    all_qtls = pd.merge(all_qtls, info_cat_per_gene_all[['gene_id_mod', 'ID', 'genic_category_variant']], how='left', left_on=['feature_id', 'snp_id'], right_on=['gene_id_mod', 'ID'])\n",
    "    print all_qtls.shape[0], 2\n",
    "    info_all_trunc = info_all_var.pipe(prep_info_pass_for_merge)\n",
    "    all_qtls = all_qtls.merge(info_all_trunc, left_on='snp_id', right_on= 'ID', how = 'left')\n",
    "    all_qtls['genic_category_variant'] = all_qtls['genic_category_variant'].fillna('intergenic')\n",
    "    all_qtls['Non_Redundant_ID'] = all_qtls['NR_ID']\n",
    "    p_val_sig_all = get_pval_threshold_for_fdr(top, fdr=fdr_thresh)\n",
    "    print all_qtls.shape[0] , 3\n",
    "    all_qtls['coding'] = False\n",
    "    inds = all_qtls[all_qtls.genic_category_variant.isin(['contains_gene', 'contains_exon', 'intersects_exon'])].index.tolist()\n",
    "    all_qtls.loc[inds, 'coding'] = True    \n",
    "    all_qtls['significant'] = (all_qtls['empirical_feature_p_value'] < p_val_sig_all)\n",
    "    \n",
    "    all_qtls = correct_betas(all_qtls, info_all_trunc)\n",
    "    all_qtls['top_hit'] = all_qtls.gene_var_id.isin(top.gene_var_id.tolist())\n",
    "    print all_qtls.shape[0], 4\n",
    "    \n",
    "    if type(mappings) == pd.core.frame.DataFrame:\n",
    "        mappings_dict = mappings.Non_Redundant_ID.to_dict()\n",
    "        svtypes_dict = mappings.SVTYPE.to_dict()\n",
    "        all_qtls['SVTYPE_NR'] = all_qtls.SVTYPE\n",
    "        all_qtls['Non_Redundant_ID'] = all_qtls['snp_id'].apply(lambda x: mappings_dict.get(x, x))\n",
    "        all_qtls['SVTYPE_NR'] = all_qtls['snp_id'].apply(lambda x: svtypes_dict.get(x, x))\n",
    "        \n",
    "    if type(genes_filt) != bool:\n",
    "        all_qtls['in_filtered_genes'] = all_qtls.feature_id.isin(genes_filt.index.tolist())\n",
    "    \n",
    "    all_qtls = tag_most_sig_per_cluster_per_gene(all_qtls)\n",
    "#     return all_qtls\n",
    "    \n",
    "    all_qtls['gene_distance'] = all_qtls.pipe(dist_lambda, 'start_variant', 'end_variant', \n",
    "                                              'feature_start', 'feature_end')\n",
    "    print all_qtls.shape[0],5 \n",
    "    all_qtls = all_qtls.drop(['ID_x', 'ID_y'], axis = 1)\n",
    "    info_var_gene_wide.index = info_var_gene_wide.ID\n",
    "    \n",
    "#     all_qtls = all_qtls.merge(info_var_gene_wide[['super_category', 'genes_supercategory', 'num_genes_affected']], left_on= 'snp_id', right_index=True, how = 'left')f\n",
    "    \n",
    "    all_qtls = all_qtls.merge(gene_types[['gene_type', 'gene_name']], left_on= 'feature_id', \n",
    "                              right_index=True, how = 'left')\n",
    "    all_qtls['top_hit_final'] = all_qtls.gene_var_id.isin(top.gene_var_id.tolist())\n",
    "    print all_qtls.shape[0], 6\n",
    "    return all_qtls"
   ]
  },
  {
   "cell_type": "code",
   "execution_count": 126,
   "metadata": {
    "collapsed": true
   },
   "outputs": [],
   "source": [
    "def prep_top(top, genes_filt):\n",
    "    top = top.copy()\n",
    "    top['gene_var_id'] = top['feature_id'] + '_' + top['snp_id']\n",
    "    top = top[top.feature_id.isin(genes_filt.index.tolist())]\n",
    "    # added\n",
    "    top.sort_values(['empirical_feature_p_value'])\n",
    "    top = top.drop_duplicates('feature_id')\n",
    "\n",
    "#     top = top[top.feature_id.isin(genes_filt.index.tolist())]\n",
    "    return top"
   ]
  },
  {
   "cell_type": "code",
   "execution_count": 127,
   "metadata": {
    "collapsed": true
   },
   "outputs": [],
   "source": [
    "def general_info_qtls(all_output, col = 'SVTYPE_NR'):\n",
    "    inds= all_output.snp_id.unique().tolist()\n",
    "#     input_variants = info_all_vars.loc[inds].SVTYPE_NR.value_counts().to_frame('no. variants tested')\n",
    "    input_variants = all_output.groupby(col).snp_id.unique().apply(len).to_frame('no. variants tested')\n",
    "    non_redundant_vars_per_class = all_output.groupby(col).Non_Redundant_ID.apply(lambda x: len(set(x))).to_frame('unique variants non-redundant tested')\n",
    "    \n",
    "    genes_tested_per_class = all_output.groupby(col).feature_id.apply(lambda x: len(set(x))).to_frame('unique genes tested')\n",
    "    \n",
    "    t1 = all_output[all_output.significant == True][col].value_counts().to_frame('significant_assoc')\n",
    "\n",
    "    t2 = all_output[all_output.significant == True].groupby(col).feature_id.apply(lambda x: len(set(x))).to_frame('unique eGenes')\n",
    "\n",
    "    t3 = all_output[all_output.significant == True].groupby(col).snp_id.apply(lambda x: len(set(x))).to_frame('unique eVariants')\n",
    "\n",
    "    t4 = all_output[all_output.significant == True].groupby(col).Non_Redundant_ID.apply(lambda x: len(set(x))).to_frame('unique eVariants Non Redundant')\n",
    "    \n",
    "    general_numbers_fdr10 = pd.concat([t1, t2, t3, t4, input_variants, non_redundant_vars_per_class,\n",
    "                                   genes_tested_per_class], axis = 1)\n",
    "\n",
    "    general_numbers_fdr10['fraction of tested genes with significant assoc.'] = general_numbers_fdr10['unique eGenes'] / general_numbers_fdr10['unique genes tested']\n",
    "\n",
    "    general_numbers_fdr10['fraction variants with significant assoc.'] = general_numbers_fdr10['unique eVariants']/ general_numbers_fdr10['no. variants tested'] \n",
    "\n",
    "    general_numbers_fdr10['fraction NR variants with significant assoc.'] = general_numbers_fdr10['unique eVariants Non Redundant']/ general_numbers_fdr10['unique variants non-redundant tested'] \n",
    "    general_numbers_fdr10.loc['total'] = general_numbers_fdr10.sum(axis = 0)\n",
    "    \n",
    "    return general_numbers_fdr10"
   ]
  },
  {
   "cell_type": "code",
   "execution_count": 128,
   "metadata": {
    "collapsed": true
   },
   "outputs": [],
   "source": [
    "def general_info_th_qtls(all_output, col = 'SVTYPE_NR'):\n",
    "    inds= all_output.snp_id.unique().tolist()\n",
    "    input_variants = all_output.groupby(col).snp_id.unique().apply(len).to_frame('no. variants tested')\n",
    "    \n",
    "#     input_variants = info_all_vars.loc[inds].SVTYPE_NR.value_counts().to_frame('no. variants tested')\n",
    "    \n",
    "    non_redundant_vars_per_class = all_output.groupby(col).Non_Redundant_ID.apply(lambda x: len(set(x))).to_frame('unique variants non-redundant tested')\n",
    "    \n",
    "    genes_tested_per_class = all_output.groupby(col).feature_id.apply(lambda x: len(set(x))).to_frame('unique genes tested')\n",
    "    top_sig = all_output[(all_output.significant == True) & (all_output.lead_qtl)]\n",
    "    t1 = top_sig[col].value_counts().to_frame('Lead_QTLs')\n",
    "\n",
    "    t2 = top_sig.groupby(col).feature_id.apply(lambda x: len(set(x))).to_frame('unique eGenes')\n",
    "\n",
    "    t3 = top_sig.groupby(col).snp_id.apply(lambda x: len(set(x))).to_frame('unique eVariants')\n",
    "\n",
    "    t4 = top_sig.groupby(col).Non_Redundant_ID.apply(lambda x: len(set(x))).to_frame('unique eVariants Non Redundant')\n",
    "    \n",
    "    general_numbers_fdr10 = pd.concat([t1, t2, t3, t4, input_variants, non_redundant_vars_per_class,\n",
    "                                   genes_tested_per_class], axis = 1)\n",
    "\n",
    "    general_numbers_fdr10['fraction of tested genes with lead QTL'] = general_numbers_fdr10['unique eGenes'] / general_numbers_fdr10['unique genes tested']\n",
    "\n",
    "    general_numbers_fdr10['fraction variants that are lead QTL'] = general_numbers_fdr10['unique eVariants']/ general_numbers_fdr10['no. variants tested'] \n",
    "\n",
    "    general_numbers_fdr10['fraction NR variants that are lead QTL'] = general_numbers_fdr10['unique eVariants Non Redundant']/ general_numbers_fdr10['unique variants non-redundant tested'] \n",
    "    \n",
    "    general_numbers_fdr10.loc['total'] = general_numbers_fdr10.sum(axis = 0)\n",
    "    general_numbers_fdr10.loc['total', 'unique eGenes'] = top_sig.feature_id.unique().shape[0]\n",
    "    \n",
    "    return general_numbers_fdr10"
   ]
  },
  {
   "cell_type": "code",
   "execution_count": 129,
   "metadata": {
    "collapsed": true
   },
   "outputs": [],
   "source": [
    "def prep_tx_info(df):\n",
    "    df = df.copy()\n",
    "    df['gene_id_mod'] = df.gene_id.apply(lambda x: x.split('.')[0])\n",
    "    df = df.set_index('tx_id', drop = False)\n",
    "    return df\n",
    "\n",
    "def prep_promoter_info(df, tx_info):\n",
    "    df = df.copy()\n",
    "#     df['gene_id_mod'] = df.tx_id.apply(lambda x: x.split('.')[0])\n",
    "    df['tx_id'] = df.tx_id.apply(lambda x: x.split('_')[0])\n",
    "    \n",
    "    df = df.set_index('tx_id', drop = False)\n",
    "    df = df.join(tx_info[['gene_id', 'gene_id_mod']])\n",
    "    \n",
    "    return df\n",
    "\n",
    "def prep_gene_info(df):\n",
    "    df = df.copy()\n",
    "    df['gene_id_mod'] = df.gene_id.apply(lambda x: x.split('.')[0])\n",
    "    df = df.set_index('gene_id_mod', drop = False)\n",
    "    return df\n",
    "\n",
    "def prep_tss_info(df, tx_info):\n",
    "    df = df.copy()\n",
    "    df['tx_id'] = df.tss_id.apply(lambda x: x.split('_')[0])\n",
    "    df = df.set_index('tx_id', drop = False)\n",
    "    df = df.join(tx_info[['gene_id', 'gene_id_mod']])\n",
    "    return df\n",
    "\n"
   ]
  },
  {
   "cell_type": "code",
   "execution_count": 130,
   "metadata": {
    "collapsed": true
   },
   "outputs": [],
   "source": [
    "def prep_gene_types_info(df):\n",
    "    df = df.copy()\n",
    "    df['gene_id_mod'] = df.gene_id.apply(lambda x: x.split('.')[0])\n",
    "    df = df.set_index('gene_id_mod', drop = False)\n",
    "    return df"
   ]
  },
  {
   "cell_type": "markdown",
   "metadata": {},
   "source": [
    "# TSS info for TSS dist"
   ]
  },
  {
   "cell_type": "code",
   "execution_count": 21,
   "metadata": {
    "collapsed": true
   },
   "outputs": [],
   "source": [
    "tx_info =  pd.read_table('/publicdata/gencode_v19_20151104/transcript_to_gene.tsv', names=['tx_id', 'gene_id']).pipe(prep_tx_info)\n",
    "\n",
    "promoter_info = pd.read_table('/publicdata/gencode_v19_20151104/promoters.bed', names=['chrom', 'start', 'end', 'tx_id', 'strand', 'other']).pipe(prep_promoter_info, tx_info)\n",
    "\n",
    "fn_promoter_bed = outdir + '/promoters_annot.bed'\n",
    "promoter_info.to_csv(fn_promoter_bed, sep = '\\t', header = None, index = False)"
   ]
  },
  {
   "cell_type": "code",
   "execution_count": 22,
   "metadata": {
    "collapsed": true
   },
   "outputs": [],
   "source": [
    "tss_info = pd.read_table('/publicdata/gencode_v19_20151104/tss.bed', names = ['chrom',\n",
    "                                                                         'start', 'end', \n",
    "                                                                         'tss_id', 'score',\n",
    "                                                                         'strand']).pipe(prep_tss_info, tx_info)\n",
    "\n",
    "tss_info = tss_info.set_index('gene_id_mod', drop=False)"
   ]
  },
  {
   "cell_type": "code",
   "execution_count": 26,
   "metadata": {
    "collapsed": true
   },
   "outputs": [],
   "source": [
    "# for use in annotation\n",
    "tss_info.columns = map(lambda x: \"{}_tss\".format(x), tss_info.columns.tolist())"
   ]
  },
  {
   "cell_type": "code",
   "execution_count": 104,
   "metadata": {
    "collapsed": false
   },
   "outputs": [
    {
     "name": "stdout",
     "output_type": "stream",
     "text": [
      "tss_info = pd.read_pickle('/frazer01/projects/hipsci/analysis/i2QTL-sv-analysis/private_output/eqtl_processing/qtl_results_01_17_v4/tss_info.pkl')\n",
      "tss_info = pd.read_csv('/frazer01/projects/hipsci/analysis/i2QTL-sv-analysis/private_output/eqtl_processing/qtl_results_01_17_v4/tss_info.tsv', sep='\\t')\n"
     ]
    }
   ],
   "source": [
    "CM.save_dataframe('tss_info', tss_info, outdir, print_vars_recorded_loc=False)"
   ]
  },
  {
   "cell_type": "code",
   "execution_count": 33,
   "metadata": {
    "collapsed": true
   },
   "outputs": [],
   "source": [
    "tss_info = pd.read_pickle('/frazer01/projects/hipsci/analysis/i2QTL-sv-analysis/private_output/eqtl_processing/qtl_results_01_17_v4/tss_info.pkl')"
   ]
  },
  {
   "cell_type": "markdown",
   "metadata": {},
   "source": [
    "# Other annotation data"
   ]
  },
  {
   "cell_type": "code",
   "execution_count": 105,
   "metadata": {
    "collapsed": true
   },
   "outputs": [],
   "source": [
    "def gene_filtering(gene_info, frac_zero= 0.8, tpm_nonzero = 0.5):\n",
    "    genes_filt = gene_info[(gene_info.FractionZero < frac_zero ) &   (gene_info.TPM_NoneZero > tpm_nonzero)]\n",
    "    genes_filt = genes_filt[~genes_filt.chrom.isin(['chrX', 'chrY'])]\n",
    "    return genes_filt"
   ]
  },
  {
   "cell_type": "code",
   "execution_count": 106,
   "metadata": {
    "collapsed": true
   },
   "outputs": [],
   "source": [
    "info_cat_per_gene_all  = pd.read_pickle('/frazer01/projects/hipsci/analysis/i2QTL-sv-analysis/private_output/categorize_sv_wrt_genes/qtl_results_01_17/info_var_gene_intersects_sv_str_w_joint_leads.pkl')\n",
    "info_var_gene_wide = pd.read_pickle('/frazer01/projects/hipsci/analysis/i2QTL-sv-analysis/private_output/categorize_sv_wrt_genes/qtl_results_01_17/info_var_gene_wide_sv_str_w_joint_leads.pkl')"
   ]
  },
  {
   "cell_type": "code",
   "execution_count": 107,
   "metadata": {
    "collapsed": true
   },
   "outputs": [],
   "source": [
    "gene_types = pd.read_table('/publicdata/gencode_v19_20151104/gene_info.tsv').pipe(prep_gene_types_info)"
   ]
  },
  {
   "cell_type": "code",
   "execution_count": 108,
   "metadata": {
    "collapsed": true
   },
   "outputs": [],
   "source": [
    "info_unfilt_pass_rna_398 = pd.read_pickle('/frazer01/projects/hipsci/analysis/i2QTL-sv-analysis/private_output/dosage_vcf_and_variant_info/info_unfilt_pass_rna_398_v2.pkl').pipe(prep_info_all)"
   ]
  },
  {
   "cell_type": "markdown",
   "metadata": {},
   "source": [
    "# Gene Level Filtering, Which Genes are expressed adequately?"
   ]
  },
  {
   "cell_type": "code",
   "execution_count": 109,
   "metadata": {
    "collapsed": true
   },
   "outputs": [],
   "source": [
    "fn = '/frazer01/projects/hipsci/analysis/i2QTL-sv-analysis/private_output/eqtl_processing/rna_info_02_27/stats_WGS_HipSci_iPSCORE.txt'\n",
    "gene_info = pd.read_table(fn, index_col = 0)\n",
    "# tdf = tdf.set_index('gene_id')\n",
    "# m = tdf[tdf.FractionZero > 0].FractionZero\n",
    "\n",
    "gene_info = gene_info.join(gene_types['gene_name\tgene_type\tchrom\tstart\tend'.split()])\n",
    "# m = [tdf.FractionZero > 0].FractionZero.min()\n",
    "g_filt_04 = gene_info.pipe(gene_filtering,frac_zero = 0.8, tpm_nonzero = 0.4)\n",
    "# we will use this original standard, going lower probably not getting us much\n",
    "g_filt_05 = gene_info.pipe(gene_filtering,frac_zero = 0.8, tpm_nonzero = 0.5)\n",
    "\n",
    "g_filt_03 = gene_info.pipe(gene_filtering,frac_zero = 0.8, tpm_nonzero = 0.3)"
   ]
  },
  {
   "cell_type": "code",
   "execution_count": null,
   "metadata": {
    "collapsed": true
   },
   "outputs": [],
   "source": [
    "# lets use 80% and 0.5 tpm nonzero"
   ]
  },
  {
   "cell_type": "code",
   "execution_count": 33,
   "metadata": {
    "collapsed": false
   },
   "outputs": [
    {
     "name": "stdout",
     "output_type": "stream",
     "text": [
      "genes_filt_398_80_50 = pd.read_pickle('/frazer01/projects/hipsci/analysis/i2QTL-sv-analysis/private_output/eqtl_processing/genes_filt_398_80_50.pkl')\n",
      "genes_filt_398_80_50 = pd.read_csv('/frazer01/projects/hipsci/analysis/i2QTL-sv-analysis/private_output/eqtl_processing/genes_filt_398_80_50.tsv', sep='\\t')\n",
      "# all vars recorded: /frazer01/projects/hipsci/analysis/i2QTL-sv-analysis/private_output/eqtl_processing/load_saved_nb_variables.py\n",
      "# pickled vars recorded:/frazer01/projects/hipsci/analysis/i2QTL-sv-analysis/private_output/eqtl_processing/load_pickled_nb_variables.py\n"
     ]
    }
   ],
   "source": [
    "CM.save_dataframe('genes_filt_398_80_50', g_filt_05, private_out)"
   ]
  },
  {
   "cell_type": "code",
   "execution_count": 432,
   "metadata": {
    "collapsed": true
   },
   "outputs": [],
   "source": [
    "genes_filt_398_80_50 = pd.read_pickle('/frazer01/projects/hipsci/analysis/i2QTL-sv-analysis/private_output/eqtl_processing/genes_filt_398_80_50.pkl')"
   ]
  },
  {
   "cell_type": "code",
   "execution_count": 34,
   "metadata": {
    "collapsed": false
   },
   "outputs": [
    {
     "data": {
      "text/plain": [
       "<matplotlib.axes._subplots.AxesSubplot at 0x7f3bf5f72710>"
      ]
     },
     "execution_count": 34,
     "metadata": {},
     "output_type": "execute_result"
    },
    {
     "data": {
      "image/png": "[encoded data removed]",
      "text/plain": [
       "<Figure size 432x288 with 1 Axes>"
      ]
     },
     "metadata": {
      "needs_background": "light"
     },
     "output_type": "display_data"
    }
   ],
   "source": [
    "g_filt_05.TPM_NoneZero.hist(bins = 20, log=True)"
   ]
  },
  {
   "cell_type": "code",
   "execution_count": 35,
   "metadata": {
    "collapsed": false
   },
   "outputs": [
    {
     "data": {
      "text/plain": [
       "<matplotlib.axes._subplots.AxesSubplot at 0x7f3bf5deb350>"
      ]
     },
     "execution_count": 35,
     "metadata": {},
     "output_type": "execute_result"
    },
    {
     "data": {
      "image/png": "[encoded data removed]",
      "text/plain": [
       "<Figure size 432x288 with 1 Axes>"
      ]
     },
     "metadata": {
      "needs_background": "light"
     },
     "output_type": "display_data"
    }
   ],
   "source": [
    "g_filt_05.FractionZero.hist(bins = 20, log=True)"
   ]
  },
  {
   "cell_type": "markdown",
   "metadata": {},
   "source": [
    "most genes are expressed in a large number of our samples"
   ]
  },
  {
   "cell_type": "markdown",
   "metadata": {},
   "source": [
    "# QTL Data Processing"
   ]
  },
  {
   "cell_type": "code",
   "execution_count": 38,
   "metadata": {
    "collapsed": true
   },
   "outputs": [],
   "source": [
    "def process_qtl_data(fn_top, fn_all, info_cat_per_gene_all, info_all_vars, info_var_gene_wide, gene_types,\n",
    "                     mappings = False, genes_filt = False, fdr_thresh = 0.1):\n",
    "    top = pd.read_table(fn_top).pipe(prep_top, genes_filt).pipe(add_fdr)\n",
    "    all_qtls = pd.read_table(fn_all)\n",
    "    all_qtls = all_qtls.pipe(annotate_qtl_data, top, \n",
    "                         info_cat_per_gene_all, info_all_vars, info_var_gene_wide, gene_types,\n",
    "                         mappings = mappings, genes_filt= genes_filt)\n",
    "\n",
    "    all_qtls_filt = all_qtls[all_qtls.in_filtered_genes == True]\n",
    "#     return all_qtls_filt\n",
    "    th = all_qtls_filt[(all_qtls_filt.in_filtered_genes) & (all_qtls_filt.top_hit)]\n",
    "    th_q = th.drop_duplicates(['feature_id'])\n",
    "    tdf = qvalue(th_q.empirical_feature_p_value)\n",
    "    th_q = th_q.join(tdf)\n",
    "    th_q['significant'] = th_q.perm_sig\n",
    "    p_val_thresh = tdf[tdf.perm_sig == True].perm_pvalue.max()\n",
    "    all_qtls_filt['significant'] = (all_qtls_filt.empirical_feature_p_value <= p_val_thresh)\n",
    "    inds = th_q[th_q.perm_sig].gene_var_id.tolist()\n",
    "    all_qtls_filt['top_hit_final_sig'] = all_qtls_filt.gene_var_id.isin(inds)\n",
    "    convert = {'STR':'STR', 'INDEL': 'INDEL', 'SNP': 'SNV'}\n",
    "    all_qtls_filt['SVTYPE_SUPER'] = all_qtls_filt.SVTYPE_NR.apply(lambda x: convert.get(x, 'SV'))\n",
    "    convert = {'STR':'STR', 'INDEL': 'INDEL', 'SNP': 'SNV',\n",
    "               'ALU': 'MEI', 'LINE1': 'MEI', 'SVA':'MEI', 'rMEI':'MEI', \n",
    "          'DUP': 'CNV', 'DEL': 'CNV', 'mCNV': 'CNV'}\n",
    "    \n",
    "    th = th.merge(th_q[['feature_id', 'perm_qvalue', 'perm_sig']], on = 'feature_id', how = 'left')\n",
    "    all_qtls_filt['SVTYPE_COLLAPSE'] = all_qtls_filt.SVTYPE_NR.apply(lambda x: convert.get(x, 'other SV'))\n",
    "    convert = {'LINE1':'MEI', 'SVA': 'MEI', 'ALU': 'MEI'}\n",
    "    all_qtls_filt['SVTYPE_NR_C'] = all_qtls_filt.SVTYPE_NR.apply(lambda x: convert.get(x,x))\n",
    "    \n",
    "#     inds = th[th.perm_sig].gene_var_id.unique()\n",
    "#     all_qtls_filt['lead_w_tie'] = all_qtls_filt.gene_var_id.isin(inds)\n",
    "    min_p_feat = all_qtls_filt.groupby('feature_id').p_value.min()\n",
    "    all_qtls_filt = all_qtls_filt.merge(min_p_feat.to_frame('min_p_gene'), \n",
    "                                        left_on = 'feature_id', right_index = True, how = 'left')\n",
    "    all_qtls_filt['lead_gene'] = all_qtls_filt['p_value'] == all_qtls_filt.min_p_gene\n",
    "    all_qtls_filt['lead_qtl'] = ((all_qtls_filt.lead_gene == True) & (all_qtls_filt.significant))\n",
    "    return th, all_qtls_filt, all_qtls"
   ]
  },
  {
   "cell_type": "code",
   "execution_count": 39,
   "metadata": {
    "collapsed": true
   },
   "outputs": [],
   "source": [
    "def add_tss_dist(all_qtls_filt, tss_info):\n",
    "    tss_dist = get_tss_dist(tss_info, all_qtls_filt)\n",
    "    all_qtls_filt = all_qtls_filt.set_index('gene_var_id', drop = False) \n",
    "    all_qtls_filt = all_qtls_filt.join(tss_dist.set_index('gene_var_id')[['dist_tss', 'dist_tss_abs']])\n",
    "    return all_qtls_filt, tss_dist"
   ]
  },
  {
   "cell_type": "code",
   "execution_count": 40,
   "metadata": {
    "collapsed": true
   },
   "outputs": [],
   "source": [
    "dy_name = 'qtl_results_01_17_v4'\n",
    "outdir = os.path.join(private_out, dy_name)\n",
    "\n",
    "if not os.path.exists(outdir):\n",
    "    DJ.makedir(outdir)"
   ]
  },
  {
   "cell_type": "code",
   "execution_count": 132,
   "metadata": {
    "collapsed": true
   },
   "outputs": [],
   "source": [
    "# newer runs by marc\n",
    "fn_top_combined = '/frazer01/home/djakubosky/resilio3/Mapping_SV_effects_MAF_bins/GeneLevel_Cis_eQTLs_WGS_SV_05/top_qtl_results_all.txt'\n",
    "fn_all_combined= '/frazer01/home/djakubosky/resilio3/Mapping_SV_effects_MAF_bins/GeneLevel_Cis_eQTLs_WGS_SV_05/qtl_results_all.txt.gz'"
   ]
  },
  {
   "cell_type": "code",
   "execution_count": 92,
   "metadata": {
    "collapsed": false
   },
   "outputs": [
    {
     "name": "stdout",
     "output_type": "stream",
     "text": [
      "1839640 1\n",
      "1839640 2\n",
      "1839640 3\n",
      "1839640 4\n",
      "1839640 5\n",
      "1839640 6\n",
      "\n",
      "Call:\n",
      "qvalue(p = pvals, fdr.level = 0.05)\n",
      "\n",
      "pi0:\t0.3997283\t\n",
      "\n",
      "Cumulative number of significant calls:\n",
      "\n",
      "          <1e-04 <0.001 <0.01 <0.025 <0.05 <0.1    <1\n",
      "p-value     3408   4111  5282   6031  6859 7969 16018\n",
      "q-value     3238   3953  5133   5960  6966 8527 16018\n",
      "local FDR   2642   3152  3900   4328  4772 5413 14842\n",
      "\n"
     ]
    }
   ],
   "source": [
    "top_hit_all, all_qtls_filt, all_qtls = process_qtl_data(fn_top_combined, fn_all_combined, \n",
    "                                                        info_cat_per_gene_all, \n",
    "                                                        info_unfilt_pass_rna_398, info_var_gene_wide, \n",
    "                                                        gene_types, mappings = False, \n",
    "                                                        genes_filt = g_filt_05, fdr_thresh= 0.1)"
   ]
  },
  {
   "cell_type": "code",
   "execution_count": 107,
   "metadata": {
    "collapsed": true
   },
   "outputs": [],
   "source": [
    "all_qtls_filt, tss_dist =  add_tss_dist(all_qtls_filt, tss_info)"
   ]
  },
  {
   "cell_type": "code",
   "execution_count": 11,
   "metadata": {
    "collapsed": true
   },
   "outputs": [],
   "source": [
    "all_qtls_filt = pd.read_pickle('/frazer01/projects/hipsci/analysis/i2QTL-sv-analysis/private_output/eqtl_processing/qtl_results_01_17_v4/all_qtls_combined_filt5.pkl')"
   ]
  },
  {
   "cell_type": "code",
   "execution_count": 31,
   "metadata": {
    "collapsed": true
   },
   "outputs": [],
   "source": [
    "inds = all_qtls_filt[(all_qtls_filt.significant == True)].feature_id.unique()"
   ]
  },
  {
   "cell_type": "code",
   "execution_count": 40,
   "metadata": {
    "collapsed": true
   },
   "outputs": [],
   "source": [
    "top_sig = all_qtls_filt[(all_qtls_filt.significant == True) & (all_qtls_filt.lead_qtl==True)]"
   ]
  },
  {
   "cell_type": "code",
   "execution_count": 34,
   "metadata": {
    "collapsed": true
   },
   "outputs": [],
   "source": [
    "diff = set(inds).difference(inds2)"
   ]
  },
  {
   "cell_type": "code",
   "execution_count": 37,
   "metadata": {
    "collapsed": true
   },
   "outputs": [],
   "source": [
    "summary_numbers_all = general_info_qtls(all_qtls_filt)\n",
    "summary_numbers_th = general_info_th_qtls(all_qtls_filt)"
   ]
  },
  {
   "cell_type": "code",
   "execution_count": 18,
   "metadata": {
    "collapsed": false
   },
   "outputs": [
    {
     "data": {
      "text/plain": [
       "(6966,)"
      ]
     },
     "execution_count": 18,
     "metadata": {},
     "output_type": "execute_result"
    }
   ],
   "source": [
    "all_qtls_filt[all_qtls_filt.significant].feature_id.unique().shape"
   ]
  },
  {
   "cell_type": "code",
   "execution_count": 436,
   "metadata": {
    "collapsed": false
   },
   "outputs": [
    {
     "data": {
      "text/html": [
       "<div>\n",
       "<style scoped>\n",
       "    .dataframe tbody tr th:only-of-type {\n",
       "        vertical-align: middle;\n",
       "    }\n",
       "\n",
       "    .dataframe tbody tr th {\n",
       "        vertical-align: top;\n",
       "    }\n",
       "\n",
       "    .dataframe thead th {\n",
       "        text-align: right;\n",
       "    }\n",
       "</style>\n",
       "<table border=\"1\" class=\"dataframe\">\n",
       "  <thead>\n",
       "    <tr style=\"text-align: right;\">\n",
       "      <th></th>\n",
       "      <th>index</th>\n",
       "      <th>Lead_QTLs</th>\n",
       "      <th>unique eGenes</th>\n",
       "      <th>unique eVariants</th>\n",
       "      <th>unique eVariants Non Redundant</th>\n",
       "      <th>no. variants tested</th>\n",
       "      <th>unique variants non-redundant tested</th>\n",
       "      <th>unique genes tested</th>\n",
       "      <th>fraction of tested genes with lead QTL</th>\n",
       "      <th>fraction variants that are lead QTL</th>\n",
       "      <th>fraction NR variants that are lead QTL</th>\n",
       "    </tr>\n",
       "  </thead>\n",
       "  <tbody>\n",
       "    <tr>\n",
       "      <th>0</th>\n",
       "      <td>ALU</td>\n",
       "      <td>294.0</td>\n",
       "      <td>294.0</td>\n",
       "      <td>231.0</td>\n",
       "      <td>231.0</td>\n",
       "      <td>1932.0</td>\n",
       "      <td>1932.0</td>\n",
       "      <td>10873.0</td>\n",
       "      <td>0.027039</td>\n",
       "      <td>0.119565</td>\n",
       "      <td>0.119565</td>\n",
       "    </tr>\n",
       "    <tr>\n",
       "      <th>1</th>\n",
       "      <td>BND</td>\n",
       "      <td>89.0</td>\n",
       "      <td>89.0</td>\n",
       "      <td>68.0</td>\n",
       "      <td>68.0</td>\n",
       "      <td>1146.0</td>\n",
       "      <td>1146.0</td>\n",
       "      <td>7045.0</td>\n",
       "      <td>0.012633</td>\n",
       "      <td>0.059337</td>\n",
       "      <td>0.059337</td>\n",
       "    </tr>\n",
       "    <tr>\n",
       "      <th>2</th>\n",
       "      <td>DEL</td>\n",
       "      <td>661.0</td>\n",
       "      <td>661.0</td>\n",
       "      <td>517.0</td>\n",
       "      <td>476.0</td>\n",
       "      <td>5443.0</td>\n",
       "      <td>3073.0</td>\n",
       "      <td>14151.0</td>\n",
       "      <td>0.046710</td>\n",
       "      <td>0.094984</td>\n",
       "      <td>0.154897</td>\n",
       "    </tr>\n",
       "    <tr>\n",
       "      <th>3</th>\n",
       "      <td>DUP</td>\n",
       "      <td>55.0</td>\n",
       "      <td>55.0</td>\n",
       "      <td>45.0</td>\n",
       "      <td>43.0</td>\n",
       "      <td>623.0</td>\n",
       "      <td>391.0</td>\n",
       "      <td>4481.0</td>\n",
       "      <td>0.012274</td>\n",
       "      <td>0.072231</td>\n",
       "      <td>0.109974</td>\n",
       "    </tr>\n",
       "    <tr>\n",
       "      <th>4</th>\n",
       "      <td>INV</td>\n",
       "      <td>11.0</td>\n",
       "      <td>11.0</td>\n",
       "      <td>9.0</td>\n",
       "      <td>9.0</td>\n",
       "      <td>89.0</td>\n",
       "      <td>84.0</td>\n",
       "      <td>1198.0</td>\n",
       "      <td>0.009182</td>\n",
       "      <td>0.101124</td>\n",
       "      <td>0.107143</td>\n",
       "    </tr>\n",
       "    <tr>\n",
       "      <th>5</th>\n",
       "      <td>LINE1</td>\n",
       "      <td>31.0</td>\n",
       "      <td>31.0</td>\n",
       "      <td>26.0</td>\n",
       "      <td>26.0</td>\n",
       "      <td>196.0</td>\n",
       "      <td>196.0</td>\n",
       "      <td>1523.0</td>\n",
       "      <td>0.020355</td>\n",
       "      <td>0.132653</td>\n",
       "      <td>0.132653</td>\n",
       "    </tr>\n",
       "    <tr>\n",
       "      <th>6</th>\n",
       "      <td>STR</td>\n",
       "      <td>5260.0</td>\n",
       "      <td>5260.0</td>\n",
       "      <td>4087.0</td>\n",
       "      <td>4087.0</td>\n",
       "      <td>33608.0</td>\n",
       "      <td>33608.0</td>\n",
       "      <td>15972.0</td>\n",
       "      <td>0.329326</td>\n",
       "      <td>0.121608</td>\n",
       "      <td>0.121608</td>\n",
       "    </tr>\n",
       "    <tr>\n",
       "      <th>7</th>\n",
       "      <td>SVA</td>\n",
       "      <td>28.0</td>\n",
       "      <td>28.0</td>\n",
       "      <td>18.0</td>\n",
       "      <td>18.0</td>\n",
       "      <td>96.0</td>\n",
       "      <td>96.0</td>\n",
       "      <td>1516.0</td>\n",
       "      <td>0.018470</td>\n",
       "      <td>0.187500</td>\n",
       "      <td>0.187500</td>\n",
       "    </tr>\n",
       "    <tr>\n",
       "      <th>8</th>\n",
       "      <td>mCNV</td>\n",
       "      <td>294.0</td>\n",
       "      <td>294.0</td>\n",
       "      <td>217.0</td>\n",
       "      <td>180.0</td>\n",
       "      <td>2899.0</td>\n",
       "      <td>947.0</td>\n",
       "      <td>4931.0</td>\n",
       "      <td>0.059623</td>\n",
       "      <td>0.074853</td>\n",
       "      <td>0.190074</td>\n",
       "    </tr>\n",
       "    <tr>\n",
       "      <th>9</th>\n",
       "      <td>rMEI</td>\n",
       "      <td>243.0</td>\n",
       "      <td>243.0</td>\n",
       "      <td>180.0</td>\n",
       "      <td>180.0</td>\n",
       "      <td>1453.0</td>\n",
       "      <td>1448.0</td>\n",
       "      <td>9524.0</td>\n",
       "      <td>0.025514</td>\n",
       "      <td>0.123882</td>\n",
       "      <td>0.124309</td>\n",
       "    </tr>\n",
       "    <tr>\n",
       "      <th>10</th>\n",
       "      <td>total</td>\n",
       "      <td>6966.0</td>\n",
       "      <td>6966.0</td>\n",
       "      <td>5398.0</td>\n",
       "      <td>5318.0</td>\n",
       "      <td>47485.0</td>\n",
       "      <td>42921.0</td>\n",
       "      <td>71214.0</td>\n",
       "      <td>0.561127</td>\n",
       "      <td>1.087737</td>\n",
       "      <td>1.307061</td>\n",
       "    </tr>\n",
       "  </tbody>\n",
       "</table>\n",
       "</div>"
      ],
      "text/plain": [
       "    index  Lead_QTLs  unique eGenes  unique eVariants  \\\n",
       "0     ALU      294.0          294.0             231.0   \n",
       "1     BND       89.0           89.0              68.0   \n",
       "2     DEL      661.0          661.0             517.0   \n",
       "3     DUP       55.0           55.0              45.0   \n",
       "4     INV       11.0           11.0               9.0   \n",
       "5   LINE1       31.0           31.0              26.0   \n",
       "6     STR     5260.0         5260.0            4087.0   \n",
       "7     SVA       28.0           28.0              18.0   \n",
       "8    mCNV      294.0          294.0             217.0   \n",
       "9    rMEI      243.0          243.0             180.0   \n",
       "10  total     6966.0         6966.0            5398.0   \n",
       "\n",
       "    unique eVariants Non Redundant  no. variants tested  \\\n",
       "0                            231.0               1932.0   \n",
       "1                             68.0               1146.0   \n",
       "2                            476.0               5443.0   \n",
       "3                             43.0                623.0   \n",
       "4                              9.0                 89.0   \n",
       "5                             26.0                196.0   \n",
       "6                           4087.0              33608.0   \n",
       "7                             18.0                 96.0   \n",
       "8                            180.0               2899.0   \n",
       "9                            180.0               1453.0   \n",
       "10                          5318.0              47485.0   \n",
       "\n",
       "    unique variants non-redundant tested  unique genes tested  \\\n",
       "0                                 1932.0              10873.0   \n",
       "1                                 1146.0               7045.0   \n",
       "2                                 3073.0              14151.0   \n",
       "3                                  391.0               4481.0   \n",
       "4                                   84.0               1198.0   \n",
       "5                                  196.0               1523.0   \n",
       "6                                33608.0              15972.0   \n",
       "7                                   96.0               1516.0   \n",
       "8                                  947.0               4931.0   \n",
       "9                                 1448.0               9524.0   \n",
       "10                               42921.0              71214.0   \n",
       "\n",
       "    fraction of tested genes with lead QTL  \\\n",
       "0                                 0.027039   \n",
       "1                                 0.012633   \n",
       "2                                 0.046710   \n",
       "3                                 0.012274   \n",
       "4                                 0.009182   \n",
       "5                                 0.020355   \n",
       "6                                 0.329326   \n",
       "7                                 0.018470   \n",
       "8                                 0.059623   \n",
       "9                                 0.025514   \n",
       "10                                0.561127   \n",
       "\n",
       "    fraction variants that are lead QTL  \\\n",
       "0                              0.119565   \n",
       "1                              0.059337   \n",
       "2                              0.094984   \n",
       "3                              0.072231   \n",
       "4                              0.101124   \n",
       "5                              0.132653   \n",
       "6                              0.121608   \n",
       "7                              0.187500   \n",
       "8                              0.074853   \n",
       "9                              0.123882   \n",
       "10                             1.087737   \n",
       "\n",
       "    fraction NR variants that are lead QTL  \n",
       "0                                 0.119565  \n",
       "1                                 0.059337  \n",
       "2                                 0.154897  \n",
       "3                                 0.109974  \n",
       "4                                 0.107143  \n",
       "5                                 0.132653  \n",
       "6                                 0.121608  \n",
       "7                                 0.187500  \n",
       "8                                 0.190074  \n",
       "9                                 0.124309  \n",
       "10                                1.307061  "
      ]
     },
     "execution_count": 436,
     "metadata": {},
     "output_type": "execute_result"
    }
   ],
   "source": [
    "summary_numbers_th.reset_index()"
   ]
  },
  {
   "cell_type": "code",
   "execution_count": 155,
   "metadata": {
    "collapsed": false
   },
   "outputs": [
    {
     "name": "stdout",
     "output_type": "stream",
     "text": [
      "top_hits_combined_filt5 = pd.read_pickle('/frazer01/projects/hipsci/analysis/i2QTL-sv-analysis/private_output/eqtl_processing/qtl_results_01_17_v4/top_hits_combined_filt5.pkl')\n",
      "top_hits_combined_filt5 = pd.read_csv('/frazer01/projects/hipsci/analysis/i2QTL-sv-analysis/private_output/eqtl_processing/qtl_results_01_17_v4/top_hits_combined_filt5.tsv', sep='\\t')\n",
      "\n",
      "all_qtls_combined_filt5 = pd.read_pickle('/frazer01/projects/hipsci/analysis/i2QTL-sv-analysis/private_output/eqtl_processing/qtl_results_01_17_v4/all_qtls_combined_filt5.pkl')\n",
      "all_qtls_combined_filt5 = pd.read_csv('/frazer01/projects/hipsci/analysis/i2QTL-sv-analysis/private_output/eqtl_processing/qtl_results_01_17_v4/all_qtls_combined_filt5.tsv', sep='\\t')\n",
      "\n",
      "summary_numbers_all5 = pd.read_pickle('/frazer01/projects/hipsci/analysis/i2QTL-sv-analysis/private_output/eqtl_processing/qtl_results_01_17_v4/summary_numbers_all5.pkl')\n",
      "summary_numbers_all5 = pd.read_csv('/frazer01/projects/hipsci/analysis/i2QTL-sv-analysis/private_output/eqtl_processing/qtl_results_01_17_v4/summary_numbers_all5.tsv', sep='\\t')\n",
      "\n",
      "summary_numbers_th5 = pd.read_pickle('/frazer01/projects/hipsci/analysis/i2QTL-sv-analysis/private_output/eqtl_processing/qtl_results_01_17_v4/summary_numbers_th5.pkl')\n",
      "summary_numbers_th5 = pd.read_csv('/frazer01/projects/hipsci/analysis/i2QTL-sv-analysis/private_output/eqtl_processing/qtl_results_01_17_v4/summary_numbers_th5.tsv', sep='\\t')\n"
     ]
    }
   ],
   "source": [
    "CM.save_dataframe('top_hits_combined_filt5', top_hit_all, outdir, print_vars_recorded_loc=False)\n",
    "print\n",
    "CM.save_dataframe('all_qtls_combined_filt5', all_qtls_filt, outdir, print_vars_recorded_loc=False)\n",
    "print\n",
    "CM.save_dataframe('summary_numbers_all5',summary_numbers_all, outdir, print_vars_recorded_loc=False)\n",
    "print\n",
    "CM.save_dataframe('summary_numbers_th5',summary_numbers_th, outdir, print_vars_recorded_loc=False)"
   ]
  },
  {
   "cell_type": "code",
   "execution_count": 133,
   "metadata": {
    "collapsed": false
   },
   "outputs": [
    {
     "name": "stdout",
     "output_type": "stream",
     "text": [
      "1839640 1\n",
      "1839640 2\n",
      "1839640 3\n",
      "1839640 4\n",
      "1839640 5\n",
      "1839640 6\n",
      "\n",
      "Call:\n",
      "qvalue(p = pvals, fdr.level = 0.05)\n",
      "\n",
      "pi0:\t0.3997283\t\n",
      "\n",
      "Cumulative number of significant calls:\n",
      "\n",
      "          <1e-04 <0.001 <0.01 <0.025 <0.05 <0.1    <1\n",
      "p-value     3408   4111  5282   6031  6859 7969 16018\n",
      "q-value     3238   3953  5133   5960  6966 8527 16018\n",
      "local FDR   2642   3152  3900   4328  4772 5413 14842\n",
      "\n"
     ]
    }
   ],
   "source": [
    "top_hit_all, all_qtls_filt, all_qtls = process_qtl_data(fn_top_combined, fn_all_combined, \n",
    "                                                        info_cat_per_gene_all, \n",
    "                                                        info_unfilt_pass_rna_398, info_var_gene_wide, \n",
    "                                                        gene_types, mappings = False, \n",
    "                                                        genes_filt = g_filt_05, fdr_thresh= 0.1)"
   ]
  },
  {
   "cell_type": "markdown",
   "metadata": {},
   "source": [
    "# Post Processing With More annotations"
   ]
  },
  {
   "cell_type": "code",
   "execution_count": 195,
   "metadata": {
    "collapsed": true
   },
   "outputs": [],
   "source": [
    "def annotate_var_egene_loops(var_egene, info_var_annot_nnref1_dl):\n",
    "    '''add cat saying does the variant hit ANY distal to tested gene\n",
    "    as opposed to is a loop for that specific egene hit by the variant\n",
    "    -for a per variant approach this is neccessary, as variants will be double counted\n",
    "    as both hitting and not hitting the loop'''\n",
    "    \n",
    "    \n",
    "    var_egene['min_dist_pc_anchor'] = var_egene['min_inside_distal\tmin_outside_distal'.split()].min(axis =1)\n",
    "    var_egene['min_prox_pc_anchor'] = var_egene['min_inside_proximal min_outside_proximal'.split()].min(axis =1)\n",
    " \n",
    "    var_egene['int_distal_pc_5kb'] = (var_egene[['min_inside_distal', \n",
    "                                                 'min_outside_distal']].min(axis = 1)\n",
    "                                      < 5000)\n",
    "    var_egene['int_distal_pc_10kb'] = (var_egene[['min_inside_distal', \n",
    "                                                  'min_outside_distal']].min(axis = 1)\n",
    "                                       < 10000)\n",
    "    try:\n",
    "        w_cat = var_egene.groupby('Non_Redundant_ID').int_distal_pc_5kb.value_counts().loc[:,True]\n",
    "    except:\n",
    "        w_cat = []\n",
    "    var_egene['int_distal_pc_5kb_any'] = var_egene.Non_Redundant_ID.isin(w_cat.index.tolist())\n",
    "    \n",
    "    try:\n",
    "        w_cat = var_egene.groupby('Non_Redundant_ID').int_distal_pc_10kb.value_counts().loc[:,True]\n",
    "    except:\n",
    "        w_cat = []\n",
    "    var_egene['int_distal_pc_10kb_any'] = var_egene.Non_Redundant_ID.isin(w_cat.index.tolist())\n",
    "    sd_dict = info_var_annot_nnref1_dl.seg_dupe.to_dict()\n",
    "    var_egene['seg_dupe']= var_egene.snp_id.apply(lambda x: sd_dict[x])\n",
    "    \n",
    "    # condense SVTYPEs \n",
    "    \n",
    "    convert = {'LINE1':'MEI', 'SVA': 'MEI', 'ALU': 'MEI'}\n",
    "    var_egene['SVTYPE_NR_C'] = var_egene.SVTYPE_NR.apply(lambda x: convert.get(x,x))\n",
    "    \n",
    "    return var_egene"
   ]
  },
  {
   "cell_type": "code",
   "execution_count": 196,
   "metadata": {
    "collapsed": true
   },
   "outputs": [],
   "source": [
    "def prep_var_egene_df(var_egene, pc_distance_summary, var_nnref1_intersect_dragon_slop_1kb,  \n",
    "                     var_nnref1_closest_dragon):\n",
    "    \n",
    "    \n",
    "    def replace_names(x, cats, replace):\n",
    "        if x in cats:\n",
    "            return replace\n",
    "        else:\n",
    "            return x\n",
    "        \n",
    "        \n",
    "    def lambda_top_cat(x, cats_ordered):\n",
    "        for c in cats_ordered:\n",
    "            if c in x:\n",
    "                return c\n",
    "            \n",
    "    genic_cats_sorted = ['contains_gene', 'contains_exon', 'intersects_exon', \n",
    "                     'intersects_promoter', 'intersects_intron', 'intergenic']\n",
    "    \n",
    "#     var_egene = var_egene.set_index('gene_var_id', drop = False) \n",
    "#     var_egene = var_egene.join(tss_dist.set_index('gene_var_id')[['dist_tss', 'dist_tss_abs']])\n",
    "    categories_at_gene = var_egene[var_egene.significant==True].groupby('feature_id').genic_category_variant.apply(lambda x: set(x))\n",
    "    top_category_gene = categories_at_gene.apply(lambda x: lambda_top_cat(x, genic_cats_sorted))\n",
    "    d = top_category_gene.to_dict()\n",
    "    var_egene['top_genic_category_gene'] = var_egene.feature_id.apply(lambda x: d.get(x, 'not_egene'))\n",
    "    egenes = var_egene[var_egene.top_hit_final_sig == True].feature_id.unique().tolist()\n",
    "    var_egene['is_egene'] = var_egene.feature_id.isin(egenes)\n",
    "    \n",
    "    \n",
    "    \n",
    "    # consolidate egene_category and super_category\n",
    "    var_egene['genic_category_consolidated'] = var_egene['genic_category_variant'].apply(lambda x: '{}_eGene'.format(x))\n",
    "    inds = var_egene[var_egene.genic_category_variant == 'intergenic'].index.tolist()\n",
    "    var_egene.loc[inds, 'genic_category_consolidated'] = var_egene.loc[inds, 'super_category'].apply(lambda x: '{}_other'.format(x)).tolist()\n",
    "    inds = var_egene[var_egene.genic_category_consolidated == 'intergenic_other'].index.tolist()\n",
    "    var_egene.loc[inds, 'genic_category_consolidated'] = var_egene.loc[inds, 'genic_category_consolidated'].apply(lambda x: x.replace('_other', '')).tolist()\n",
    "    \n",
    "    \n",
    "    collapse_categories_dict = {'intersects_promoter_other': 'promoter_other', \n",
    "                            'contains_gene_other': 'exonic_other', 'intersects_exon_other': 'exonic_other',\n",
    "                            'contains_exon_other':'exonic_other', 'intersects_intron_other': 'intronic_other',\n",
    "                            'intersects_promoter_eGene': 'promoter_eGene', \n",
    "                            'contains_gene_eGene': 'exonic_eGene', 'intersects_exon_eGene': 'exonic_eGene',\n",
    "                            'contains_exon_eGene':'exonic_eGene', 'intersects_intron_eGene': 'intronic_eGene'}\n",
    "                 \n",
    "    \n",
    "    \n",
    "    var_egene['genic_category_collapsed'] = var_egene.genic_category_consolidated.apply(lambda x:\n",
    "                                                                                    collapse_categories_dict.get(x,\n",
    "                                                                                                                 x))\n",
    "    \n",
    "    other_cats = ['promoter_other', 'intronic_other', 'exonic_other']\n",
    "    var_egene['genic_category_eGene'] = var_egene.genic_category_collapsed.apply(lambda x:\n",
    "                                                                                 replace_names(x,other_cats,\n",
    "                                                                                            'intersects_other_gene'))\n",
    "\n",
    "\n",
    "    var_egene['intersects_dragon_enh'] = var_egene.snp_id.isin(var_nnref1_intersect_dragon_slop_1kb.ID.tolist())\n",
    "    var_egene['ALL_VARS'] = 'ALL_VARS'\n",
    "    var_egene = var_egene.merge(var_nnref1_closest_dragon[['name', 'distance_dragon_enh']], left_on= 'snp_id', \n",
    "                            right_on = 'name', how = 'left')\n",
    "    \n",
    "    cols = 'gene_id_mod\tsnp_id min_inside_distal min_inside_proximal min_outside_distal min_outside_proximal var_inside_and_outside\tvar_inside_only\tvar_outside_only\tbin_dist_inside_distal\tbin_dist_outside_distal\tbin_dist_overall_loop\tcloser_to_inside_proximal category_min bin_dist_up_and_down'.split()\n",
    "    var_egene = var_egene.merge(pc_distance_summary[cols], left_on = ['feature_id', 'snp_id'], \n",
    "                                right_on = ['gene_id_mod', 'snp_id'], how = 'left')   \n",
    "    \n",
    "    var_egene.bin_log10_SVLEN_DS_RANGE_capped = var_egene.bin_log10_SVLEN_DS_RANGE_capped.apply(lambda x: 'len_{}'.format(round(x,1)))\n",
    "    \n",
    "    inds = var_egene[var_egene.min_inside_proximal == 0].index.tolist()\n",
    "    var_egene.loc[inds, 'category_min'] = 'inside_proximal'\n",
    "    var_egene['near_distal_loop'] = var_egene.category_min.isin(['outside_distal', 'inside_distal'])\n",
    "    var_egene['inside_distal_loop'] = (var_egene.category_min == 'inside_distal')\n",
    "    \n",
    "    return var_egene"
   ]
  },
  {
   "cell_type": "code",
   "execution_count": 197,
   "metadata": {
    "collapsed": true
   },
   "outputs": [],
   "source": [
    "var_egene = pd.read_pickle('/frazer01/projects/hipsci/analysis/i2QTL-sv-analysis/private_output/eqtl_processing/qtl_results_01_17_v4/all_qtls_combined_filt5.pkl')\n",
    "pc_distance_summary = pd.read_pickle('/frazer01/projects/hipsci/analysis/i2QTL-sv-analysis/private_output/distance_to_loop_anchors/pc_distance_summary_sv_maf5_v2.pkl')\n",
    "var_nnref1_intersect_dragon_slop_1kb = pd.read_pickle('/frazer01/projects/hipsci/analysis/i2QTL-sv-analysis/private_output/annotate_regulatory_elements/var_nnref1_intersect_dragon_slop_1kb.pkl')\n",
    "var_nnref1_closest_dragon = pd.read_pickle('/frazer01/projects/hipsci/analysis/i2QTL-sv-analysis/private_output/annotate_regulatory_elements/var_nnref1_closest_dragon.pkl')"
   ]
  },
  {
   "cell_type": "code",
   "execution_count": 198,
   "metadata": {
    "collapsed": true
   },
   "outputs": [],
   "source": [
    "var_egene_annot = var_egene.pipe(prep_var_egene_df, \n",
    "                                 pc_distance_summary, var_nnref1_intersect_dragon_slop_1kb,\n",
    "                                 var_nnref1_closest_dragon)"
   ]
  },
  {
   "cell_type": "code",
   "execution_count": 199,
   "metadata": {
    "collapsed": true
   },
   "outputs": [],
   "source": [
    "var_egene_annot = var_egene_annot.pipe(annotate_var_egene_loops, info_unfilt_pass_rna_398)"
   ]
  },
  {
   "cell_type": "markdown",
   "metadata": {},
   "source": [
    "# Add GWAS and Per Variant Summary"
   ]
  },
  {
   "cell_type": "code",
   "execution_count": 200,
   "metadata": {
    "collapsed": true
   },
   "outputs": [],
   "source": [
    "def prep_gene_types_info(df):\n",
    "    df = df.copy()\n",
    "    df['gene_id_mod'] = df.gene_id.apply(lambda x: x.split('.')[0])\n",
    "    df = df.set_index('gene_id_mod', drop = False)\n",
    "    return df"
   ]
  },
  {
   "cell_type": "code",
   "execution_count": 201,
   "metadata": {
    "collapsed": true
   },
   "outputs": [],
   "source": [
    "def extract_per_variant_df(var_egene, gwas, info_all):\n",
    "    print var_egene.shape[0]\n",
    "    var_egene['has_gwas'] = var_egene.snp_id.isin(gwas.index.unique())\n",
    "#     gwas['assoc_set'] = gwas['DISEASE_MOD']\n",
    "#     cols = 'SV\tPearson_r\tPearson_r2\tCHR\trsID_POS\tsv_POS\tDISEASE_MOD\tassoc_set'.split()\n",
    "    \n",
    "    var_egene = var_egene.merge(gwas.to_frame('assoc_set'), left_on= 'snp_id', right_index = True, how = 'left')\n",
    "    \n",
    "    print var_egene.shape[0]\n",
    "    \n",
    "    inds = var_egene[var_egene.assoc_set.isnull() == True].index.tolist()\n",
    "    var_egene.loc[inds, 'assoc_set'] = [{} for i in range(len(inds))]\n",
    "    \n",
    "    \n",
    "    nr_ids = var_egene.Non_Redundant_ID.unique().tolist()\n",
    "    sig_assoc = var_egene[var_egene.significant==True].Non_Redundant_ID.unique().tolist()\n",
    "    th_assoc = var_egene[var_egene.top_hit_final_sig==True].Non_Redundant_ID.unique().tolist()\n",
    "    \n",
    "    per_var_info = pd.DataFrame(index = nr_ids)\n",
    "    per_var_info['significant_association'] = per_var_info.index.isin(sig_assoc)\n",
    "    per_var_info['lead_association'] = per_var_info.index.isin(th_assoc)\n",
    "    \n",
    "    \n",
    "    num_egenes_total = (var_egene[var_egene.significant==True]\n",
    "                    .groupby('Non_Redundant_ID').feature_id.apply(lambda x: len(set(x))))\n",
    "    num_egenes_th = (var_egene[var_egene.top_hit_final_sig]\n",
    "                 .groupby('Non_Redundant_ID').feature_id.apply(lambda x: len(set(x))))\n",
    "    num_genes_tested = var_egene.groupby('Non_Redundant_ID').feature_id.apply(lambda x: len(set(x)))\n",
    "    thresh = 10000\n",
    "    num_genes_tested_loop = (var_egene[(var_egene.min_dist_pc_anchor < thresh) & \n",
    "                                      (var_egene.closer_to_inside_proximal == \n",
    "                                       False)].groupby('Non_Redundant_ID').feature_id.unique().apply(len))\n",
    "    num_egenes_loop = var_egene[(var_egene.min_dist_pc_anchor < thresh) \n",
    "                                & (var_egene.significant==True) & \n",
    "                                (var_egene.closer_to_inside_proximal ==\n",
    "                                 False)].groupby('Non_Redundant_ID').feature_id.unique().apply(len)\n",
    "\n",
    "    num_egenes_loop_th =  var_egene[(var_egene.min_dist_pc_anchor < thresh) & (var_egene.top_hit_final_sig==True) & (var_egene.closer_to_inside_proximal == False)].groupby('Non_Redundant_ID').feature_id.unique().apply(len)\n",
    "    \n",
    "    per_var_info = per_var_info.join(num_genes_tested_loop.to_frame('num_genes_tested_loop'), \n",
    "                                 lsuffix='_loop', rsuffix= '')\n",
    "    per_var_info = per_var_info.join(num_egenes_loop.to_frame('num_egenes_loop'), lsuffix='_loop', rsuffix= '')\n",
    "    per_var_info = per_var_info.join(num_egenes_loop_th.to_frame('num_egenes_loop_th'), lsuffix='_loop', rsuffix= '')\n",
    "    per_var_info = per_var_info.join(num_egenes_total.to_frame('num_egenes'), lsuffix='_loop', rsuffix= '')\n",
    "    per_var_info = per_var_info.join(num_egenes_th.to_frame('num_egenes_lead'), lsuffix='_loop', rsuffix= '')\n",
    "    per_var_info = per_var_info.join(num_genes_tested.to_frame('num_genes_tested'), lsuffix='_loop', rsuffix= '')\n",
    "    assoc = var_egene.groupby('Non_Redundant_ID').assoc_set.apply(lambda x: list(x))\n",
    "    assoc = assoc.apply(lambda x: set(CM.flatten_list(map(list, x))))\n",
    "    per_var_info = per_var_info.join(assoc.to_frame('association'))\n",
    "    \n",
    "    \n",
    "    inds = var_egene[var_egene.has_gwas].Non_Redundant_ID.unique()\n",
    "    per_var_info['has_gwas'] = per_var_info.index.isin(inds)\n",
    "\n",
    "    cols = 'num_egenes\tnum_egenes_lead'.split()\n",
    "    per_var_info[cols] = per_var_info[cols].fillna(0)\n",
    "\n",
    "    cols = 'num_egenes_loop\tnum_egenes_loop_th'.split()\n",
    "    per_var_info[cols] = per_var_info[cols].fillna(0)\n",
    "\n",
    "    t = info_all[['SVTYPE_NR', 'Non_Redundant_ID']].drop_duplicates().set_index('Non_Redundant_ID')\n",
    "    per_var_info = per_var_info.join(t)\n",
    "    per_var_info['ALL_VARS'] = 'ALL_VARS'\n",
    "    per_var_info['Non_Redundant_ID'] = per_var_info.index\n",
    "    return var_egene, per_var_info"
   ]
  },
  {
   "cell_type": "code",
   "execution_count": 202,
   "metadata": {
    "collapsed": true
   },
   "outputs": [],
   "source": [
    "def lambda_int_str(x):\n",
    "    try:\n",
    "        out = int(x)\n",
    "    except:\n",
    "        out = copy.deepcopy(x)\n",
    "    return str(out)"
   ]
  },
  {
   "cell_type": "code",
   "execution_count": 203,
   "metadata": {
    "collapsed": true
   },
   "outputs": [],
   "source": [
    "def prep_gwas_all(gwas_all, gwas_locs):\n",
    "    gwas_all['P-VALUE'] = gwas_all['P-VALUE'].astype(float)\n",
    "    gwas_all = gwas_all[gwas_all['P-VALUE'] < 5e-8]\n",
    "    gwas_all = gwas_all[gwas_all.SNP_ID_CURRENT.isnull() == False]\n",
    "    gwas_all['rsID'] = gwas_all.SNP_ID_CURRENT.apply(lambda x: 'rs{}'.format(lambda_int_str(x)))\n",
    "    gwas_all = gwas_all[gwas_all.rsID.isin(gwas_locs.rsID.tolist())]\n",
    "    return gwas_all"
   ]
  },
  {
   "cell_type": "code",
   "execution_count": 204,
   "metadata": {
    "collapsed": true
   },
   "outputs": [],
   "source": [
    "def prep_info_pass_for_merge_pv(info):\n",
    "    info = info.copy()\n",
    "    info['chrom'] = info.CHROM.apply(lambda x: \"chr{}\".format(str(x)))\n",
    "    c1 =['NR_ID', 'ID', 'CALLER', 'NMODE_all_rna', 'NMODE_AF_all_rna', 'SVTYPE_all_rna','ALLELES_DIST_DICT_all_rna', 'SUBTYPE_all_rna', 'MIN_ALLELE_all_rna', 'MAX_ALLELE_all_rna', 'ALLELES_all_rna']\n",
    "\n",
    "    c2 = [u'SVLEN', u'MAX_ALLELE_CHANGE',\n",
    "       u'ALLELE_DIFF', u'SVLEN_DS_RANGE', u'MHC', u'VDJ', u'centromere',\n",
    "       u'seg_dupe', u'pseudo_auto', u'is_SVLEN', u'log10_SVLEN',\n",
    "       u'log10_SVLEN_DS_RANGE', u'bin_log10_SVLEN', u'bin_log10_SVLEN_capped',\n",
    "       u'bin_log10_SVLEN_DS_RANGE', u'bin_log10_SVLEN_DS_RANGE_capped',\n",
    "       u'super_category', u'genes_affected', u'num_genes_affected',\n",
    "       u'start_variant', u'end_variant', u'ucsc_coords', u'chrom']\n",
    "\n",
    "    tdf = info[c1 + c2]\n",
    "    tdf.columns = map(lambda x: x.replace('_all_rna', ''), tdf.columns.tolist())\n",
    "    return tdf"
   ]
  },
  {
   "cell_type": "code",
   "execution_count": 205,
   "metadata": {
    "collapsed": true
   },
   "outputs": [],
   "source": [
    "fn = '/projects/hipsci/analysis/GWAS_r2/data/gwas_SNPs_locs.txt'\n",
    "gwas_locs = pd.read_table(fn, names = ['CHROM', 'POS', 'rsID'])"
   ]
  },
  {
   "cell_type": "code",
   "execution_count": 206,
   "metadata": {
    "collapsed": false
   },
   "outputs": [
    {
     "name": "stderr",
     "output_type": "stream",
     "text": [
      "/frazer01/home/djakubosky/software/anaconda/lib/python2.7/site-packages/IPython/core/interactiveshell.py:2723: DtypeWarning: Columns (23,27) have mixed types. Specify dtype option on import or set low_memory=False.\n",
      "  interactivity=interactivity, compiler=compiler, result=result)\n"
     ]
    }
   ],
   "source": [
    "fn = '/publicdata/gwas_catalog_20181221/gwas_catalog_v1.0.2-associations_e93_r2018-12-21.tsv'\n",
    "gwas_all = pd.read_table(fn).pipe(prep_gwas_all, gwas_locs)\n",
    "gwas_all['DISEASE_TRAIT_MOD'] = gwas_all['DISEASE/TRAIT'].apply(lambda x: x.replace(',', ' '))\n",
    "\n",
    "c = ['DISEASE/TRAIT','DISEASE_TRAIT_MOD']\n",
    "tdf = gwas_all[c].drop_duplicates()\n",
    "d = tdf.set_index('DISEASE/TRAIT').to_dict()\n",
    "fns = glob.glob('/projects/hipsci/analysis/GWAS_r2/data/SNP_SV_r2_V02/GWAS_SV_r2_chr*_80.txt')\n",
    "gwas = pd.concat([pd.read_table(i) for i in fns])\n",
    "t = gwas_all.groupby('rsID').DISEASE_TRAIT_MOD.apply(lambda x: set(list(x)))\n",
    "gwas['DISEASE_MOD'] = gwas.rsID.apply(lambda x: t[x])"
   ]
  },
  {
   "cell_type": "code",
   "execution_count": 209,
   "metadata": {
    "collapsed": true
   },
   "outputs": [],
   "source": [
    "assoc_per_var = gwas.groupby('SV')['DISEASE.TRAIT'].apply(lambda x: set(list(x)))\n",
    "info_unfilt_pass_rna_398['Non_Redundant_ID'] = info_unfilt_pass_rna_398.NR_ID"
   ]
  },
  {
   "cell_type": "code",
   "execution_count": 210,
   "metadata": {
    "collapsed": false
   },
   "outputs": [
    {
     "name": "stdout",
     "output_type": "stream",
     "text": [
      "630982\n",
      "630982\n"
     ]
    }
   ],
   "source": [
    "var_egene_annot, per_var_info = extract_per_variant_df(var_egene_annot, assoc_per_var, info_unfilt_pass_rna_398)"
   ]
  },
  {
   "cell_type": "code",
   "execution_count": 213,
   "metadata": {
    "collapsed": true
   },
   "outputs": [],
   "source": [
    "tdf = info_unfilt_pass_rna_398.pipe(prep_info_pass_for_merge_pv)"
   ]
  },
  {
   "cell_type": "code",
   "execution_count": 214,
   "metadata": {
    "collapsed": true
   },
   "outputs": [],
   "source": [
    "per_var_info = per_var_info.merge(tdf, left_index=True, right_on= 'ID', how = 'left')"
   ]
  },
  {
   "cell_type": "code",
   "execution_count": 215,
   "metadata": {
    "collapsed": false
   },
   "outputs": [
    {
     "name": "stdout",
     "output_type": "stream",
     "text": [
      "per_variant_info_sv_only = pd.read_pickle('/frazer01/projects/hipsci/analysis/i2QTL-sv-analysis/private_output/eqtl_processing/qtl_results_01_17_v4/per_variant_info_sv_only.pkl')\n",
      "per_variant_info_sv_only = pd.read_csv('/frazer01/projects/hipsci/analysis/i2QTL-sv-analysis/private_output/eqtl_processing/qtl_results_01_17_v4/per_variant_info_sv_only.tsv', sep='\\t')\n"
     ]
    }
   ],
   "source": [
    "CM.save_dataframe('per_variant_info_sv_only', per_var_info, outdir, \n",
    "                  print_vars_recorded_loc=False)"
   ]
  },
  {
   "cell_type": "code",
   "execution_count": 216,
   "metadata": {
    "collapsed": false
   },
   "outputs": [
    {
     "name": "stdout",
     "output_type": "stream",
     "text": [
      "var_egene_annot_maf5_sv_only = pd.read_pickle('/frazer01/projects/hipsci/analysis/i2QTL-sv-analysis/private_output/eqtl_processing/qtl_results_01_17_v4/var_egene_annot_maf5_sv_only.pkl')\n",
      "var_egene_annot_maf5_sv_only = pd.read_csv('/frazer01/projects/hipsci/analysis/i2QTL-sv-analysis/private_output/eqtl_processing/qtl_results_01_17_v4/var_egene_annot_maf5_sv_only.tsv', sep='\\t')\n"
     ]
    }
   ],
   "source": [
    "CM.save_dataframe('var_egene_annot_maf5_sv_only', var_egene_annot, outdir, \n",
    "                  print_vars_recorded_loc=False)"
   ]
  },
  {
   "cell_type": "markdown",
   "metadata": {},
   "source": [
    "# Joint processing"
   ]
  },
  {
   "cell_type": "code",
   "execution_count": 110,
   "metadata": {
    "collapsed": true
   },
   "outputs": [],
   "source": [
    "def prep_info_pass_for_merge_joint(info):\n",
    "    info = info.copy()\n",
    "    c1 =['NR_ID', 'ID', 'CALLER', 'NMODE_all_rna', 'NMODE_AF_all_rna', 'SVTYPE_all_rna', 'SVTYPE_NR', 'ALLELES_DIST_DICT_all_rna', 'SUBTYPE_all_rna', 'MIN_ALLELE_all_rna', 'MAX_ALLELE_all_rna']\n",
    "\n",
    "    c2 = [u'SVLEN', u'MAX_ALLELE_CHANGE',\n",
    "       u'ALLELE_DIFF', u'SVLEN_DS_RANGE', u'MHC', u'VDJ', u'centromere',\n",
    "       u'seg_dupe', u'pseudo_auto', u'is_SVLEN', u'log10_SVLEN',\n",
    "       u'log10_SVLEN_DS_RANGE', u'bin_log10_SVLEN', u'bin_log10_SVLEN_capped',\n",
    "       u'bin_log10_SVLEN_DS_RANGE', u'bin_log10_SVLEN_DS_RANGE_capped',\n",
    "       u'start_variant', u'end_variant', u'ucsc_coords', u'chrom']\n",
    "\n",
    "    tdf = info[c1 + c2]\n",
    "    tdf.columns = map(lambda x: x.replace('_all_rna', ''), tdf.columns.tolist())\n",
    "    return tdf"
   ]
  },
  {
   "cell_type": "code",
   "execution_count": 111,
   "metadata": {
    "collapsed": true
   },
   "outputs": [],
   "source": [
    "def annotate_qtl_data_snp_sv(all_qtls, top, info_cat_per_gene_all, info_all_var, info_var_gene_wide,\n",
    "                      gene_types, mappings = False, genes_filt = False):\n",
    "    all_qtls['gene_var_id'] = all_qtls['feature_id'] + '_' + all_qtls['snp_id']\n",
    "    \n",
    "    all_qtls = all_qtls.drop_duplicates('gene_var_id')\n",
    "    # merge the info onto the top hits df\n",
    "    all_qtls = pd.merge(all_qtls, info_cat_per_gene_all[['gene_id_mod', 'ID', 'genic_category_variant']], how='left', left_on=['feature_id', 'snp_id'], right_on=['gene_id_mod', 'ID'])\n",
    "    \n",
    "\n",
    "    cols = ['ID'] + ' SVTYPE CALLER\tNONREF_AF_ipscore\tALLELES_DIST_ipscore NONREF_AF_hipsci\tALLELES_DIST_hipsci\tNNREF_hipsci NONREF_AF_all_rna\tALLELES_DIST_all_rna\tNNREF_all_rna start_variant end_variant ucsc_coords Non_Redundant_ID SVTYPE_NR'.split()\n",
    "    \n",
    "    info_all_trunc = info_all_var.pipe(prep_info_pass_for_merge_joint)\n",
    "    all_qtls = all_qtls.merge(info_all_trunc, left_on='snp_id', right_on= 'ID', how = 'left')\n",
    "\n",
    "#     all_qtls['genic_category_variant'] = all_qtls['genic_category_variant'].fillna('intergenic')\n",
    "    all_qtls['Non_Redundant_ID'] = all_qtls['NR_ID']\n",
    "    \n",
    "#     all_qtls = all_qtls.merge(info_all_var[cols], left_on='snp_id', right_on= 'ID', how = 'left')\n",
    "    all_qtls.SVTYPE = all_qtls.SVTYPE.fillna('SNP/INDEL')\n",
    "    all_qtls['SVTYPE_NR'] = all_qtls.SVTYPE_NR.fillna('SNP/INDEL')\n",
    "   \n",
    "    \n",
    "    inds = all_qtls[all_qtls.SVTYPE == 'SNP/INDEL'].index.tolist()\n",
    "    \n",
    "\n",
    "    all_qtls.loc[inds, 'start_variant'] = all_qtls.loc[inds, 'snp_id'].apply(lambda x: int(x.split('_')[1]))\n",
    "    all_qtls.loc[inds, 'end_variant'] = all_qtls.loc[inds, 'snp_id'].apply(lambda x: int(x.split('_')[1]))\n",
    "    all_qtls['genic_category_variant'] = all_qtls['genic_category_variant'].fillna('intergenic')\n",
    "    \n",
    "    p_val_sig_all = get_pval_threshold_for_fdr(top)\n",
    "\n",
    "    all_qtls['coding'] = False\n",
    "    inds = all_qtls[all_qtls.genic_category_variant.isin(['contains_gene', 'contains_exon', 'intersects_exon'])].index.tolist()\n",
    "    all_qtls.loc[inds, 'coding'] = True    \n",
    "    all_qtls['significant'] = (all_qtls['empirical_feature_p_value'] < p_val_sig_all)\n",
    "    \n",
    "    all_qtls = correct_betas(all_qtls, info_all_trunc)\n",
    "    all_qtls['top_hit'] = all_qtls.gene_var_id.isin(top.gene_var_id.tolist())\n",
    "    all_qtls['top_hit_final'] = all_qtls.gene_var_id.isin(top[top.fdr_global < 0.1].gene_var_id.tolist())\n",
    "    \n",
    "    \n",
    "    if mappings:\n",
    "        all_qtls['Non_Redundant_ID'] = all_qtls['snp_id'].apply(lambda x: mappings.get(x, x))\n",
    "        \n",
    "    if type(genes_filt) != bool:\n",
    "        all_qtls['in_filtered_genes'] = all_qtls.feature_id.isin(genes_filt.index.tolist())\n",
    "    \n",
    "    all_qtls['gene_distance'] = all_qtls.pipe(dist_lambda, 'start_variant', 'end_variant', \n",
    "                                              'feature_start', 'feature_end')\n",
    "    all_qtls = all_qtls.drop(['ID_x', 'ID_y'], axis = 1)\n",
    "    info_var_gene_wide.index = info_var_gene_wide.ID \n",
    "    all_qtls = all_qtls.merge(info_var_gene_wide[['super_category', 'genes_supercategory', 'num_genes_affected']], left_on= 'snp_id', right_index=True, how = 'left')\n",
    "    \n",
    "    all_qtls = all_qtls.merge(gene_types[['gene_type', 'gene_name']], left_on= 'feature_id', right_index=True, how = 'left')\n",
    "    all_qtls['top_hit_final'] = all_qtls.gene_var_id.isin(top.gene_var_id.tolist())\n",
    "    return all_qtls, p_val_sig_all"
   ]
  },
  {
   "cell_type": "code",
   "execution_count": 112,
   "metadata": {
    "collapsed": true
   },
   "outputs": [],
   "source": [
    "def prep_top_deduplicate(top):\n",
    "    top = top.copy()\n",
    "    top['gene_var_id'] = top['feature_id'] + '_' + top['snp_id']\n",
    "    top = top.drop_duplicates('feature_id')\n",
    "    return top"
   ]
  },
  {
   "cell_type": "code",
   "execution_count": 113,
   "metadata": {
    "collapsed": true
   },
   "outputs": [],
   "source": [
    "def classify_snv_indel(x):\n",
    "    spl = x.split('_')\n",
    "    ref = spl[-2]\n",
    "    alt = spl[-1]\n",
    "    \n",
    "    len_ref = len(ref)\n",
    "    len_alt = len(alt)\n",
    "    \n",
    "    if alt == \"*\":\n",
    "        return 'INDEL'\n",
    "    \n",
    "    elif len_ref == len_alt:\n",
    "        return 'SNV'\n",
    "    \n",
    "    else:\n",
    "        return 'INDEL'"
   ]
  },
  {
   "cell_type": "code",
   "execution_count": 114,
   "metadata": {
    "collapsed": true
   },
   "outputs": [],
   "source": [
    "def classify_indel_change(x):\n",
    "    spl = x.split('_')\n",
    "    ref = spl[-2]\n",
    "    alt = spl[-1]\n",
    "    \n",
    "    len_ref = len(ref)\n",
    "    len_alt = len(alt)\n",
    "    \n",
    "    change = (len_alt - len_ref)\n",
    "    \n",
    "    if alt == \"*\":\n",
    "        return -1 * len_ref\n",
    "    \n",
    "    else:\n",
    "        return change\n",
    "\n",
    "def classify_snv_indel_subcat(x):\n",
    "    if x == 0:\n",
    "        return 'SNV'\n",
    "    if x > 0:\n",
    "        return 'INS'\n",
    "    if x < 0:\n",
    "        return 'DEL'\n",
    "    \n",
    "    return 'missed_case'"
   ]
  },
  {
   "cell_type": "code",
   "execution_count": 115,
   "metadata": {
    "collapsed": true
   },
   "outputs": [],
   "source": [
    "def correct_svtypes_cols(top_hits_filt_gene):\n",
    "    \n",
    "    top_hits_snp_indel = top_hits_filt_gene[top_hits_filt_gene.SVTYPE == 'SNP/INDEL']\n",
    "    top_hits_snp_indel['variant_type'] = top_hits_snp_indel.snp_id.apply(lambda x: classify_snv_indel(x))\n",
    "\n",
    "    inds = top_hits_snp_indel.index.tolist()\n",
    "    top_hits_filt_gene.loc[inds, 'SVTYPE'] = top_hits_snp_indel['variant_type']\n",
    "    top_hits_filt_gene.loc[inds, 'SVTYPE_NR'] = top_hits_filt_gene.SVTYPE\n",
    "    \n",
    "    inds =  top_hits_filt_gene[ top_hits_filt_gene.Non_Redundant_ID.isnull()==True].index.tolist()\n",
    "    top_hits_filt_gene.loc[inds, 'Non_Redundant_ID'] = top_hits_filt_gene.loc[inds, 'snp_id'] \n",
    "    return top_hits_filt_gene"
   ]
  },
  {
   "cell_type": "code",
   "execution_count": 121,
   "metadata": {
    "collapsed": true
   },
   "outputs": [],
   "source": [
    "def process_qtl_data_snp_sv(fn_top, fn_all, info_cat_per_gene_all, info_all_vars, info_var_gene_wide, gene_types,\n",
    "                     mappings = False, genes_filt = False, fdr_thresh = 0.1):\n",
    "    top = pd.read_table(fn_top).pipe(prep_top, genes_filt).pipe(prep_top_deduplicate).pipe(add_fdr)\n",
    "    all_qtls = pd.read_table(fn_all).pipe(prep_top_deduplicate)\n",
    "    all_qtls, p_val_sig = all_qtls.pipe(annotate_qtl_data_snp_sv, top, \n",
    "                         info_cat_per_gene_all, info_all_vars, info_var_gene_wide, gene_types,\n",
    "                         mappings = mappings, genes_filt= genes_filt)\n",
    "#     inds = top[top.fdr_global < fdr_thresh].gene_var_id.tolist()\n",
    "#     th = all_qtls[(all_qtls.top_hit == True) & (all_qtls.gene_var_id.isin(inds)) & \n",
    "#                   (all_qtls.in_filtered_genes == True)]\n",
    "    all_qtls_filt = all_qtls[all_qtls.in_filtered_genes == True]\n",
    "#     th_q = all_qtls[all_qtls.in_filtered_genes == True]\n",
    "    th_q = all_qtls_filt.drop_duplicates(['gene_var_id'])\n",
    "    th_q = th_q.drop_duplicates(['feature_id'])\n",
    "    tdf = qvalue(th_q.empirical_feature_p_value)\n",
    "    th_q = th_q.join(tdf)\n",
    "    th_q['perm_pvalue'] = th_q.perm_pvalue.astype(float)\n",
    "    all_qtls_filt = all_qtls_filt.merge(th_q[['feature_id', 'perm_qvalue', 'perm_sig']], on = 'feature_id', \n",
    "                                        how = 'left')\n",
    "    all_qtls_filt['significant'] = all_qtls_filt.perm_sig\n",
    "    p_val_thresh = tdf[tdf.perm_sig == True].perm_pvalue.max()\n",
    "    \n",
    "    all_qtls_filt['significant'] = (all_qtls_filt.empirical_feature_p_value <= p_val_thresh)\n",
    "    inds = all_qtls_filt[all_qtls_filt.perm_sig].gene_var_id.tolist()\n",
    "    all_qtls_filt['top_hit_final_sig'] = all_qtls_filt.gene_var_id.isin(inds)\n",
    "    all_qtls_filt = all_qtls_filt.pipe(correct_svtypes_cols)\n",
    "    all_qtls_filt = all_qtls_filt.pipe(add_fdr)\n",
    "    \n",
    "    \n",
    "    return all_qtls_filt, all_qtls, p_val_thresh, p_val_sig, th_q"
   ]
  },
  {
   "cell_type": "code",
   "execution_count": null,
   "metadata": {
    "collapsed": true
   },
   "outputs": [],
   "source": []
  },
  {
   "cell_type": "code",
   "execution_count": 117,
   "metadata": {
    "collapsed": true
   },
   "outputs": [],
   "source": [
    "def general_info_th_qtls_snv_indel(all_output, sv_output, info_all_vars):\n",
    "    inds= sv_output.snp_id.unique().tolist()\n",
    "    input_variants = info_all_vars.loc[inds].SVTYPE_NR.value_counts().to_frame('no. variants tested')\n",
    "    input_variants.loc['SNV'] = 20000000\n",
    "    input_variants.loc['INDEL'] = 3000000\n",
    "    \n",
    "    \n",
    "    non_redundant_vars_per_class = sv_output.groupby('VARIANT_TYPE_NR').Non_Redundant_ID.apply(lambda x: len(set(x))).to_frame('unique variants non-redundant tested')\n",
    "    non_redundant_vars_per_class.loc['SNV'] = 20000000\n",
    "    non_redundant_vars_per_class.loc['INDEL'] = 3000000\n",
    "    \n",
    "    \n",
    "    genes_tested_per_class = all_output.groupby('VARIANT_TYPE_NR').feature_id.apply(lambda x: len(set(x))).to_frame('unique genes tested')\n",
    "    top_sig = all_output[(all_output.significant == True) & (all_output.top_hit_final == True)]\n",
    "    t1 = top_sig.VARIANT_TYPE_NR.value_counts().to_frame('Lead_QTLs')\n",
    "\n",
    "    t2 = top_sig.groupby('VARIANT_TYPE_NR').feature_id.apply(lambda x: len(set(x))).to_frame('unique eGenes')\n",
    "\n",
    "    t3 = top_sig.groupby('VARIANT_TYPE_NR').snp_id.apply(lambda x: len(set(x))).to_frame('unique eVariants')\n",
    "\n",
    "    t4 = top_sig.groupby('VARIANT_TYPE_NR').Non_Redundant_ID.apply(lambda x: len(set(x))).to_frame('unique eVariants Non Redundant')\n",
    "    \n",
    "    general_numbers_fdr10 = pd.concat([t1, t2, t3, t4, input_variants, non_redundant_vars_per_class,\n",
    "                                   genes_tested_per_class], axis = 1)\n",
    "\n",
    "    general_numbers_fdr10['fraction of tested genes with lead QTL'] = general_numbers_fdr10['unique eGenes'] / general_numbers_fdr10['unique genes tested']\n",
    "\n",
    "    general_numbers_fdr10['fraction variants that are lead QTL'] = general_numbers_fdr10['unique eVariants']/ general_numbers_fdr10['no. variants tested'] \n",
    "\n",
    "    general_numbers_fdr10['fraction NR variants that are lead QTL'] = general_numbers_fdr10['unique eVariants Non Redundant']/ general_numbers_fdr10['unique variants non-redundant tested'] \n",
    "    \n",
    "    general_numbers_fdr10.loc['total'] = general_numbers_fdr10.sum(axis = 0)\n",
    "    \n",
    "    return general_numbers_fdr10"
   ]
  },
  {
   "cell_type": "code",
   "execution_count": 118,
   "metadata": {
    "collapsed": true
   },
   "outputs": [],
   "source": [
    "def annotate_snv_indel(snv_indel_top_all):\n",
    "    snv_indel = snv_indel_top_all[snv_indel_top_all.CALLER.isnull() == True]\n",
    "\n",
    "    snv_indel['CHANGE'] = snv_indel.snp_id.apply(lambda x: classify_indel_change(x))\n",
    "    snv_indel['VARIANT_SUBTYPE'] = snv_indel.CHANGE.apply(lambda x: classify_snv_indel_subcat(x))\n",
    "    snv_indel['CALLER'] = 'GATK'\n",
    "\n",
    "    snv_indel['start_variant'] =  snv_indel.snp_id.apply(lambda x: x.split('_')[1]).astype(int)\n",
    "    snv_indel['end_variant'] =  snv_indel.start_variant\n",
    "    snv_indel['VARIANT_TYPE'] = snv_indel.snp_id.apply(lambda x: classify_snv_indel(x))\n",
    "    snv_indel['VARIANT_SUBCLASS'] = snv_indel.VARIANT_TYPE + snv_indel.VARIANT_SUBTYPE.apply(lambda x: \"_{}\".format(x).replace('_SNV', ''))\n",
    "    snv_indel['adjust'] = 0\n",
    "    inds = snv_indel[snv_indel.VARIANT_SUBTYPE == 'DEL'].index.tolist()\n",
    "    snv_indel.loc[inds, 'adjust'] = snv_indel.loc[inds, 'CHANGE'].abs()\n",
    "    snv_indel['end_variant'] = snv_indel.end_variant + snv_indel.adjust\n",
    "\n",
    "    snv_indel['ref'] = snv_indel.snp_id.apply(lambda x: x.split('_')[-2])\n",
    "    snv_indel['alt'] = snv_indel.snp_id.apply(lambda x: x.split('_')[-1])\n",
    "\n",
    "    snv_indel['chrom'] = 'chr' + snv_indel.feature_chromosome.astype(str)\n",
    "    \n",
    "    return snv_indel"
   ]
  },
  {
   "cell_type": "code",
   "execution_count": 119,
   "metadata": {
    "collapsed": true
   },
   "outputs": [],
   "source": [
    "def annot_super_cats(var_egene):\n",
    "    var_egene['genic_category_consolidated'] = var_egene['genic_category_variant'].apply(lambda x: '{}_eGene'.format(x))\n",
    "    inds = var_egene[var_egene.genic_category_variant == 'intergenic'].index.tolist()\n",
    "    var_egene.loc[inds, 'genic_category_consolidated'] = var_egene.loc[inds, 'super_category'].apply(lambda x: '{}_other'.format(x)).tolist()\n",
    "    inds = var_egene[var_egene.genic_category_consolidated == 'intergenic_other'].index.tolist()\n",
    "    var_egene.loc[inds, 'genic_category_consolidated'] = var_egene.loc[inds, 'genic_category_consolidated'].apply(lambda x: x.replace('_other', '')).tolist()\n",
    "    \n",
    "    \n",
    "    collapse_categories_dict = {'intersects_promoter_other': 'promoter_other', \n",
    "                            'contains_gene_other': 'exonic_other', 'intersects_exon_other': 'exonic_other',\n",
    "                            'contains_exon_other':'exonic_other', 'intersects_intron_other': 'intronic_other',\n",
    "                            'intersects_promoter_eGene': 'promoter_eGene', \n",
    "                            'contains_gene_eGene': 'exonic_eGene', 'intersects_exon_eGene': 'exonic_eGene',\n",
    "                            'contains_exon_eGene':'exonic_eGene', 'intersects_intron_eGene': 'intronic_eGene'}\n",
    "\n",
    "\n",
    "\n",
    "    var_egene['genic_category_collapsed'] = var_egene.genic_category_consolidated.apply(lambda x:\n",
    "                                                                            collapse_categories_dict.get(x,x))\n",
    "    return var_egene"
   ]
  },
  {
   "cell_type": "code",
   "execution_count": 70,
   "metadata": {
    "collapsed": false
   },
   "outputs": [
    {
     "name": "stdout",
     "output_type": "stream",
     "text": [
      "\n",
      "Call:\n",
      "qvalue(p = pvals, fdr.level = 0.05)\n",
      "\n",
      "pi0:\t0.2407432\t\n",
      "\n",
      "Cumulative number of significant calls:\n",
      "\n",
      "          <1e-04 <0.001 <0.01 <0.025 <0.05  <0.1    <1\n",
      "p-value     6230   7158  8377   9048  9713 10602 16018\n",
      "q-value     6414   7462  9002   9997 11197 12888 16018\n",
      "local FDR   5481   6185  7238   7790  8266  8928 15339\n",
      "\n",
      "0.145038517071 story\n",
      "0.062166965330594126 fdr\n"
     ]
    }
   ],
   "source": [
    "\n",
    "fn_top_combined = '/frazer01/projects/hipsci/analysis/i2QTL-sv-analysis/private_output/eqtl_processing/qtl_data_sv_snp_1_14_19/top_qtl_results_sv_snp_combined.txt'\n",
    "\n",
    "top_filt, top_hits_unfilt, p_val_thresh_story, p_val_thresh_fdr, th_q =  process_qtl_data_snp_sv(fn_top_combined,\n",
    "                                                                                           fn_top_combined, \n",
    "                                                        info_cat_per_gene_all, \n",
    "                                                        info_unfilt_pass_rna_398, info_var_gene_wide, \n",
    "                                                        gene_types, mappings = False, \n",
    "                                                        genes_filt = g_filt_05, fdr_thresh= 0.1)\n",
    "\n",
    "convert = {'STR':'STR', 'INDEL_DEL': 'INDEL', 'INDEL_INS':'INDEL', 'SNV': 'SNV'}\n",
    "top_filt['SVTYPE_SUPER'] = top_filt.SVTYPE_NR.apply(lambda x: convert.get(x, 'SV'))\n",
    "print p_val_thresh_story, 'story'\n",
    "print p_val_thresh_fdr, 'fdr'"
   ]
  },
  {
   "cell_type": "code",
   "execution_count": 277,
   "metadata": {
    "collapsed": true
   },
   "outputs": [],
   "source": [
    "top_filt['VARIANT_TYPE'] = top_filt['SVTYPE']\n",
    "top_filt['VARIANT_TYPE_NR'] = top_filt['SVTYPE_NR']\n",
    "\n",
    "snv_indel = annotate_snv_indel(top_filt)\n",
    "\n",
    "inds = snv_indel.index\n",
    "top_filt.loc[inds, 'SVLEN'] = snv_indel.CHANGE\n",
    "top_filt.loc[inds, 'SVTYPE'] = snv_indel.VARIANT_SUBCLASS\n",
    "top_filt.loc[inds, 'SVTYPE_NR'] = snv_indel.VARIANT_SUBCLASS\n",
    "\n",
    "top_filt.loc[inds, 'VARIANT_TYPE'] = snv_indel.VARIANT_TYPE\n",
    "top_filt.loc[inds, 'VARIANT_TYPE_NR'] = snv_indel.VARIANT_TYPE\n",
    "\n",
    "\n",
    "top_filt.loc[inds, 'start_variant'] = snv_indel.start_variant\n",
    "top_filt.loc[inds, 'end_variant'] = snv_indel.end_variant"
   ]
  },
  {
   "cell_type": "code",
   "execution_count": 278,
   "metadata": {
    "collapsed": true
   },
   "outputs": [],
   "source": [
    "top_filt['genic_category_variant'] = top_filt.genic_category_variant.fillna('intergenic')\n",
    "\n",
    "top_filt['super_category'] = top_filt.super_category.fillna('intergenic')\n",
    "top_filt = annot_super_cats(top_filt)"
   ]
  },
  {
   "cell_type": "code",
   "execution_count": 182,
   "metadata": {
    "collapsed": false
   },
   "outputs": [
    {
     "name": "stdout",
     "output_type": "stream",
     "text": [
      "top_hits_sv_snp_maf5_story = pd.read_pickle('/frazer01/projects/hipsci/analysis/i2QTL-sv-analysis/private_output/eqtl_processing/qtl_results_01_17_v4/top_hits_sv_snp_maf5_story.pkl')\n",
      "top_hits_sv_snp_maf5_story = pd.read_csv('/frazer01/projects/hipsci/analysis/i2QTL-sv-analysis/private_output/eqtl_processing/qtl_results_01_17_v4/top_hits_sv_snp_maf5_story.tsv', sep='\\t')\n",
      "# all vars recorded: /frazer01/projects/hipsci/analysis/i2QTL-sv-analysis/private_output/eqtl_processing/qtl_results_01_17_v4/load_saved_nb_variables.py\n",
      "# pickled vars recorded:/frazer01/projects/hipsci/analysis/i2QTL-sv-analysis/private_output/eqtl_processing/qtl_results_01_17_v4/load_pickled_nb_variables.py\n"
     ]
    }
   ],
   "source": [
    "CM.save_dataframe('top_hits_sv_snp_maf5_story', top_filt, outdir)"
   ]
  },
  {
   "cell_type": "code",
   "execution_count": 279,
   "metadata": {
    "collapsed": false
   },
   "outputs": [
    {
     "data": {
      "text/html": [
       "<div>\n",
       "<style scoped>\n",
       "    .dataframe tbody tr th:only-of-type {\n",
       "        vertical-align: middle;\n",
       "    }\n",
       "\n",
       "    .dataframe tbody tr th {\n",
       "        vertical-align: top;\n",
       "    }\n",
       "\n",
       "    .dataframe thead th {\n",
       "        text-align: right;\n",
       "    }\n",
       "</style>\n",
       "<table border=\"1\" class=\"dataframe\">\n",
       "  <thead>\n",
       "    <tr style=\"text-align: right;\">\n",
       "      <th></th>\n",
       "      <th>index</th>\n",
       "      <th>Lead_QTLs</th>\n",
       "      <th>unique eGenes</th>\n",
       "      <th>unique eVariants</th>\n",
       "      <th>unique eVariants Non Redundant</th>\n",
       "      <th>no. variants tested</th>\n",
       "      <th>unique variants non-redundant tested</th>\n",
       "      <th>unique genes tested</th>\n",
       "      <th>fraction of tested genes with lead QTL</th>\n",
       "      <th>fraction variants that are lead QTL</th>\n",
       "      <th>fraction NR variants that are lead QTL</th>\n",
       "    </tr>\n",
       "  </thead>\n",
       "  <tbody>\n",
       "    <tr>\n",
       "      <th>0</th>\n",
       "      <td>ALU</td>\n",
       "      <td>9.0</td>\n",
       "      <td>9.0</td>\n",
       "      <td>8.0</td>\n",
       "      <td>8.0</td>\n",
       "      <td>10.0</td>\n",
       "      <td>10.0</td>\n",
       "      <td>12.0</td>\n",
       "      <td>0.750000</td>\n",
       "      <td>0.800000</td>\n",
       "      <td>0.800000</td>\n",
       "    </tr>\n",
       "    <tr>\n",
       "      <th>1</th>\n",
       "      <td>BND</td>\n",
       "      <td>8.0</td>\n",
       "      <td>8.0</td>\n",
       "      <td>6.0</td>\n",
       "      <td>6.0</td>\n",
       "      <td>9.0</td>\n",
       "      <td>9.0</td>\n",
       "      <td>11.0</td>\n",
       "      <td>0.727273</td>\n",
       "      <td>0.666667</td>\n",
       "      <td>0.666667</td>\n",
       "    </tr>\n",
       "    <tr>\n",
       "      <th>2</th>\n",
       "      <td>DEL</td>\n",
       "      <td>51.0</td>\n",
       "      <td>51.0</td>\n",
       "      <td>42.0</td>\n",
       "      <td>40.0</td>\n",
       "      <td>53.0</td>\n",
       "      <td>48.0</td>\n",
       "      <td>61.0</td>\n",
       "      <td>0.836066</td>\n",
       "      <td>0.792453</td>\n",
       "      <td>0.833333</td>\n",
       "    </tr>\n",
       "    <tr>\n",
       "      <th>3</th>\n",
       "      <td>DUP</td>\n",
       "      <td>9.0</td>\n",
       "      <td>9.0</td>\n",
       "      <td>8.0</td>\n",
       "      <td>8.0</td>\n",
       "      <td>12.0</td>\n",
       "      <td>11.0</td>\n",
       "      <td>14.0</td>\n",
       "      <td>0.642857</td>\n",
       "      <td>0.666667</td>\n",
       "      <td>0.727273</td>\n",
       "    </tr>\n",
       "    <tr>\n",
       "      <th>4</th>\n",
       "      <td>INDEL</td>\n",
       "      <td>2685.0</td>\n",
       "      <td>2685.0</td>\n",
       "      <td>2642.0</td>\n",
       "      <td>2642.0</td>\n",
       "      <td>3000000.0</td>\n",
       "      <td>3000000.0</td>\n",
       "      <td>4892.0</td>\n",
       "      <td>0.548855</td>\n",
       "      <td>0.000881</td>\n",
       "      <td>0.000881</td>\n",
       "    </tr>\n",
       "    <tr>\n",
       "      <th>5</th>\n",
       "      <td>LINE1</td>\n",
       "      <td>1.0</td>\n",
       "      <td>1.0</td>\n",
       "      <td>1.0</td>\n",
       "      <td>1.0</td>\n",
       "      <td>1.0</td>\n",
       "      <td>1.0</td>\n",
       "      <td>1.0</td>\n",
       "      <td>1.000000</td>\n",
       "      <td>1.000000</td>\n",
       "      <td>1.000000</td>\n",
       "    </tr>\n",
       "    <tr>\n",
       "      <th>6</th>\n",
       "      <td>SNV</td>\n",
       "      <td>8148.0</td>\n",
       "      <td>8148.0</td>\n",
       "      <td>7954.0</td>\n",
       "      <td>7954.0</td>\n",
       "      <td>20000000.0</td>\n",
       "      <td>20000000.0</td>\n",
       "      <td>10655.0</td>\n",
       "      <td>0.764711</td>\n",
       "      <td>0.000398</td>\n",
       "      <td>0.000398</td>\n",
       "    </tr>\n",
       "    <tr>\n",
       "      <th>7</th>\n",
       "      <td>STR</td>\n",
       "      <td>170.0</td>\n",
       "      <td>170.0</td>\n",
       "      <td>140.0</td>\n",
       "      <td>140.0</td>\n",
       "      <td>207.0</td>\n",
       "      <td>207.0</td>\n",
       "      <td>242.0</td>\n",
       "      <td>0.702479</td>\n",
       "      <td>0.676329</td>\n",
       "      <td>0.676329</td>\n",
       "    </tr>\n",
       "    <tr>\n",
       "      <th>8</th>\n",
       "      <td>SVA</td>\n",
       "      <td>2.0</td>\n",
       "      <td>2.0</td>\n",
       "      <td>2.0</td>\n",
       "      <td>2.0</td>\n",
       "      <td>3.0</td>\n",
       "      <td>3.0</td>\n",
       "      <td>5.0</td>\n",
       "      <td>0.400000</td>\n",
       "      <td>0.666667</td>\n",
       "      <td>0.666667</td>\n",
       "    </tr>\n",
       "    <tr>\n",
       "      <th>9</th>\n",
       "      <td>mCNV</td>\n",
       "      <td>111.0</td>\n",
       "      <td>111.0</td>\n",
       "      <td>85.0</td>\n",
       "      <td>77.0</td>\n",
       "      <td>93.0</td>\n",
       "      <td>84.0</td>\n",
       "      <td>120.0</td>\n",
       "      <td>0.925000</td>\n",
       "      <td>0.913978</td>\n",
       "      <td>0.916667</td>\n",
       "    </tr>\n",
       "    <tr>\n",
       "      <th>10</th>\n",
       "      <td>rMEI</td>\n",
       "      <td>3.0</td>\n",
       "      <td>3.0</td>\n",
       "      <td>3.0</td>\n",
       "      <td>3.0</td>\n",
       "      <td>6.0</td>\n",
       "      <td>6.0</td>\n",
       "      <td>7.0</td>\n",
       "      <td>0.428571</td>\n",
       "      <td>0.500000</td>\n",
       "      <td>0.500000</td>\n",
       "    </tr>\n",
       "    <tr>\n",
       "      <th>11</th>\n",
       "      <td>total</td>\n",
       "      <td>11197.0</td>\n",
       "      <td>11197.0</td>\n",
       "      <td>10891.0</td>\n",
       "      <td>10881.0</td>\n",
       "      <td>23000394.0</td>\n",
       "      <td>23000379.0</td>\n",
       "      <td>16020.0</td>\n",
       "      <td>7.725813</td>\n",
       "      <td>6.684038</td>\n",
       "      <td>6.788213</td>\n",
       "    </tr>\n",
       "  </tbody>\n",
       "</table>\n",
       "</div>"
      ],
      "text/plain": [
       "    index  Lead_QTLs  unique eGenes  unique eVariants  \\\n",
       "0     ALU        9.0            9.0               8.0   \n",
       "1     BND        8.0            8.0               6.0   \n",
       "2     DEL       51.0           51.0              42.0   \n",
       "3     DUP        9.0            9.0               8.0   \n",
       "4   INDEL     2685.0         2685.0            2642.0   \n",
       "5   LINE1        1.0            1.0               1.0   \n",
       "6     SNV     8148.0         8148.0            7954.0   \n",
       "7     STR      170.0          170.0             140.0   \n",
       "8     SVA        2.0            2.0               2.0   \n",
       "9    mCNV      111.0          111.0              85.0   \n",
       "10   rMEI        3.0            3.0               3.0   \n",
       "11  total    11197.0        11197.0           10891.0   \n",
       "\n",
       "    unique eVariants Non Redundant  no. variants tested  \\\n",
       "0                              8.0                 10.0   \n",
       "1                              6.0                  9.0   \n",
       "2                             40.0                 53.0   \n",
       "3                              8.0                 12.0   \n",
       "4                           2642.0            3000000.0   \n",
       "5                              1.0                  1.0   \n",
       "6                           7954.0           20000000.0   \n",
       "7                            140.0                207.0   \n",
       "8                              2.0                  3.0   \n",
       "9                             77.0                 93.0   \n",
       "10                             3.0                  6.0   \n",
       "11                         10881.0           23000394.0   \n",
       "\n",
       "    unique variants non-redundant tested  unique genes tested  \\\n",
       "0                                   10.0                 12.0   \n",
       "1                                    9.0                 11.0   \n",
       "2                                   48.0                 61.0   \n",
       "3                                   11.0                 14.0   \n",
       "4                              3000000.0               4892.0   \n",
       "5                                    1.0                  1.0   \n",
       "6                             20000000.0              10655.0   \n",
       "7                                  207.0                242.0   \n",
       "8                                    3.0                  5.0   \n",
       "9                                   84.0                120.0   \n",
       "10                                   6.0                  7.0   \n",
       "11                            23000379.0              16020.0   \n",
       "\n",
       "    fraction of tested genes with lead QTL  \\\n",
       "0                                 0.750000   \n",
       "1                                 0.727273   \n",
       "2                                 0.836066   \n",
       "3                                 0.642857   \n",
       "4                                 0.548855   \n",
       "5                                 1.000000   \n",
       "6                                 0.764711   \n",
       "7                                 0.702479   \n",
       "8                                 0.400000   \n",
       "9                                 0.925000   \n",
       "10                                0.428571   \n",
       "11                                7.725813   \n",
       "\n",
       "    fraction variants that are lead QTL  \\\n",
       "0                              0.800000   \n",
       "1                              0.666667   \n",
       "2                              0.792453   \n",
       "3                              0.666667   \n",
       "4                              0.000881   \n",
       "5                              1.000000   \n",
       "6                              0.000398   \n",
       "7                              0.676329   \n",
       "8                              0.666667   \n",
       "9                              0.913978   \n",
       "10                             0.500000   \n",
       "11                             6.684038   \n",
       "\n",
       "    fraction NR variants that are lead QTL  \n",
       "0                                 0.800000  \n",
       "1                                 0.666667  \n",
       "2                                 0.833333  \n",
       "3                                 0.727273  \n",
       "4                                 0.000881  \n",
       "5                                 1.000000  \n",
       "6                                 0.000398  \n",
       "7                                 0.676329  \n",
       "8                                 0.666667  \n",
       "9                                 0.916667  \n",
       "10                                0.500000  \n",
       "11                                6.788213  "
      ]
     },
     "execution_count": 279,
     "metadata": {},
     "output_type": "execute_result"
    }
   ],
   "source": [
    "general_info_th_qtls_snv_indel(top_filt, top_filt, info_unfilt_pass_rna_398).reset_index()"
   ]
  }
 ],
 "metadata": {
  "kernelspec": {
   "display_name": "Python 2",
   "language": "python",
   "name": "python2"
  },
  "language_info": {
   "codemirror_mode": {
    "name": "ipython",
    "version": 2
   },
   "file_extension": ".py",
   "mimetype": "text/x-python",
   "name": "python",
   "nbconvert_exporter": "python",
   "pygments_lexer": "ipython2",
   "version": "2.7.3"
  }
 },
 "nbformat": 4,
 "nbformat_minor": 2
}
