{
 "cells": [
  {
   "cell_type": "code",
   "execution_count": 2,
   "metadata": {
    "collapsed": true
   },
   "outputs": [],
   "source": [
    "%matplotlib inline\n",
    "from __future__ import division\n",
    "import numpy as np\n",
    "import os\n",
    "import sys\n",
    "import datetime\n",
    "from subprocess import call\n",
    "import subprocess\n",
    "import glob\n",
    "\n",
    "import warnings\n",
    "warnings.simplefilter(action='ignore', category=FutureWarning)\n",
    "import djPyi2 as DJ\n",
    "from djPyi2 import Common as CM\n",
    "from djPyi2 import mpltools\n",
    "\n",
    "import pandas as pd\n",
    "pd.options.mode.chained_assignment = None\n",
    "import csv\n",
    "import seaborn as sns\n",
    "import matplotlib as mpl\n",
    "import matplotlib.pyplot as plt\n",
    "import copy \n",
    "import pybedtools as pbt\n",
    "import ciepy\n",
    "import cardipspy as cpy\n",
    "import itertools\n",
    "\n",
    "import tempfile\n",
    "import six\n",
    "import networkx as nx\n",
    "import scipy.stats as sps\n",
    "pd.set_option('display.max_columns', 500)\n",
    "pd.set_option('display.max_rows', 100)\n",
    "from mpl_toolkits.axes_grid1 import  make_axes_locatable\n",
    "import datetime\n",
    "from matplotlib.colors import LogNorm\n",
    "import matplotlib.image as mpimg\n",
    "\n",
    "from scipy.stats import mode\n",
    "dy_name = 'evariant_length_analysis'\n",
    "\n",
    "private_out = os.path.join(DJ.root, 'private_output', dy_name)\n",
    "if not os.path.exists(private_out):\n",
    "    DJ.makedir(private_out)\n",
    "\n",
    "\n",
    "\n",
    "import gc"
   ]
  },
  {
   "cell_type": "code",
   "execution_count": 3,
   "metadata": {
    "collapsed": true
   },
   "outputs": [],
   "source": [
    "def add_svtype_cats(all_qtls_filt):\n",
    "    convert = {'STR':'STR', 'INDEL': 'INDEL', 'SNP': 'SNV', 'SNV': 'SNV', 'INDEL_DEL': 'INDEL', \n",
    "               'INDEL_INS': 'INDEL'}\n",
    "    all_qtls_filt['SVTYPE_SUPER'] = all_qtls_filt.SVTYPE_NR.apply(lambda x: convert.get(x, 'SV'))\n",
    "    convert = {'STR':'STR', 'INDEL': 'INDEL', 'SNP': 'SNV',\n",
    "               'ALU': 'MEI', 'LINE1': 'MEI', 'SVA':'MEI', 'rMEI':'rMEI', \n",
    "          'DUP': 'CNV', 'DEL': 'CNV', 'mCNV': 'CNV', 'SNV': 'SNV', 'INDEL_INS': 'INDEL', 'INDEL_DEL': 'INDEL', \n",
    "              'INDEL': 'INDEL', 'SNP': \"SNV\"}\n",
    "    all_qtls_filt['SVTYPE_COLLAPSE'] = all_qtls_filt.SVTYPE_NR.apply(lambda x: convert.get(x, 'other SV'))\n",
    "    convert = {'LINE1':'MEI', 'SVA': 'MEI', 'ALU': 'MEI'}\n",
    "    all_qtls_filt['SVTYPE_NR_C'] = all_qtls_filt.SVTYPE_NR.apply(lambda x: convert.get(x,x))\n",
    "    \n",
    "    convert = {'LINE1':'MEI', 'SVA': 'MEI', 'ALU': 'MEI', 'DUP': 'CNV', 'DEL': 'CNV', 'mCNV': 'CNV'}\n",
    "    all_qtls_filt['SVTYPE_NR_C2'] = all_qtls_filt.SVTYPE_NR.apply(lambda x: convert.get(x,x))\n",
    "    \n",
    "    \n",
    "    \n",
    "    \n",
    "   \n",
    "    convert = {'STR':'STR', 'INDEL': 'INDEL', 'SNP': 'SNV', 'INV': 'other SV', 'BND': 'other SV',\n",
    "               'ALU': 'MEI', 'LINE1': 'MEI', 'SVA':'MEI', 'rMEI':'rMEI', \n",
    "          'DUP': 'DUP', 'DEL': 'DEL', 'mCNV': 'mCNV', 'SNV': 'SNV', 'INDEL_INS': 'INDEL', 'INDEL_DEL': 'INDEL', \n",
    "              'INDEL': 'INDEL', 'SNP': \"SNV\"}\n",
    "    all_qtls_filt['SVTYPE_NR_C3'] = all_qtls_filt.SVTYPE_NR.apply(lambda x: convert.get(x,x)) \n",
    "    \n",
    "    \n",
    "    \n",
    "    return all_qtls_filt"
   ]
  },
  {
   "cell_type": "code",
   "execution_count": 46,
   "metadata": {
    "collapsed": true
   },
   "outputs": [],
   "source": [
    "from rpy2.robjects.packages import importr\n",
    "from rpy2.robjects.vectors import FloatVector\n",
    "\n",
    "stats_r = importr('stats')\n",
    "\n",
    "# from rpy2.robjects.packages import importr\n",
    "utils = importr('utils')\n",
    "\n",
    "def add_bh_fdr(top, col):\n",
    "    top = top.copy()\n",
    "    p_vals = top[col].tolist()\n",
    "    p_adjust = stats_r.p_adjust(FloatVector(p_vals), method = 'fdr')\n",
    "    top['fdr_corrected_p'] = list(p_adjust)\n",
    "    return top"
   ]
  },
  {
   "cell_type": "code",
   "execution_count": 20,
   "metadata": {
    "collapsed": true
   },
   "outputs": [],
   "source": [
    "def vc_to_or(vc, v = False):\n",
    "    def default_loc(df, a, b, default = 0):\n",
    "        try:\n",
    "            out = df.loc[a,b]\n",
    "            return out\n",
    "        except:\n",
    "            return default        \n",
    "    if not v:\n",
    "        \n",
    "        t_g1 = [default_loc(vc, True, True), default_loc(vc, True, False)]\n",
    "        f_g1 = [default_loc(vc, False, True), default_loc(vc, False, False)]\n",
    "        v = [t_g1, f_g1]\n",
    "    else:\n",
    "        v = vc\n",
    "\n",
    "    try:\n",
    "        odds_ratio, p_fisher = sps.fisher_exact(v, )\n",
    "    except:\n",
    "        odds_ratio, p_fisher = (np.NaN, np.NaN) \n",
    "    return v, odds_ratio, p_fisher"
   ]
  },
  {
   "cell_type": "code",
   "execution_count": 31,
   "metadata": {
    "collapsed": true
   },
   "outputs": [],
   "source": [
    "def safe_div(a, b, is_null_out = 0):\n",
    "    try:\n",
    "        out = a/b\n",
    "    except:\n",
    "        out = is_null_out\n",
    "    return out"
   ]
  },
  {
   "cell_type": "code",
   "execution_count": 32,
   "metadata": {
    "collapsed": true
   },
   "outputs": [],
   "source": [
    "def annotate_tests_data(df, col = \"significant\"):\n",
    "    df = df.copy()\n",
    "    def safe_div(a, b):\n",
    "        try:\n",
    "            out = a/b\n",
    "        except:\n",
    "            out = np.NaN\n",
    "        return out\n",
    "            \n",
    "#     df['frac_non_{}_ol_feat'.format(col)] = df['{}_False'.format(col)].apply(lambda x: safe_div(x[1], x[0]))\n",
    "#     df['frac_{}_ol_feat'.format(col)] =  df['{}_True'.format(col)].apply(lambda x: safe_div(x[1], x[0]))\n",
    "    try:\n",
    "        df['-log10p_fisher'] = np.log10(df['p_fisher']) * -1\n",
    "    except:\n",
    "        pass\n",
    "    \n",
    "    try:\n",
    "        df['log_odds_ratio'] = np.log10(df['odds_ratio'])\n",
    "    except:\n",
    "        pass\n",
    "    \n",
    "    try:\n",
    "        df['log2_odds_ratio'] = np.log2(df['odds_ratio'])\n",
    "    except:\n",
    "        pass\n",
    "    df = df.reset_index()\n",
    "    \n",
    "    df['log2_odds_ratio_raw'] = df['log2_odds_ratio']\n",
    "    \n",
    "    \n",
    "    t_neg_inf = df.log2_odds_ratio == (-np.inf)\n",
    "    t_pos_inf = (df.log2_odds_ratio == (np.inf))\n",
    "    \n",
    "    exclude = t_neg_inf[t_neg_inf].index.tolist() + t_pos_inf[t_pos_inf].index.tolist()\n",
    "    if len(exclude) > 0:\n",
    "        inds_non_inf = set(df.index.tolist()).difference(exclude)\n",
    "\n",
    "        if t_neg_inf[t_neg_inf].shape[0] > 0:\n",
    "            inds = t_neg_inf[t_neg_inf].index.tolist()\n",
    "            try:\n",
    "                m = df.loc[inds_non_inf].log2_odds_ratio.min()\n",
    "            except:\n",
    "                m = -1\n",
    "            \n",
    "            if m >= -0.5:\n",
    "                m = -1\n",
    "            df.loc[inds, 'log2_odds_ratio'] = m\n",
    "            \n",
    "        if t_pos_inf[t_pos_inf].shape[0] > 0:\n",
    "            inds = t_pos_inf[t_pos_inf].index.tolist()\n",
    "            try:\n",
    "                m = df.loc[inds_non_inf].log2_odds_ratio.max()\n",
    "            except:\n",
    "                m = 2\n",
    "            if m < 0:\n",
    "                m = 2\n",
    "            df.loc[inds, 'log2_odds_ratio'] = m\n",
    "            \n",
    "    return df"
   ]
  },
  {
   "cell_type": "code",
   "execution_count": 6,
   "metadata": {
    "collapsed": true
   },
   "outputs": [],
   "source": [
    "var_egene_nr = pd.read_pickle('/frazer01/projects/hipsci/analysis/i2QTL-sv-analysis/private_output/eqtl_enrichments/qtl_results_01_17_v4/var_egene_nr.pkl').pipe(add_svtype_cats)"
   ]
  },
  {
   "cell_type": "code",
   "execution_count": 13,
   "metadata": {
    "collapsed": true
   },
   "outputs": [],
   "source": [
    "per_var  = pd.read_pickle('/frazer01/projects/hipsci/analysis/i2QTL-sv-analysis/private_output/evariant_loop_analysis/qtl_results_v4/per_variant_info_annot_update.pkl').pipe(add_svtype_cats)"
   ]
  },
  {
   "cell_type": "code",
   "execution_count": 14,
   "metadata": {
    "collapsed": true
   },
   "outputs": [],
   "source": [
    "tdf = per_var[per_var.SVTYPE_NR.isin(['DEL', 'DUP', 'mCNV', 'STR'])]"
   ]
  },
  {
   "cell_type": "code",
   "execution_count": null,
   "metadata": {
    "collapsed": true
   },
   "outputs": [],
   "source": [
    "labs = []\n",
    "for i, b in enumerate(bins[:-1]):\n",
    "    low, high = bins[i:i +2]\n",
    "    \n",
    "#     bin_lab = \"{}-{}\".format(low +1, high)\n",
    "    \n",
    "    b = mpltools.format_base_pair_scale([low + 1,high])\n",
    "    bin_lab = \"{}-{}\".format(b[0], b[1])\n",
    "    labs.append(bin_lab)\n",
    "    \n",
    "\n",
    "labs[0] = '1bp'\n",
    "# labs[-1] = '0.25MB+'\n",
    "labs[-1] = '50kb+'\n",
    "\n",
    "xval = dict(zip(labs, range(len(labs))))\n",
    "\n",
    "tdf['bin_length'] = pd.cut(tdf.SVLEN, bins = bins, labels=labs)\n",
    "\n",
    "tdf['bin_length_xval'] = tdf.bin_length.apply(lambda x: xval[x])\n",
    "\n",
    "vc = tdf.groupby(('SVTYPE_NR', 'bin_length')).significant_association.value_counts(normalize = True).to_frame('fraction').reset_index()\n",
    "\n",
    "vc['x'] = vc.bin_length.apply(lambda x: xval[x])"
   ]
  },
  {
   "cell_type": "code",
   "execution_count": 355,
   "metadata": {
    "collapsed": true
   },
   "outputs": [],
   "source": [
    "def gather_stats_length_enrichment(tdf, col = 'significant_association'):\n",
    "    bins = [0,1, 3, 5, 10, 50, 200, 500, 900, 2000, 3500, 5000, 10000, 50000, 150000]\n",
    "\n",
    "    # bins = np.arange(0, 1002, 2) + np.arange(1000, 150000, 1000)\n",
    "\n",
    "    data = []\n",
    "    svtypes = ['DEL', 'DUP', 'mCNV', 'STR']\n",
    "    for svt in svtypes:\n",
    "        for t in bins[:-1]:\n",
    "            #         print t, svt\n",
    "            tdf['in_cat'] = tdf.SVLEN >= t\n",
    "            df = tdf[tdf.SVTYPE_NR == svt]\n",
    "#             a = vin.to_frame('fraction')\n",
    "            vin = df.groupby('in_cat')[col].value_counts()\n",
    "#             b = vin.to_frame('num')\n",
    "            v, odds_ratio, p_fisher = vc_to_or(vin)\n",
    "            fraction = safe_div(v[0][0], sum(v[0]))\n",
    "            data.append([v, odds_ratio, p_fisher, fraction, svt, t])\n",
    "    stats_length = pd.DataFrame(data, columns=['contingency', 'odds_ratio', 'p_fisher', 'fraction', 'SVTYPE',\n",
    "                                               'threshold']).pipe(annotate_tests_data)\n",
    "\n",
    "    thresh_order = dict(zip(bins, range(len(bins))))\n",
    "    thresh_labels = dict(zip(bins, [\"{}+\".format(i) for i in mpltools.format_base_pair_scale(bins)]))\n",
    "    stats_length['x'] = stats_length.threshold.map(thresh_order)\n",
    "    stats_length['xlabel'] = stats_length.threshold.map(thresh_labels)\n",
    "    \n",
    "    \n",
    "    sl = stats_length[~((stats_length.threshold > 0) & (stats_length.odds_ratio.isnull()) & \n",
    "                    (stats_length.SVTYPE == \"STR\"))]\n",
    "    sl['size'] = (sl['-log10p_fisher'] +1) * 50 \n",
    "    sl['significant'] = sl.p_fisher < 0.05\n",
    "\n",
    "    sl['ec'] = sl.significant.apply(lambda x: {True:'red', False: 'grey'}[x])\n",
    "    sl['lw'] = sl.significant.apply(lambda x: {True:0.8, False: 0.2}[x])\n",
    "    \n",
    "    \n",
    "    return stats_length, sl\n"
   ]
  },
  {
   "cell_type": "code",
   "execution_count": 331,
   "metadata": {
    "collapsed": true
   },
   "outputs": [],
   "source": [
    "class MidpointNormalize(mpl.colors.Normalize):\n",
    "    \"\"\"Normalise the colorbar so that diverging bars work there way either side from a prescribed midpoint value)\n",
    "    e.g. im=ax1.imshow(array, norm=MidpointNormalize(midpoint=0.,vmin=-100, vmax=100))\n",
    "    \"\"\"\n",
    "    def __init__(self, vmin=None, vmax=None, midpoint=None, clip=False):\n",
    "        self.midpoint = midpoint\n",
    "        mpl.colors.Normalize.__init__(self, vmin, vmax, clip)\n",
    "\n",
    "    def __call__(self, value, clip=None):\n",
    "        # I'm ignoring masked values and all kinds of edge cases to make a\n",
    "        # simple example...\n",
    "        x, y = [self.vmin, self.midpoint, self.vmax], [0, 0.5, 1]\n",
    "        return np.ma.masked_array(np.interp(value, x, y), np.isnan(value))"
   ]
  },
  {
   "cell_type": "code",
   "execution_count": 356,
   "metadata": {
    "collapsed": true
   },
   "outputs": [],
   "source": [
    "stats_length, sl_plot = gather_stats_length_enrichment(tdf)"
   ]
  },
  {
   "cell_type": "code",
   "execution_count": 357,
   "metadata": {
    "collapsed": true
   },
   "outputs": [],
   "source": [
    "stats_length_lead, sl_plot_lead = gather_stats_length_enrichment(tdf, col  = 'lead_association')"
   ]
  },
  {
   "cell_type": "code",
   "execution_count": 358,
   "metadata": {
    "collapsed": false
   },
   "outputs": [
    {
     "name": "stdout",
     "output_type": "stream",
     "text": [
      "enr_length_signif = pd.read_pickle('/frazer01/projects/hipsci/analysis/i2QTL-sv-analysis/private_output/evariant_length_analysis/enr_length_signif.pkl')\n",
      "enr_length_signif = pd.read_csv('/frazer01/projects/hipsci/analysis/i2QTL-sv-analysis/private_output/evariant_length_analysis/enr_length_signif.tsv', sep='\\t')\n",
      "enr_length_lead = pd.read_pickle('/frazer01/projects/hipsci/analysis/i2QTL-sv-analysis/private_output/evariant_length_analysis/enr_length_lead.pkl')\n",
      "enr_length_lead = pd.read_csv('/frazer01/projects/hipsci/analysis/i2QTL-sv-analysis/private_output/evariant_length_analysis/enr_length_lead.tsv', sep='\\t')\n",
      "plot_length_signif = pd.read_pickle('/frazer01/projects/hipsci/analysis/i2QTL-sv-analysis/private_output/evariant_length_analysis/plot_length_signif.pkl')\n",
      "plot_length_signif = pd.read_csv('/frazer01/projects/hipsci/analysis/i2QTL-sv-analysis/private_output/evariant_length_analysis/plot_length_signif.tsv', sep='\\t')\n",
      "plot_length_lead = pd.read_pickle('/frazer01/projects/hipsci/analysis/i2QTL-sv-analysis/private_output/evariant_length_analysis/plot_length_lead.pkl')\n",
      "plot_length_lead = pd.read_csv('/frazer01/projects/hipsci/analysis/i2QTL-sv-analysis/private_output/evariant_length_analysis/plot_length_lead.tsv', sep='\\t')\n"
     ]
    }
   ],
   "source": [
    "CM.save_dataframe('enr_length_signif', stats_length, private_out, print_vars_recorded_loc=False)\n",
    "CM.save_dataframe('enr_length_lead', stats_length_lead, private_out, print_vars_recorded_loc=False)\n",
    "\n",
    "\n",
    "CM.save_dataframe('plot_length_signif', sl_plot, private_out, print_vars_recorded_loc=False)\n",
    "CM.save_dataframe('plot_length_lead', sl_plot_lead, private_out, print_vars_recorded_loc=False)"
   ]
  },
  {
   "cell_type": "code",
   "execution_count": null,
   "metadata": {
    "collapsed": true
   },
   "outputs": [],
   "source": [
    "# bins = list(np.arange(0, 1002, 2)) +  list(np.arange(1000, 150000, 1000))"
   ]
  },
  {
   "cell_type": "code",
   "execution_count": 280,
   "metadata": {
    "collapsed": false
   },
   "outputs": [
    {
     "data": {
      "image/png": "[encoded data removed]",
      "text/plain": [
       "<Figure size 720x360 with 1 Axes>"
      ]
     },
     "metadata": {
      "needs_background": "light"
     },
     "output_type": "display_data"
    }
   ],
   "source": [
    "fig, ax = plt.subplots(1,1, figsize = (10,5))\n",
    "sns.scatterplot(x = 'x', y = 'fraction', size = '-log10p_fisher', sizes=(40,200), hue = 'SVTYPE', \n",
    "                data = stats_length, ax = ax)\n",
    "leg = ax.legend(bbox_to_anchor = (1,1), loc = 'upper left')\n",
    "ax.add_artist(leg)\n",
    "\n",
    "sns.pointplot(x = 'x', y = 'fraction',hue = 'SVTYPE', \n",
    "                data = stats_length, ax = ax, s= 0, legend = False)\n",
    "\n",
    "ax.legend().set_visible(False)\n",
    "# ax.legend(bbox_to_anchor = (1,1), loc = 'upper left')"
   ]
  },
  {
   "cell_type": "code",
   "execution_count": 360,
   "metadata": {
    "collapsed": false
   },
   "outputs": [
    {
     "data": {
      "text/plain": [
       "0.35085281111813016"
      ]
     },
     "execution_count": 360,
     "metadata": {},
     "output_type": "execute_result"
    }
   ],
   "source": [
    "2777/7915"
   ]
  }
 ],
 "metadata": {
  "kernelspec": {
   "display_name": "Python 2",
   "language": "python",
   "name": "python2"
  },
  "language_info": {
   "codemirror_mode": {
    "name": "ipython",
    "version": 2
   },
   "file_extension": ".py",
   "mimetype": "text/x-python",
   "name": "python",
   "nbconvert_exporter": "python",
   "pygments_lexer": "ipython2",
   "version": "2.7.3"
  }
 },
 "nbformat": 4,
 "nbformat_minor": 2
}
