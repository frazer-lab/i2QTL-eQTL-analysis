{
 "cells": [
  {
   "cell_type": "code",
   "execution_count": null,
   "metadata": {
    "collapsed": true
   },
   "outputs": [],
   "source": [
    "%matplotlib inline\n",
    "from __future__ import division\n",
    "import numpy as np\n",
    "\n",
    "import os\n",
    "import sys\n",
    "import datetime\n",
    "from subprocess import call\n",
    "import subprocess\n",
    "import glob\n",
    "import djPyi2 as DJ\n",
    "import pandas as pd\n",
    "pd.options.mode.chained_assignment = None\n",
    "import csv\n",
    "import seaborn as sns\n",
    "import matplotlib as mpl\n",
    "import matplotlib.pyplot as plt\n",
    "import copy \n",
    "import pybedtools as pbt\n",
    "import ciepy\n",
    "import cardipspy as cpy\n",
    "import networkx as nx\n",
    "from djPyi2 import mpltools\n",
    "from mpl_toolkits.axes_grid1 import  make_axes_locatable\n",
    "import matplotlib.patches as patches\n",
    "from djPyi2 import Common as CM\n",
    "import matplotlib.image as mpimg\n",
    "\n",
    "import numpy as np\n",
    "import matplotlib.cm as cm\n",
    "\n",
    "from matplotlib.ticker import FuncFormatter\n",
    "import matplotlib.ticker as mtick"
   ]
  },
  {
   "cell_type": "code",
   "execution_count": null,
   "metadata": {
    "collapsed": true
   },
   "outputs": [],
   "source": [
    "import scipy.stats as sps\n",
    "\n",
    "from djPyi2 import stats as dj_stats\n",
    "\n",
    "dy_name = 'Figures'\n",
    "private_out = os.path.join(DJ.root, 'private_output', dy_name)\n",
    "if not os.path.exists(private_out):\n",
    "    cpy.makedir(private_out)"
   ]
  },
  {
   "cell_type": "code",
   "execution_count": null,
   "metadata": {
    "collapsed": true
   },
   "outputs": [],
   "source": [
    "def get_labs_ax5(ax5, burden_ave_sb_all):\n",
    "    \"\"\" get the burden plot labels from the data for annotation\"\"\"\n",
    "    min_yticks = min(ax5.get_yticks())\n",
    "    max_yticks = max(ax5.get_yticks())\n",
    "\n",
    "    labels_burden_per_bar = []\n",
    "    xtick_locs_burden_per_bar = []\n",
    "    ytick_locs_burden_per_bar = []\n",
    "    start = max_yticks\n",
    "    for cat in reversed(order_super_burd):\n",
    "        inds = burden_ave_sb_all.loc[cat, order_svt_burd].sum(axis = 1).tolist()\n",
    "        inds = list(reversed(inds))\n",
    "        l = mpltools.format_base_pair_scale(inds, mb_round=1, )\n",
    "        labels_burden_per_bar.append(l)\n",
    "        xtick_locs_burden_per_bar.append(inds)\n",
    "\n",
    "        yticks = [start + 0.25, start, start-0.25]\n",
    "        ytick_locs_burden_per_bar.append(yticks)\n",
    "        start -= 1\n",
    "\n",
    "    labels_burden_per_bar = CM.flatten_list(labels_burden_per_bar)\n",
    "    xtick_locs_burden_per_bar = CM.flatten_list(xtick_locs_burden_per_bar)\n",
    "    ytick_locs_burden_per_bar = CM.flatten_list(ytick_locs_burden_per_bar)\n",
    "    \n",
    "    return labels_burden_per_bar, xtick_locs_burden_per_bar, ytick_locs_burden_per_bar"
   ]
  },
  {
   "cell_type": "code",
   "execution_count": null,
   "metadata": {
    "collapsed": true
   },
   "outputs": [],
   "source": [
    "def add_svtype_cats(all_qtls_filt):\n",
    "    convert = {'STR':'STR', 'INDEL': 'INDEL', 'SNP': 'SNV', 'SNV': 'SNV', 'INDEL_DEL': 'INDEL', \n",
    "               'INDEL_INS': 'INDEL'}\n",
    "    all_qtls_filt['SVTYPE_SUPER'] = all_qtls_filt.SVTYPE_NR.apply(lambda x: convert.get(x, 'SV'))\n",
    "    convert = {'STR':'STR', 'INDEL': 'INDEL', 'SNP': 'SNV',\n",
    "               'ALU': 'MEI', 'LINE1': 'MEI', 'SVA':'MEI', 'rMEI':'MEI', \n",
    "          'DUP': 'CNV', 'DEL': 'CNV', 'mCNV': 'CNV', 'SNV': 'SNV', 'INDEL_INS': 'INDEL', 'INDEL_DEL': 'INDEL', \n",
    "              'INDEL': 'INDEL', 'SNP': \"SNV\"}\n",
    "    all_qtls_filt['SVTYPE_COLLAPSE'] = all_qtls_filt.SVTYPE_NR.apply(lambda x: convert.get(x, 'other SV'))\n",
    "    convert = {'LINE1':'MEI', 'SVA': 'MEI', 'ALU': 'MEI'}\n",
    "    all_qtls_filt['SVTYPE_NR_C'] = all_qtls_filt.SVTYPE_NR.apply(lambda x: convert.get(x,x))\n",
    "    return all_qtls_filt"
   ]
  },
  {
   "cell_type": "code",
   "execution_count": null,
   "metadata": {
    "collapsed": true
   },
   "outputs": [],
   "source": [
    "def compute_mannu_vs_str(lev, col_dist, order_vars_c, col_comp = 'SVTYPE_NR_C', comp_cat = 'STR', \n",
    "                        alternative = None):\n",
    "    obs = lev[lev[col_comp] == comp_cat][col_dist].tolist()\n",
    "    data = []\n",
    "    for i in order_vars_c:\n",
    "        comp = lev[lev[col_comp]== i][col_dist].tolist()\n",
    "    #     obs = lev[lev.SVTYPE_NR_C != i].num_egenes_lead.tolist()\n",
    "        mu, p = sps.mannwhitneyu(comp, obs, alternative=alternative)\n",
    "        mean_c = np.mean(comp)\n",
    "        t, p_t = sps.ttest_ind(comp, obs)\n",
    "        data.append([mu, p, i, mean_c, t, p_t, col_dist])\n",
    "    stats = pd.DataFrame(data, columns = ['mu', 'p_value', 'SVTYPE_NR_C', 'mean_c', 'T', 'p_value_t',\n",
    "                                          \"variable\"])\n",
    "    stats['p_bonf'] = stats['p_value'] * (stats.shape[0] -1)\n",
    "    inds = stats[stats.p_bonf > 1].index.tolist()\n",
    "    if len(inds) > 0:\n",
    "        stats.loc[inds, 'p_bonf'] = 1\n",
    "    stats['p_bonf_t'] = stats['p_value_t'] * (stats.shape[0] -1)\n",
    "    \n",
    "    inds = stats[stats.p_bonf_t > 1].index.tolist()\n",
    "    if len(inds) > 0:\n",
    "        stats.loc[inds, 'p_bonf_t'] = 1        \n",
    "    stats = stats.set_index('SVTYPE_NR_C', drop = False)\n",
    "    return stats"
   ]
  },
  {
   "cell_type": "markdown",
   "metadata": {},
   "source": [
    "# Data Import and Prep"
   ]
  },
  {
   "cell_type": "code",
   "execution_count": null,
   "metadata": {
    "collapsed": true
   },
   "outputs": [],
   "source": [
    "fn_gwas = '/frazer01/home/matteo/analysis/i2qtl_sv/ld/sv2ukbb_table.txt'\n",
    "\n",
    "gwas = pd.read_table(fn_gwas)\n",
    "ld_max_ukbb = pd.read_pickle('/frazer01/projects/hipsci/analysis/i2QTL-sv-analysis/private_output/gwas_ld_ukbb/qtl_results_v4/ld_max_ukbb_eqtl_vars.pkl')"
   ]
  },
  {
   "cell_type": "code",
   "execution_count": null,
   "metadata": {
    "collapsed": true
   },
   "outputs": [],
   "source": [
    "per_variant_info_sv_only = pd.read_pickle('/frazer01/projects/hipsci/analysis/i2QTL-sv-analysis/private_output/evariant_loop_analysis/qtl_results_v4/per_variant_info_annot_update.pkl')"
   ]
  },
  {
   "cell_type": "code",
   "execution_count": null,
   "metadata": {
    "collapsed": true
   },
   "outputs": [],
   "source": [
    "per_variant_info_sv_only = per_variant_info_sv_only.join(ld_max_ukbb.set_index('SV_ID'),how = 'left')\n",
    "per_variant_info_sv_only['tested_ld_w_ukbb'] = (per_variant_info_sv_only.r2_max.isnull() == False)"
   ]
  },
  {
   "cell_type": "code",
   "execution_count": null,
   "metadata": {
    "collapsed": true
   },
   "outputs": [],
   "source": [
    "per_variant_info_sv_only['strong_ld'] = per_variant_info_sv_only.r2_max > 0.8"
   ]
  },
  {
   "cell_type": "code",
   "execution_count": null,
   "metadata": {
    "collapsed": true
   },
   "outputs": [],
   "source": [
    "per_variant_info_sv_only = per_variant_info_sv_only.pipe(add_svtype_cats)"
   ]
  },
  {
   "cell_type": "code",
   "execution_count": null,
   "metadata": {
    "collapsed": true
   },
   "outputs": [],
   "source": [
    "pvt = per_variant_info_sv_only[per_variant_info_sv_only.tested_ld_w_ukbb]"
   ]
  },
  {
   "cell_type": "code",
   "execution_count": null,
   "metadata": {
    "collapsed": true
   },
   "outputs": [],
   "source": [
    "frac_strong_ld = pvt.groupby('SVTYPE_NR').strong_ld.value_counts(normalize = True)"
   ]
  },
  {
   "cell_type": "code",
   "execution_count": null,
   "metadata": {
    "collapsed": true
   },
   "outputs": [],
   "source": [
    "# fraction of linked vars that had a GWAS trait (overall)\n",
    "a = pvt.groupby(('SVTYPE_NR', 'strong_ld')).has_ukbb.value_counts().to_frame('num_var')\n",
    "b =  pvt.groupby(('SVTYPE_NR', 'strong_ld')).has_ukbb.value_counts(normalize = True).to_frame('fraction')\n",
    "frac_w_trait = a.join(b)\n",
    "frac_w_trait = frac_w_trait.loc(axis = 0)[:,True,:]"
   ]
  },
  {
   "cell_type": "code",
   "execution_count": null,
   "metadata": {
    "collapsed": true
   },
   "outputs": [],
   "source": [
    "# fraction of linked eVars that had a GWAS trait (overall)\n",
    "pvt_nlv = pvt[pvt.lead_association == False]\n",
    "a = pvt_nlv.groupby(('SVTYPE_NR', 'strong_ld')).has_ukbb.value_counts().to_frame('num_var')\n",
    "b =  pvt_nlv.groupby(('SVTYPE_NR', 'strong_ld')).has_ukbb.value_counts(normalize = True).to_frame('fraction')\n",
    "frac_w_trait_nlv = a.join(b)\n",
    "frac_w_trait_nlv = frac_w_trait_nlv.loc(axis = 0)[:,True,:]\n",
    "frac_w_trait_nlv['category'] = 'non-lead'"
   ]
  },
  {
   "cell_type": "code",
   "execution_count": null,
   "metadata": {
    "collapsed": true
   },
   "outputs": [],
   "source": [
    "pvt_lv = pvt[pvt.lead_association]\n",
    "a = pvt_lv.groupby(('SVTYPE_NR', 'strong_ld')).has_ukbb.value_counts().to_frame('num_var')\n",
    "b =  pvt_lv.groupby(('SVTYPE_NR', 'strong_ld')).has_ukbb.value_counts(normalize = True).to_frame('fraction')\n",
    "frac_w_trait_lv = a.join(b)\n",
    "frac_w_trait_lv = frac_w_trait_lv.loc(axis = 0)[:,True,:]\n",
    "frac_w_trait_lv['category'] = 'lead'"
   ]
  },
  {
   "cell_type": "code",
   "execution_count": null,
   "metadata": {
    "collapsed": true
   },
   "outputs": [],
   "source": [
    "frac_w_trait_fp = pd.concat([frac_w_trait_lv, frac_w_trait_nlv])\n",
    "frac_w_trait_fp = frac_w_trait_fp.reset_index()"
   ]
  },
  {
   "cell_type": "code",
   "execution_count": null,
   "metadata": {
    "collapsed": true
   },
   "outputs": [],
   "source": [
    "order_var = ['DEL', 'DUP', 'mCNV', 'INV', 'rMEI', 'ALU', 'LINE1', 'SVA', 'STR']\n",
    "stats_comp_dists = compute_mannu_vs_str(pvt, 'r2_max', order_var, col_comp='SVTYPE_NR', comp_cat = 'STR')"
   ]
  },
  {
   "cell_type": "markdown",
   "metadata": {},
   "source": [
    "# Stats"
   ]
  },
  {
   "cell_type": "code",
   "execution_count": null,
   "metadata": {
    "collapsed": true
   },
   "outputs": [],
   "source": [
    "order_var = ['DEL', 'DUP', 'mCNV', 'INV', 'rMEI', 'ALU', 'LINE1', 'SVA', 'STR']\n",
    "stats_comp_dists_lower = compute_mannu_vs_str(pvt, 'r2_max', order_var, col_comp='SVTYPE_NR', comp_cat = 'STR', \n",
    "                                             alternative = 'less')"
   ]
  },
  {
   "cell_type": "code",
   "execution_count": null,
   "metadata": {
    "collapsed": true
   },
   "outputs": [],
   "source": [
    "stats_comp_dists_greater = compute_mannu_vs_str(pvt, 'r2_max', order_var, col_comp='SVTYPE_NR', comp_cat = 'STR', \n",
    "                                             alternative = 'greater')"
   ]
  },
  {
   "cell_type": "code",
   "execution_count": null,
   "metadata": {
    "collapsed": true
   },
   "outputs": [],
   "source": [
    "# Logistic regression model of number of egenes linked to variant versus linkage to ukbb trait\n",
    "from statsmodels.formula.api import logit\n",
    "from statsmodels.formula.api import ols\n",
    "per_var['has_ukbb_bin'] = per_var.has_ukbb.astype(int)\n",
    "\n",
    "models_dfs = []\n",
    "\n",
    "for svt, df in per_var.groupby('SVTYPE_NR'):\n",
    "    \n",
    "    print svt\n",
    "#     m = ols('num_egenes_lead ~ log10_SVLEN + dist_tss_abs + NMODE_AF', data= tdf).fit()\n",
    "    m = logit('has_ukbb_bin ~ num_egenes_lead', data= df).fit()\n",
    "    summary = m.summary2()\n",
    "    summary = summary.tables[1]\n",
    "    summary['SVTYPE']  = svt\n",
    "    models_dfs.append(summary)\n",
    "logit_models_svt_gwas = pd.concat(models_dfs)\n",
    "logit_models_svt_gwas = logit_models_svt_gwas.loc['num_egenes_lead'].pipe(dj_stats.add_bh_fdr, 'P>|z|')\n",
    "logit_models_svt_gwas = logit_models_svt_gwas.set_index('SVTYPE', drop = False)"
   ]
  },
  {
   "cell_type": "code",
   "execution_count": null,
   "metadata": {
    "collapsed": true
   },
   "outputs": [],
   "source": [
    "### fisher exact tests from enrichment of gwas trait linkage\n",
    "\n",
    "enr_gwas_ukbb_svt = pd.read_pickle('/frazer01/projects/hipsci/analysis/i2QTL-sv-analysis/private_output/gwas_ld_ukbb/qtl_results_v4/enr_gwas_ukbb_svt.pkl')\n",
    "enr_gwas_ukbb_svt = enr_gwas_ukbb_svt.set_index('SVTYPE_NR', drop = False)"
   ]
  },
  {
   "cell_type": "code",
   "execution_count": null,
   "metadata": {
    "collapsed": true
   },
   "outputs": [],
   "source": [
    "enr_overall_ld_evar = pd.read_pickle('/frazer01/projects/hipsci/analysis/i2QTL-sv-analysis/private_output/gwas_ld_ukbb/qtl_results_v4/enr_overall_ld_evar.pkl').set_index('SVTYPE_NR', drop = False)"
   ]
  },
  {
   "cell_type": "code",
   "execution_count": null,
   "metadata": {
    "collapsed": true
   },
   "outputs": [],
   "source": [
    "## fraction per svt linked to a trait among lead variants\n",
    "gwas_frac_svt_th = pd.read_pickle('/frazer01/projects/hipsci/analysis/i2QTL-sv-analysis/private_output/gwas_ld_ukbb/qtl_results_v4/gwas_frac_svt_th.pkl')"
   ]
  },
  {
   "cell_type": "code",
   "execution_count": null,
   "metadata": {
    "collapsed": true
   },
   "outputs": [],
   "source": [
    "pvt['strong_ld'] = (pvt.r2_max > 0.8)"
   ]
  },
  {
   "cell_type": "code",
   "execution_count": null,
   "metadata": {
    "collapsed": true
   },
   "outputs": [],
   "source": [
    "num_ld_ukbb = (pvt.groupby((\"SVTYPE_NR\", 'lead_association'))\n",
    "               .strong_ld\n",
    "               .value_counts()\n",
    "               .to_frame('count').reset_index(level = [1,2]))\n",
    "\n",
    "num_ld_ukbb_sig = (pvt.groupby((\"SVTYPE_NR\", 'significant_association'))\n",
    "               .strong_ld\n",
    "               .value_counts()\n",
    "               .to_frame('count').reset_index(level = [1,2]))\n",
    "\n",
    "frac_ld_ukbb = (pvt.groupby((\"SVTYPE_NR\", 'lead_association'))\n",
    "                .strong_ld.value_counts(normalize = True)\n",
    "                .to_frame('fraction').reset_index(level = [1,2]))\n",
    "\n",
    "frac_ld_ukbb = frac_ld_ukbb.reset_index()\n",
    "\n",
    "frac_ld_ukbb['cat'] = 'lead'"
   ]
  },
  {
   "cell_type": "code",
   "execution_count": null,
   "metadata": {
    "collapsed": true
   },
   "outputs": [],
   "source": [
    "frac_ld_sig_ukbb = (pvt.groupby((\"SVTYPE_NR\", 'significant_association'))\n",
    "                .strong_ld.value_counts(normalize = True)\n",
    "                .to_frame('fraction').reset_index(level = [1,2]))\n",
    "frac_ld_sig_ukbb = frac_ld_sig_ukbb.reset_index()\n",
    "frac_ld_sig_ukbb['cat'] = 'significant'"
   ]
  },
  {
   "cell_type": "code",
   "execution_count": null,
   "metadata": {
    "collapsed": true
   },
   "outputs": [],
   "source": [
    "def lambda_cap_group(x, thresh = 2, how = 'greater', alternate = False, type_out = float):\n",
    "    if how =='greater':\n",
    "        if x >= thresh:\n",
    "            if alternate:\n",
    "                return alternate\n",
    "            else:\n",
    "                return thresh\n",
    "            \n",
    "    if how == 'less':\n",
    "        if x <= thresh:\n",
    "            if althernate:\n",
    "                return alternate\n",
    "            else:\n",
    "                return thresh\n",
    "            \n",
    "    return type_out(x)\n",
    "\n",
    "per_var['cap_num_egenes_lead'] = per_var.num_egenes_lead.apply(lambda x: lambda_cap_group(x, 2))\n",
    "per_var['label_num_egenes_lead'] = per_var.num_egenes_lead.apply(lambda x: lambda_cap_group(x, 2, \n",
    "                                                                                             alternate='2+', \n",
    "                                                                                           type_out = lambda x: str(int(x))))\n",
    "per_var['cap_num_egenes'] = per_var.num_egenes.apply(lambda x: lambda_cap_group(x, 2))\n",
    "per_var['label_num_egenes'] =  per_var.num_egenes.apply(lambda x: lambda_cap_group(x, 2, \n",
    "                                                                                   alternate='2+', \n",
    "                                                                                   type_out= (lambda x: int(x))))\n",
    "\n",
    "vc_gwas_by_class = per_var.groupby(('SVTYPE_NR', 'label_num_egenes_lead')).has_ukbb.value_counts(normalize = True).loc(axis = 0)[:, :, True].to_frame('fraction_gwas').reset_index()\n",
    "\n",
    "vc_gwas_by_class_num = per_var.groupby(('SVTYPE_NR', 'label_num_egenes_lead')).has_ukbb.value_counts(normalize = False).to_frame('num_variants')\n",
    "\n",
    "t = per_var.groupby(('SVTYPE_NR', 'label_num_egenes_lead')).has_ukbb.value_counts(normalize = False).to_frame('fraction_variants')\n",
    "\n",
    "vc_gwas_by_class_num = vc_gwas_by_class_num.join(t).reset_index()\n",
    "\n",
    "vc_gwas_by_class_num['has_ukbb_str'] = vc_gwas_by_class_num.has_ukbb.astype(str)"
   ]
  },
  {
   "cell_type": "code",
   "execution_count": null,
   "metadata": {
    "collapsed": true
   },
   "outputs": [],
   "source": [
    "color_pal_svtypes_all = pd.read_pickle('/frazer01/projects/hipsci/analysis/i2QTL-sv-analysis/private_output/Figures/color_pal_svtypes_all.pkl').to_dict()\n",
    "color_pal_comp_to_str = {k:'grey' for k,v in color_pal_svtypes_all.iteritems()}\n",
    "color_pal_comp_to_str['STR'] = 'black'\n",
    "order_var = ['DEL', 'DUP', 'mCNV', 'INV', 'rMEI', 'ALU', 'LINE1', 'SVA', 'STR']\n",
    "color_pal_lead_sig = {'significant': 'grey', 'lead': '#7DCEA0', 'all': 'black'}"
   ]
  },
  {
   "cell_type": "code",
   "execution_count": null,
   "metadata": {
    "collapsed": true
   },
   "outputs": [],
   "source": [
    "def as_si(x, ndp):\n",
    "    s = '{x:0.{ndp:d}e}'.format(x=x, ndp=ndp)\n",
    "    m, e = s.split('e')\n",
    "    return r'{m:s}\\times 10^{{{e:d}}}'.format(m=m, e=int(e))"
   ]
  },
  {
   "cell_type": "code",
   "execution_count": null,
   "metadata": {
    "collapsed": true
   },
   "outputs": [],
   "source": [
    "def buffer_lims(ax, frac = 0.2, buff_specific = False, axis = 'x', direction = 'max'):\n",
    "    if (axis == 'x') | (axis == 'both'):\n",
    "        xmin, xmax = ax.get_xlim()\n",
    "        \n",
    "        tot = xmax - xmin\n",
    "        if not buff_specific:\n",
    "            buff = tot * frac\n",
    "        else:\n",
    "            buff = buff_specific\n",
    "        \n",
    "        if direction == 'max':\n",
    "            xmax = xmax + buff\n",
    "        \n",
    "        elif direction == 'min':\n",
    "            xmin = xmin - abs(buff)\n",
    "        \n",
    "        else:\n",
    "            xmax = xmax + buff\n",
    "            xmin = xmin - abs(buff)\n",
    "        \n",
    "        ax.set_xlim(xmin, xmax)\n",
    "        \n",
    "        \n",
    "    if (axis == 'y') | (axis == 'both'):\n",
    "        ymin, ymax = ax.get_ylim()\n",
    "        \n",
    "        tot = ymax - ymin\n",
    "        \n",
    "        if not buff_specific:\n",
    "            buff = tot * frac\n",
    "        else:\n",
    "            buff = buff_specific\n",
    "        \n",
    "        if direction == 'max':\n",
    "#             print 'buff', buff\n",
    "            ymax = ymax + buff\n",
    "        \n",
    "        elif direction == 'min':\n",
    "            ymin = ymin - abs(buff)\n",
    "        \n",
    "        else:\n",
    "            ymax = ymax + buff\n",
    "            ymin = ymin - abs(buff)\n",
    "        ax.set_ylim(ymin, ymax)"
   ]
  },
  {
   "cell_type": "code",
   "execution_count": null,
   "metadata": {
    "collapsed": true
   },
   "outputs": [],
   "source": [
    "def get_formatted_p_values(p, dp_sci = 2):\n",
    "    def as_si(x, ndp):\n",
    "        s = '{x:0.{ndp:d}e}'.format(x=x, ndp=ndp)\n",
    "        m, e = s.split('e')\n",
    "        return r'{m:s}\\times 10^{{{e:d}}}'.format(m=m, e=int(e))\n",
    "    c = 'black'\n",
    "    if p < 0.05:\n",
    "        c = 'red'\n",
    "    \n",
    "    if p < 0.001:\n",
    "        s = \"%1.2e\" % p\n",
    "        s =\"$q = {0:s}$\".format(as_si(p,dp_sci))\n",
    "       \n",
    "    else: \n",
    "        s = \"%1.2f\" % p\n",
    "        \n",
    "        s= r'$q = %1.2f $' % p\n",
    "    \n",
    "    return s, c"
   ]
  },
  {
   "cell_type": "code",
   "execution_count": null,
   "metadata": {
    "collapsed": true
   },
   "outputs": [],
   "source": [
    "mpl.gridspec.rcParams['legend.handletextpad'] = 0.2\n",
    "mpl.gridspec.rcParams['legend.columnspacing'] = 0.5\n",
    "mpl.gridspec.rcParams['legend.labelspacing'] = 0.5\n",
    "mpl.gridspec.rcParams['axes.labelpad'] = 1\n",
    "mpl.gridspec.rcParams['axes.labelpad'] = 1\n",
    "mpl.gridspec.rcParams['ytick.major.pad'] = 1\n",
    "mpl.gridspec.rcParams['xtick.major.pad'] = 1\n",
    "mpl.gridspec.rcParams['axes.titlesize'] = 10\n",
    "mpl.gridspec.rcParams['axes.labelsize'] = 7\n",
    "mpl.gridspec.rcParams['ytick.labelsize'] = 6\n",
    "mpl.gridspec.rcParams['xtick.labelsize'] = 6\n",
    "mpl.gridspec.rcParams['axes.labelweight'] = 'bold'\n",
    "mpl.gridspec.rcParams['grid.linewidth'] = 0.5\n",
    "mpl.gridspec.rcParams['font.size'] = 7\n",
    "mpl.gridspec.rcParams['legend.facecolor'] = 'white'"
   ]
  },
  {
   "cell_type": "code",
   "execution_count": null,
   "metadata": {
    "collapsed": true
   },
   "outputs": [],
   "source": [
    "fn_loop_example1 = '/frazer01/projects/hipsci/analysis/i2QTL-sv-analysis/private_output/loop_locus_examples_final/locus_images_v3/locus_Human_STR_906007.png'\n",
    "fn_loop_example2 = '/frazer01/projects/hipsci/analysis/i2QTL-sv-analysis/private_output/loop_locus_examples_final/locus_images_v3/locus_CNV_7_100327567_100340653_HipSci.png'"
   ]
  },
  {
   "cell_type": "code",
   "execution_count": 17,
   "metadata": {
    "collapsed": false
   },
   "outputs": [
    {
     "data": {
      "image/png": "[encoded data removed]",
      "text/plain": [
       "<matplotlib.figure.Figure at 0x10fe8ce50>"
      ]
     },
     "metadata": {},
     "output_type": "display_data"
    }
   ],
   "source": [
    "fig =plt.figure(figsize=(6,9), dpi = 100)\n",
    "gs = mpl.gridspec.GridSpec(3, 4, \n",
    "                           figure =fig,\n",
    "                           width_ratios=[1.5, 1.2, 1.4, 1], \n",
    "                           height_ratios = [0.5,0.5, 3], wspace = 0.5, hspace=0)\n",
    "\n",
    "\n",
    "\n",
    "subgrid_bb = mpl.gridspec.GridSpecFromSubplotSpec(9,1, subplot_spec= gs[0:2,0], wspace=0.3,\n",
    "                                               hspace= 0.1, width_ratios = [1])\n",
    "\n",
    "\n",
    "ax2 = fig.add_subplot(gs[0:2,1])\n",
    "ax3 = fig.add_subplot(gs[0:2, 2])\n",
    "\n",
    "ax4 = fig.add_subplot(gs[0:2, 3])\n",
    "\n",
    "\n",
    "subgrid2 = mpl.gridspec.GridSpecFromSubplotSpec(2,1, subplot_spec= gs[2:,:], wspace=0,\n",
    "                                               hspace= 0)\n",
    "\n",
    "ax5 =  fig.add_subplot(subgrid2[0])\n",
    "# ax6 =  fig.add_subplot(subgrid2[1])\n",
    "# ax5 =  fig.add_subplot(gs[2:,0])\n",
    "\n",
    "###################### Distributions of LD ############################\n",
    "axes = []\n",
    "xticks = [0, 0.2, 0.4, 0.6, 0.8, 1.0]\n",
    "for i, svt in enumerate(order_var):\n",
    "    if i == 0:\n",
    "        a = fig.add_subplot(subgrid_bb[i: i+1, 0], facecolor = (0,0,0,0))\n",
    "    \n",
    "    else:\n",
    "        a = fig.add_subplot(subgrid_bb[i: i+1, 0], facecolor = (0,0,0,0), sharex = a)\n",
    "    axes.append(a)\n",
    "    tdf = pvt[pvt.SVTYPE_NR == svt]\n",
    "    c =  sns.kdeplot(tdf['r2_max'],ax = a, color = color_pal_comp_to_str[svt], label = \"_nolegend_\",\n",
    "                     legend = False, shade = True, lw = 1, cut = 1, bw = 0.05, zorder = 20, alpha = 0.8)\n",
    "    \n",
    "    \n",
    "    sns.despine(ax =a, left = False)\n",
    "    a.set_yticklabels([])\n",
    "    a.tick_params(axis = 'y', length = 0)\n",
    "    a.xaxis.grid(linewidth = 0.5)\n",
    "    a.set_xticks(xticks)\n",
    "    a.axvline(0.8, linestyle = '--', color = '#FFB265', lw = 1.5)\n",
    "#     ax3.axvline\n",
    "    \n",
    "    if svt != 'STR':\n",
    "        a.tick_params(axis = 'x', length = 0)\n",
    "        plt.setp(a.get_xticklabels(), visible=False)\n",
    "        \n",
    "    buffer_lims(a, frac = 0.35, direction='max', axis = 'y')\n",
    "    \n",
    "    a.text(-0.05, 0.5, svt, color= 'black', clip_on = False, transform = a.transAxes,\n",
    "           horizontalalignment='right',  verticalalignment='center', weight = 'bold')\n",
    "    \n",
    "    frac = frac_strong_ld.loc[svt, True]\n",
    "    s = '{:.1%}'.format(frac)\n",
    "    ymin, ymax = a.get_ylim()\n",
    "    xmin, xmax = a.get_xlim()\n",
    "    a.text(0.8, 0.83, s, color= 'black', clip_on = False, transform = a.transAxes,\n",
    "           horizontalalignment='left',  verticalalignment='center', weight = 'bold', fontsize = 7)\n",
    "    a.fill_betweenx([ymax, 0], x1 = [0.8, 0.8], \n",
    "                    x2 = [1.1, 1.1], color= '#FFB265', \n",
    "                    zorder = 0, alpha = 0.5,\n",
    "                   label = 'Strong LD')\n",
    "    \n",
    "    \n",
    "    text = stats_comp_dists_lower.loc[svt, 'p_bonf']\n",
    "    c = 'black'\n",
    "    xloc = 0\n",
    "    yloc = 0.8\n",
    "    if svt != 'STR':\n",
    "        if text < 0.05:\n",
    "            c = 'red'\n",
    "            \n",
    "        if text < 1e-40:\n",
    "            text = 1e-40\n",
    "            a.text(xloc, yloc,  r\"$p < 10^{-40}$\", ha = 'left', va = 'center', \n",
    "                   fontsize = 6, transform = a.transAxes, color = c)\n",
    "\n",
    "\n",
    "        elif text < 0.001:\n",
    "            s = \"%1.2e\" % text\n",
    "            a.text(xloc, yloc,  r\"$p = {0:s}$\".format(as_si(text, 2)), ha = 'left', va = 'center', \n",
    "                   fontsize = 6, transform = a.transAxes, color = c)\n",
    "\n",
    "        else: \n",
    "            s = \"%1.2f\" % text\n",
    "            a.text(xloc, yloc, r'$p = %1.2f $' % text, ha = 'left', va = 'center', fontsize = 6, \n",
    "                   transform = a.transAxes, color = c)\n",
    "\n",
    "ax1_b = axes[-1]\n",
    "ax1_a = axes[0]\n",
    "ax1_mid = axes[4]\n",
    "ax1_b.set_xlabel('Maximum LD ($R^2$)')\n",
    "ax1_b.tick_params(axis = 'x', labelrotation = 45)\n",
    "leg = ax1_a.legend(bbox_to_anchor = (0.5,1), loc = 'lower center')\n",
    "ax1_mid.set_ylabel('Density (No. Variants)\\n\\n\\n')\n",
    "\n",
    "################################## Strong LD #####################\n",
    "pal = {True: '#7DCEA0', False: 'black'}\n",
    "ax2.xaxis.grid(zorder = 0)\n",
    "sns.barplot(y = 'SVTYPE_NR', x = 'fraction', data= frac_ld_ukbb[frac_ld_ukbb.strong_ld], \n",
    "            hue = 'lead_association', \n",
    "            hue_order = [True, False], palette=pal, order = order_var, ax = ax2, zorder = 10)\n",
    "\n",
    "\n",
    "ax2.set_xlabel('% Variants in strong LD \\n ($R^2 > 0.8$) \\n with UKBB variant')\n",
    "ax2.set_ylabel('')\n",
    "ax2.set_xticks([0, 0.25, 0.5, 0.75, 1.0])\n",
    "ax2.set_xlim(0, 1.5)\n",
    "ax2.xaxis.set_major_formatter(mtick.PercentFormatter(1, symbol = None, decimals=0))\n",
    "sns.despine(ax =ax2, left = False)\n",
    "\n",
    "ax2.tick_params(axis = 'x', labelrotation = 45)\n",
    "leg = ax2.legend(fontsize = 6, title = 'lead eVariant', bbox_to_anchor = (0.5, 1), ncol = 2, \n",
    "                 loc = 'lower center')\n",
    "#################### Strong LD With GWAS ################################\n",
    "ax3.xaxis.grid(zorder = 0)\n",
    "sns.barplot(y = 'SVTYPE_NR', x = '% with GWAS', data= gwas_frac_svt_th, \n",
    "            hue = 'lead_association', \n",
    "            hue_order = [True, False], palette=pal, order = order_var, ax = ax3, zorder = 10)\n",
    "\n",
    "\n",
    "ax3.set_xticks([0, 0.2, 0.4, 0.6])\n",
    "ax3.set_xlim(0,0.61)\n",
    "ax3.xaxis.set_major_formatter(mtick.PercentFormatter(1, symbol = None, decimals=0))\n",
    "\n",
    "ax3.xaxis.set_major_formatter(mtick.PercentFormatter(1, symbol = None, decimals=0))\n",
    "ax3.set_xlabel('% Variants in strong LD \\n with GWAS hit')\n",
    "ax3.set_ylabel('')\n",
    "leg = ax3.legend(fontsize = 6, title = 'lead eVariant', bbox_to_anchor = (0.5, 1), ncol = 2, \n",
    "                 loc = 'lower center')\n",
    "\n",
    "sns.despine(ax =ax3, left = False)\n",
    "###################### Annotate p-values ################\n",
    "for svt, y in zip(order_var, ax3.get_yticks()):\n",
    "    text = enr_gwas_ukbb_svt.loc[svt, 'fdr_corrected_p']\n",
    "    c = 'black'\n",
    "    xloc = 0.4\n",
    "    if text < 0.05:\n",
    "        c = 'red'\n",
    "    if text < 0.001:\n",
    "        s = \"%1.2e\" % text\n",
    "        ax3.text(xloc, y,  r\"$q = {0:s}$\".format(as_si(text, 2)), ha = 'left', va = 'center', \n",
    "                 color = c, fontsize = 6)\n",
    "         \n",
    "       \n",
    "    else: \n",
    "        s = \"%1.2f\" % text\n",
    "        ax3.text(xloc, y, r'$q = %1.2f $' % text, ha = 'left', va = 'center', fontsize = 6, color = c)\n",
    "\n",
    "for svt, y in zip(order_var, ax2.get_yticks()):\n",
    "    text = enr_overall_ld_evar.loc[svt, 'fdr_corrected_p']\n",
    "    c = 'black'\n",
    "    if text < 0.05:\n",
    "        c = 'red'\n",
    "    \n",
    "    if text < 0.001:\n",
    "        s = \"%1.2e\" % text\n",
    "        ax2.text(0.88, y,  r\"$q = {0:s}$\".format(as_si(text, 2)), ha = 'left', va = 'center', fontsize = 6, \n",
    "                color = c)\n",
    "         \n",
    "       \n",
    "    else: \n",
    "        s = \"%1.2f\" % text\n",
    "        ax2.text(0.88, y, r'$q = %1.2f $' % text, ha = 'left', va = 'center', fontsize = 6, \n",
    "                color = c)\n",
    "        \n",
    "        \n",
    "######################## No. eGenes Per Variant Versus Likelihood to be in Strong LD with GWAS variant ###########\n",
    "sns.set_palette('Reds')\n",
    "ax4.xaxis.grid(zorder = 0)\n",
    "sns.barplot(y = 'SVTYPE_NR', x = 'fraction_gwas', \n",
    "            data = vc_gwas_by_class, hue = 'label_num_egenes_lead', \n",
    "           ax = ax4, order = order_var, hue_order = ['0', '1', '2+'])\n",
    "\n",
    "ax4.legend(bbox_to_anchor = (0,1), loc = 'lower left', title = 'No. eGenes')\n",
    "ax4.set_xlabel('% Variants in strong LD \\n with GWAS hit')\n",
    "ax4.set_ylabel('')\n",
    "sns.despine(ax = ax4)\n",
    "ax4.set_xticks([0,0.25,0.5])\n",
    "x = 0.5\n",
    "for svt, y in zip(order_var, ax4.get_yticks()):\n",
    "    p = logit_models_svt_gwas.loc[svt, 'fdr_corrected_p']\n",
    "    text, c = get_formatted_p_values(p)\n",
    "    ax4.text(x, y, text, ha = 'left', va = 'bottom', fontsize = 6, \n",
    "                color = c)\n",
    "\n",
    "gs.tight_layout(fig)    \n",
    "    \n",
    "im = mpimg.imread(fn_loop_example1)\n",
    "ax5.imshow(im, zorder = 0, alpha = 0.8)\n",
    "ax5.set_facecolor('#eaece5')\n",
    "ax5.set(xticklabels= [], yticklabels =[])\n",
    "ax5.tick_params(axis = 'both', length = 0)\n",
    "ax5.set_axis_off()\n",
    "\n",
    "\n",
    "fig.canvas.draw()\n",
    "\n",
    "mpltools.offset_keep_bounds(ax5, ax1_b, fig, offset_type= 'bottom', use_offset_edge = True,\n",
    "                            x = 0, y = -0.5,units = 'inches', offset_from_extents = True)\n",
    "\n",
    "mpltools.resize_axes(ax5, fig, scale_factor=1.16, expand_top_left=True)\n",
    "\n",
    "fig.canvas.draw()\n",
    "ax6 = mpltools.draw_new_ax_offset(ax5, fig, \n",
    "                                  bbox_offset=[0,0],\n",
    "                                  match_height=True, \n",
    "                                  match_width=True, \n",
    "                                  y = -0.2, units='inches',\n",
    "                                 offset_from_top_left= True)\n",
    "\n",
    "\n",
    "im = mpimg.imread(fn_loop_example2)\n",
    "ax6.imshow(im, zorder = 0, alpha = 0.8, aspect = 'equal')\n",
    "ax6.set_facecolor('#eaece5')\n",
    "ax6.set(xticklabels= [], yticklabels =[])\n",
    "ax6.tick_params(axis = 'both', length = 0)\n",
    "ax6.set_axis_off()\n",
    "fig.canvas.draw()\n",
    "labels = ['A', 'B', 'C', 'D', 'E', 'F']\n",
    "for i, a in enumerate([axes[0], ax2, ax3, ax4, ax5, ax6]):\n",
    "    mpltools.label_offset_axes(a, fig, labels[i], x = -20, y = 4)\n",
    "\n",
    "out_fn = private_out + '/Figure_LD_and_GWAS_v6'\n",
    "fig.savefig(out_fn, bbox_inches='tight', dpi = 500)"
   ]
  }
 ],
 "metadata": {
  "kernelspec": {
   "display_name": "Python 2",
   "language": "python",
   "name": "python2"
  },
  "language_info": {
   "codemirror_mode": {
    "name": "ipython",
    "version": 2
   },
   "file_extension": ".py",
   "mimetype": "text/x-python",
   "name": "python",
   "nbconvert_exporter": "python",
   "pygments_lexer": "ipython2",
   "version": "2.7.3"
  }
 },
 "nbformat": 4,
 "nbformat_minor": 2
}
