{
 "cells": [
  {
   "cell_type": "code",
   "execution_count": 64,
   "metadata": {
    "collapsed": true
   },
   "outputs": [],
   "source": [
    "%matplotlib inline\n",
    "from __future__ import division\n",
    "import numpy as np\n",
    "import os\n",
    "import sys\n",
    "import datetime\n",
    "from subprocess import call\n",
    "import subprocess\n",
    "import glob\n",
    "\n",
    "import warnings\n",
    "warnings.simplefilter(action='ignore', category=FutureWarning)\n",
    "import djPyi2 as DJ\n",
    "from djPyi2 import Common as CM\n",
    "from djPyi2 import mpltools\n",
    "\n",
    "import pandas as pd\n",
    "pd.options.mode.chained_assignment = None\n",
    "import csv\n",
    "import seaborn as sns\n",
    "import matplotlib as mpl\n",
    "import matplotlib.pyplot as plt\n",
    "import copy \n",
    "import pybedtools as pbt\n",
    "import ciepy\n",
    "import cardipspy as cpy\n",
    "import itertools\n",
    "\n",
    "import tempfile\n",
    "import six\n",
    "import networkx as nx\n",
    "import scipy.stats as stats\n",
    "pd.set_option('display.max_columns', 500)\n",
    "pd.set_option('display.max_rows', 100)\n",
    "from mpl_toolkits.axes_grid1 import  make_axes_locatable\n",
    "import datetime\n",
    "from matplotlib.colors import LogNorm\n",
    "import matplotlib.image as mpimg\n",
    "\n",
    "from scipy.stats import mode\n",
    "dy_name = 'properties_of_egenes_analysis'\n",
    "\n",
    "private_out = os.path.join(DJ.root, 'private_output', dy_name)\n",
    "if not os.path.exists(private_out):\n",
    "    DJ.makedir(private_out)\n",
    "\n",
    "import vapeplot\n",
    "\n",
    "from matplotlib.ticker import FuncFormatter\n",
    "from matplotlib.legend_handler import HandlerBase\n",
    "from matplotlib.transforms import Bbox, TransformedBbox,blended_transform_factory\n",
    "from mpl_toolkits.axes_grid1.inset_locator import BboxPatch, BboxConnector,BboxConnectorPatch\n",
    "\n",
    "import gc\n",
    "\n",
    "from djPyi2 import pandas_methods as pm\n",
    "\n",
    "from djPyi2 import stats as dj_stats\n",
    "\n",
    "import scipy.stats as sps\n",
    "\n",
    "from statsmodels.formula.api import ols\n",
    "from statsmodels.formula.api import logit"
   ]
  },
  {
   "cell_type": "code",
   "execution_count": 16,
   "metadata": {
    "collapsed": true
   },
   "outputs": [],
   "source": [
    "outdir = private_out + '/qtl_data_01_19'\n",
    "if not os.path.exists(outdir):\n",
    "    DJ.makedir(outdir)"
   ]
  },
  {
   "cell_type": "code",
   "execution_count": 66,
   "metadata": {
    "collapsed": false
   },
   "outputs": [
    {
     "data": {
      "text/plain": [
       "<module 'djPyi2.mpltools' from '/frazer01/projects/hipsci/analysis/i2QTL-sv-analysis/djPyi2/djPyi2/mpltools.py'>"
      ]
     },
     "execution_count": 66,
     "metadata": {},
     "output_type": "execute_result"
    }
   ],
   "source": [
    "reload(mpltools)"
   ]
  },
  {
   "cell_type": "markdown",
   "metadata": {},
   "source": [
    "# Analyze gene types, and Exac scores of eGenes within different classes\n"
   ]
  },
  {
   "cell_type": "markdown",
   "metadata": {},
   "source": [
    "# From Exac Readme \n",
    "\n",
    "Methods for the creation of pLI will be included in the supplement of the ExAC paper (Lek et al, in prep). Briefly, we used the observed and expected number of loss-of-function variants per gene to determine a posterior probability of each gene belonging to one of three categories: \n",
    "1) completely tolerant of loss-of-function variation (observed = expected) \n",
    "2) intolerant of two loss-of-function variants (like recessive genes, observed ~ 0.5*expected) \n",
    "3) intolerant of a single loss-of-function variant (like haploinsufficient genes, observed ~ 0.1*expected) \n",
    " \n",
    "pLI is the probability of falling into category 3, pRec is the probability of falling into category 2, and pNull is the probability of falling into category 1. "
   ]
  },
  {
   "cell_type": "code",
   "execution_count": 3,
   "metadata": {
    "collapsed": true
   },
   "outputs": [],
   "source": [
    "def prep_tx_info(df):\n",
    "    df = df.copy()\n",
    "    df['gene_id_mod'] = df.gene_id.apply(lambda x: x.split('.')[0])\n",
    "    df = df.set_index('tx_id', drop = False)\n",
    "    return df\n",
    "tx_info =  pd.read_table('/publicdata/gencode_v19_20151104/transcript_to_gene.tsv', names=['tx_id', 'gene_id']).pipe(prep_tx_info)\n",
    "tx_gene_dict = tx_info.gene_id_mod.to_dict()"
   ]
  },
  {
   "cell_type": "code",
   "execution_count": 9,
   "metadata": {
    "collapsed": true
   },
   "outputs": [],
   "source": [
    "def prep_gene_info(df):\n",
    "    df = df.copy()\n",
    "    df['gene_id_mod'] = df.gene_id.apply(lambda x: x.split('.')[0])\n",
    "    df = df.set_index('gene_id_mod', drop = False)\n",
    "    return df"
   ]
  },
  {
   "cell_type": "code",
   "execution_count": 82,
   "metadata": {
    "collapsed": true
   },
   "outputs": [],
   "source": [
    "def fix_svtypes(df, suff = ''):\n",
    "    svt_col = \"SVTYPE{}\".format(suff)\n",
    "    st_col = \"SUBTYPE{}\".format(suff)\n",
    "    \n",
    "    mask = ((df[svt_col] == 'mCNV') & (df[st_col] == 'DEL'))\n",
    "\n",
    "    mask_nr = ((df[svt_col] == 'mCNV') & (df[st_col] == 'DEL') & \n",
    "                           (df.ID == df.NR_ID))\n",
    "    df.loc[mask_nr, \"SVTYPE_NR\"] = 'DEL'\n",
    "    df.loc[mask, svt_col] = 'DEL'\n",
    "    return df"
   ]
  },
  {
   "cell_type": "code",
   "execution_count": 95,
   "metadata": {
    "collapsed": true
   },
   "outputs": [],
   "source": [
    "def prep_eqtl_info(var_egene):\n",
    "    mask = ((var_egene.SVTYPE_NR == 'DEL') & (var_egene.CALLER == 'GS'))\n",
    "    var_egene.loc[mask, 'beta_corrected'] = var_egene.loc[mask, 'beta']  * -1\n",
    "    var_egene['exonic'] =  var_egene.coding # make naming better\n",
    "    var_egene['ID'] = var_egene.snp_id\n",
    "    var_egene = var_egene.pipe(fix_svtypes)\n",
    "    var_egene['beta_abs'] = var_egene.beta.abs()\n",
    "    # some additional columns for downstream analysis\n",
    "    var_egene['overlapping_egene'] = ((var_egene.genic_category_variant != 'intergenic' ) &(var_egene.significant))\n",
    "    var_egene['nonol_egene'] = ((var_egene.genic_category_variant == 'intergenic' ) &(var_egene.significant))\n",
    "    var_egene['overlapping_egene_lead'] = ((var_egene.genic_category_variant != 'intergenic' ) &(var_egene.top_hit_final_sig))\n",
    "    var_egene['nonol_egene_lead'] = ((var_egene.genic_category_variant == 'intergenic' ) &(var_egene.top_hit_final_sig))\n",
    "    return var_egene"
   ]
  },
  {
   "cell_type": "code",
   "execution_count": 96,
   "metadata": {
    "collapsed": true
   },
   "outputs": [],
   "source": [
    "per_var = pd.read_pickle('/frazer01/projects/hipsci/analysis/i2QTL-sv-analysis/private_output/eqtl_processing/qtl_results_01_17_v4/per_variant_info_sv_only.pkl').pipe(fix_svtypes)\n",
    "\n",
    "var_egene = pd.read_pickle('/frazer01/projects/hipsci/analysis/i2QTL-sv-analysis/private_output/eqtl_processing/qtl_results_01_17_v4/var_egene_annot_maf5_sv_only.pkl').pipe(prep_eqtl_info)\n",
    "var_egene_nr = var_egene[(var_egene.most_significant_nr)]\n",
    "\n",
    "fn = '/publicdata/ExAC_release0.3.1/fordist_cleaned_exac_r03_march16_z_pli_rec_null_data.txt'\n",
    "exac = pd.read_table(fn)\n",
    "exac['gene_id'] = exac.transcript.apply(lambda x: tx_gene_dict.get(x,False))"
   ]
  },
  {
   "cell_type": "code",
   "execution_count": 149,
   "metadata": {
    "collapsed": true
   },
   "outputs": [],
   "source": [
    "fn = '/publicdata/ExAC_release0.3.1/fordist_cleaned_exac_r03_march16_z_pli_rec_null_data.txt'\n",
    "exac = pd.read_table(fn)\n",
    "exac['gene_id'] = exac.transcript.apply(lambda x: tx_gene_dict.get(x,False))"
   ]
  },
  {
   "cell_type": "code",
   "execution_count": 97,
   "metadata": {
    "collapsed": true
   },
   "outputs": [],
   "source": [
    "gene_info = pd.read_table('/frazer01/publicdata/gencode_v19_20151104/gene_info.tsv').pipe(prep_gene_info)"
   ]
  },
  {
   "cell_type": "code",
   "execution_count": 98,
   "metadata": {
    "collapsed": true
   },
   "outputs": [],
   "source": [
    "cols = 'gene_id exp_syn\texp_mis\texp_lof\tsyn_z\tmis_z\tlof_z\tpLI\tpRec\tpNull'.split()\n",
    "var_egene_nr = var_egene_nr.merge(exac[cols], \n",
    "                                  left_on = 'feature_id', \n",
    "                                  right_on = 'gene_id', how = 'left')"
   ]
  },
  {
   "cell_type": "code",
   "execution_count": 150,
   "metadata": {
    "collapsed": true
   },
   "outputs": [],
   "source": [
    "feats = var_egene_nr.feature_id.unique()\n",
    "exac['tested_eqtl'] = exac.gene_id.isin(feats)\n",
    "feats = var_egene_nr[var_egene_nr.significant].feature_id.unique()\n",
    "exac['sig_eqtl'] =  exac.gene_id.isin(feats)\n",
    "col = 'syn_z\tmis_z\tlof_z\tpLI\tpRec\tpNull'.split()\n",
    "t = exac[exac.tested_eqtl].groupby('sig_eqtl')[col].describe()"
   ]
  },
  {
   "cell_type": "code",
   "execution_count": 151,
   "metadata": {
    "collapsed": true
   },
   "outputs": [],
   "source": [
    "cols = ['snp_id', 'NR_ID', 'SVTYPE_NR','SVTYPE_NR_C', 'SVTYPE', 'SUBTYPE', \n",
    " 'overlapping_egene', 'overlapping_egene_lead',\n",
    " 'coding', 'genic_category_variant','beta_corrected', 'gene_var_id']\n",
    "\n",
    "df = var_egene_nr[var_egene_nr.top_hit_final_sig].set_index('feature_id')[cols]\n",
    "exac = exac.merge(df, left_on='gene_id', right_index=True, how = 'left')\n",
    "significant = var_egene_nr[(var_egene_nr.SVTYPE_NR == 'mCNV') & (var_egene_nr.significant)].feature_id.to_frame('significant')\n",
    "lead = var_egene_nr[(var_egene_nr.SVTYPE_NR == 'mCNV') & (var_egene_nr.top_hit_final_sig)].feature_id.to_frame('lead')"
   ]
  },
  {
   "cell_type": "code",
   "execution_count": 177,
   "metadata": {
    "collapsed": true
   },
   "outputs": [],
   "source": [
    "exac['gene_var_id'] = exac.gene_id + '_' + exac.snp_id"
   ]
  },
  {
   "cell_type": "code",
   "execution_count": 178,
   "metadata": {
    "collapsed": true
   },
   "outputs": [],
   "source": [
    "exac_tested = exac[exac.tested_eqtl]"
   ]
  },
  {
   "cell_type": "markdown",
   "metadata": {},
   "source": [
    "# Lets condense some of the gene type categories to those that are common- what we are primarily interested is protein coding vs non-protein coding"
   ]
  },
  {
   "cell_type": "code",
   "execution_count": 107,
   "metadata": {
    "collapsed": true
   },
   "outputs": [],
   "source": [
    "colors = vapeplot.palette('vaporwave')\n",
    "gene_types = ['protein_coding', 'pseudogene', 'lincRNA', 'antisense', 'miRNA', 'misc_RNA', 'snoRNA', 'sense_intronic', 'processed_transcript', 'sense_overlapping', 'polymorphic_pseudogene', '3prime_overlapping_ncrna', 'TR_C_gene']\n",
    "\n",
    "colors_dict_gene_types = dict(zip(gene_types, [colors[i] for i in range(len(gene_types))]))\n",
    "\n",
    "gene_types = ['protein_coding', 'pseudogene', 'lincRNA', 'antisense', 'miRNA', 'misc_RNA', 'snoRNA', 'sense_intronic', 'processed_transcript', 'sense_overlapping', 'polymorphic_pseudogene', '3prime_overlapping_ncrna', 'TR_C_gene']\n",
    "mapping = dict(zip(gene_types, gene_types[:-4] + ['other', 'other', 'other', 'other']))\n",
    "\n",
    "gene_types_mod = ['protein_coding', 'pseudogene', 'lincRNA', 'antisense', 'miRNA', 'misc_RNA', 'snoRNA', 'sense_intronic', 'processed_transcript', 'other']\n",
    "\n",
    "gene_types_mod2 = ['protein_coding', 'pseudogene', 'lincRNA', 'antisense', 'other',\n",
    "                   'other', 'other', 'other', 'other', 'other', 'other']\n",
    "\n",
    "mapping2 = dict(zip(gene_types, gene_types_mod2))\n",
    "\n",
    "var_egene_nr['gene_type_mod'] = var_egene_nr.gene_type.map(mapping)\n",
    "var_egene_nr['gene_type_mod2'] = var_egene_nr.gene_type.map(mapping2)\n",
    "\n",
    "gene_info['gene_type_mod'] = gene_info.gene_type.map(mapping)\n",
    "gene_info['gene_type_mod2'] = gene_info.gene_type.map(mapping2)\n",
    "\n",
    "# couple different options here we will plot the data and see what works best, keep modifying-\n",
    "# some groups too small to really compare\n",
    "\n",
    "colors_dict_gene_types_mod  = dict(zip(gene_types_mod, sns.color_palette('pastel')))\n",
    "colors_dict_gene_types_mod2  = dict(zip(gene_types_mod2, sns.color_palette('pastel')))"
   ]
  },
  {
   "cell_type": "markdown",
   "metadata": {},
   "source": [
    "# Gene Type Stacked Bar Plot Prep- Genic/non-genic/all for significant/lead"
   ]
  },
  {
   "cell_type": "code",
   "execution_count": 108,
   "metadata": {
    "collapsed": false
   },
   "outputs": [
    {
     "name": "stdout",
     "output_type": "stream",
     "text": [
      "sb_ol_egene_mod = pd.read_pickle('/frazer01/projects/hipsci/analysis/i2QTL-sv-analysis/private_output/properties_of_egenes_analysis/qtl_data_01_19/sb_ol_egene_mod.pkl')\n",
      "\n",
      "sb_nonol_egene_mod = pd.read_pickle('/frazer01/projects/hipsci/analysis/i2QTL-sv-analysis/private_output/properties_of_egenes_analysis/qtl_data_01_19/sb_nonol_egene_mod.pkl')\n",
      "\n",
      "sb_all_egene_types_mod = pd.read_pickle('/frazer01/projects/hipsci/analysis/i2QTL-sv-analysis/private_output/properties_of_egenes_analysis/qtl_data_01_19/sb_all_egene_types_mod.pkl')\n",
      "\n",
      "vc_ol_egene_types_mod = pd.read_pickle('/frazer01/projects/hipsci/analysis/i2QTL-sv-analysis/private_output/properties_of_egenes_analysis/qtl_data_01_19/vc_ol_egene_types_mod.pkl')\n",
      "\n",
      "vc_all_egene_types_mod = pd.read_pickle('/frazer01/projects/hipsci/analysis/i2QTL-sv-analysis/private_output/properties_of_egenes_analysis/qtl_data_01_19/vc_all_egene_types_mod.pkl')\n",
      "\n"
     ]
    }
   ],
   "source": [
    "# Stacked Bar of Lead All and OL/non-OL gene Types\n",
    "vcs = []\n",
    "for i, df in var_egene_nr[var_egene_nr.lead_qtl].groupby(('SVTYPE_NR_C', 'overlapping_egene')):\n",
    "    inds = df.feature_id.unique()\n",
    "    vc = gene_info.loc[inds].gene_type_mod2.value_counts(normalize = True).to_frame('fraction')\n",
    "    t = gene_info.loc[inds].gene_type_mod2.value_counts().to_frame('count')\n",
    "    vc['SVTYPE'] = i[0]\n",
    "    vc['coding'] = i[1]\n",
    "    vc['count'] = t\n",
    "    vcs.append(vc)\n",
    "\n",
    "vcs2 = []\n",
    "for i, df in var_egene_nr[var_egene_nr.lead_qtl].groupby(('SVTYPE_NR_C')):\n",
    "    inds = df.feature_id.unique()\n",
    "    vc = gene_info.loc[inds].gene_type_mod2.value_counts(normalize = True).to_frame('fraction')\n",
    "    t = gene_info.loc[inds].gene_type_mod2.value_counts().to_frame('count')\n",
    "    vc['SVTYPE'] = i\n",
    "    vc['count'] = t\n",
    "    vcs2.append(vc)\n",
    "\n",
    "vcs = pd.concat(vcs)\n",
    "\n",
    "vcs2 = pd.concat(vcs2)\n",
    "\n",
    "vcs['gene_type_mod'] = vcs.index\n",
    "\n",
    "vcs2['gene_type_mod']= vcs2.index\n",
    "\n",
    "sb_coding4 = pd.pivot_table(vcs[vcs.coding], index = 'SVTYPE', columns = 'gene_type_mod', \n",
    "                           values = 'fraction').fillna(0)\n",
    "\n",
    "sb_nc4 = pd.pivot_table(vcs[vcs.coding == False], index = 'SVTYPE', \n",
    "                       columns = 'gene_type_mod', values = 'fraction').fillna(0)\n",
    "\n",
    "sb_all4 = pd.pivot_table(vcs2, index = 'SVTYPE', columns = 'gene_type_mod', values = 'fraction').fillna(0)\n",
    "\n",
    "CM.save_dataframe('sb_ol_egene_mod', sb_coding4, outdir, print_vars_recorded_loc=False, print_only_pickle=True)\n",
    "CM.save_dataframe('sb_nonol_egene_mod', sb_nc4, outdir, print_vars_recorded_loc=False, print_only_pickle=True)\n",
    "CM.save_dataframe('sb_all_egene_types_mod', sb_all4, \n",
    "                  outdir, print_vars_recorded_loc=False, print_only_pickle=True)\n",
    "CM.save_dataframe('vc_ol_egene_types_mod', vcs, outdir, print_vars_recorded_loc= False, print_only_pickle=True)\n",
    "CM.save_dataframe('vc_all_egene_types_mod', vcs2, outdir, print_vars_recorded_loc= False, print_only_pickle=True)"
   ]
  },
  {
   "cell_type": "code",
   "execution_count": 109,
   "metadata": {
    "collapsed": false
   },
   "outputs": [
    {
     "name": "stdout",
     "output_type": "stream",
     "text": [
      "sb_ol_egene_sig_mod = pd.read_pickle('/frazer01/projects/hipsci/analysis/i2QTL-sv-analysis/private_output/properties_of_egenes_analysis/qtl_data_01_19/sb_ol_egene_sig_mod.pkl')\n",
      "\n",
      "sb_nonol_egene_sig_mod = pd.read_pickle('/frazer01/projects/hipsci/analysis/i2QTL-sv-analysis/private_output/properties_of_egenes_analysis/qtl_data_01_19/sb_nonol_egene_sig_mod.pkl')\n",
      "\n",
      "sb_all_egene_types_sig_mod = pd.read_pickle('/frazer01/projects/hipsci/analysis/i2QTL-sv-analysis/private_output/properties_of_egenes_analysis/qtl_data_01_19/sb_all_egene_types_sig_mod.pkl')\n",
      "\n",
      "vc_ol_egene_types_sig_mod = pd.read_pickle('/frazer01/projects/hipsci/analysis/i2QTL-sv-analysis/private_output/properties_of_egenes_analysis/qtl_data_01_19/vc_ol_egene_types_sig_mod.pkl')\n",
      "\n",
      "vc_all_egene_types_sig_mod = pd.read_pickle('/frazer01/projects/hipsci/analysis/i2QTL-sv-analysis/private_output/properties_of_egenes_analysis/qtl_data_01_19/vc_all_egene_types_sig_mod.pkl')\n",
      "\n"
     ]
    }
   ],
   "source": [
    "vcs = []\n",
    "for i, df in var_egene_nr[var_egene_nr.significant].groupby(('SVTYPE_NR_C', 'overlapping_egene')):\n",
    "    inds = df.feature_id.unique()\n",
    "    vc = gene_info.loc[inds].gene_type_mod2.value_counts(normalize = True).to_frame('fraction')\n",
    "    t = gene_info.loc[inds].gene_type_mod2.value_counts().to_frame('count')\n",
    "    vc['SVTYPE'] = i[0]\n",
    "    vc['coding'] = i[1]\n",
    "    vc['count'] = t\n",
    "    vcs.append(vc)\n",
    "\n",
    "vcs2 = []\n",
    "for i, df in var_egene_nr[var_egene_nr.significant].groupby(('SVTYPE_NR_C')):\n",
    "    inds = df.feature_id.unique()\n",
    "    vc = gene_info.loc[inds].gene_type_mod2.value_counts(normalize = True).to_frame('fraction')\n",
    "    t = gene_info.loc[inds].gene_type_mod2.value_counts().to_frame('count')\n",
    "    vc['SVTYPE'] = i\n",
    "    vc['count'] = t\n",
    "    vcs2.append(vc)\n",
    "\n",
    "vcs = pd.concat(vcs)\n",
    "\n",
    "vcs2 = pd.concat(vcs2)\n",
    "\n",
    "vcs['gene_type_mod'] = vcs.index\n",
    "\n",
    "vcs2['gene_type_mod']= vcs2.index\n",
    "\n",
    "sb_coding5 = pd.pivot_table(vcs[vcs.coding], index = 'SVTYPE', columns = 'gene_type_mod', \n",
    "                           values = 'fraction').fillna(0)\n",
    "\n",
    "sb_nc5 = pd.pivot_table(vcs[vcs.coding == False], index = 'SVTYPE', \n",
    "                       columns = 'gene_type_mod', values = 'fraction').fillna(0)\n",
    "\n",
    "sb_all5 = pd.pivot_table(vcs2, index = 'SVTYPE', columns = 'gene_type_mod', values = 'fraction').fillna(0)\n",
    "\n",
    "CM.save_dataframe('sb_ol_egene_sig_mod', sb_coding5, outdir, print_vars_recorded_loc=False, print_only_pickle=True)\n",
    "CM.save_dataframe('sb_nonol_egene_sig_mod', sb_nc5, outdir, print_vars_recorded_loc=False, print_only_pickle=True)\n",
    "CM.save_dataframe('sb_all_egene_types_sig_mod', sb_all5, \n",
    "                  outdir, print_vars_recorded_loc=False, print_only_pickle=True)\n",
    "CM.save_dataframe('vc_ol_egene_types_sig_mod', vcs, outdir, print_vars_recorded_loc= False, print_only_pickle=True)\n",
    "CM.save_dataframe('vc_all_egene_types_sig_mod', vcs2, outdir, print_vars_recorded_loc= False, print_only_pickle=True)"
   ]
  },
  {
   "cell_type": "markdown",
   "metadata": {},
   "source": [
    "# Enrichment of the various gene types\n",
    "Compare fraction eGenes of each subtype mapped to each class to all other eGenes "
   ]
  },
  {
   "cell_type": "code",
   "execution_count": 194,
   "metadata": {
    "collapsed": false
   },
   "outputs": [
    {
     "data": {
      "text/plain": [
       "['protein_coding', 'pseudogene', 'lincRNA', 'antisense', 'other']"
      ]
     },
     "execution_count": 194,
     "metadata": {},
     "output_type": "execute_result"
    }
   ],
   "source": [
    "gene_types_mod2[:5]"
   ]
  },
  {
   "cell_type": "code",
   "execution_count": null,
   "metadata": {
    "collapsed": true
   },
   "outputs": [],
   "source": []
  },
  {
   "cell_type": "code",
   "execution_count": 195,
   "metadata": {
    "collapsed": true
   },
   "outputs": [],
   "source": [
    "tdf = var_egene_nr[var_egene_nr.lead_qtl]\n",
    "dfs = []\n",
    "for gt in gene_types_mod2[:5]:\n",
    "    tdf['in_cat2'] = (tdf.gene_type_mod2 == gt)\n",
    "    enr_df = dj_stats.gather_odds_ratio_data(tdf, 'ALL_VARS', \n",
    "                                              'SVTYPE_NR_C', \n",
    "                                    'in_cat2', gb2_bool = False, unique_col = 'feature_id', \n",
    "                                    overlapping_sets = True)\n",
    "    enr_df['category_out'] = gt\n",
    "    dfs.append(enr_df)\n",
    "\n",
    "enr_prop_svt_gene_types = pd.concat(dfs).pipe(dj_stats.annotate_tests_data).pipe(dj_stats.add_bh_fdr, 'p_fisher') "
   ]
  },
  {
   "cell_type": "code",
   "execution_count": 198,
   "metadata": {
    "collapsed": true
   },
   "outputs": [],
   "source": [
    "def add_fraction(df):\n",
    "    df = df.copy()\n",
    "    df['fraction'] = df['contingency'].apply(lambda x: x[0][0]/sum(x[0]))\n",
    "    return df"
   ]
  },
  {
   "cell_type": "code",
   "execution_count": 196,
   "metadata": {
    "collapsed": false
   },
   "outputs": [
    {
     "name": "stdout",
     "output_type": "stream",
     "text": [
      "enr_gene_types_bet_svt_lead_mod = pd.read_pickle('/frazer01/projects/hipsci/analysis/i2QTL-sv-analysis/private_output/properties_of_egenes_analysis/qtl_data_01_19/enr_gene_types_bet_svt_lead_mod.pkl')\n",
      "enr_gene_types_bet_svt_lead_mod = pd.read_csv('/frazer01/projects/hipsci/analysis/i2QTL-sv-analysis/private_output/properties_of_egenes_analysis/qtl_data_01_19/enr_gene_types_bet_svt_lead_mod.tsv', sep='\\t')\n",
      "# all vars recorded: /frazer01/projects/hipsci/analysis/i2QTL-sv-analysis/private_output/properties_of_egenes_analysis/qtl_data_01_19/load_saved_nb_variables.py\n",
      "# pickled vars recorded:/frazer01/projects/hipsci/analysis/i2QTL-sv-analysis/private_output/properties_of_egenes_analysis/qtl_data_01_19/load_pickled_nb_variables.py\n"
     ]
    }
   ],
   "source": [
    "# categories more collapsed\n",
    "CM.save_dataframe('enr_gene_types_bet_svt_lead_mod', enr_prop_svt_gene_types, outdir)"
   ]
  },
  {
   "cell_type": "code",
   "execution_count": 200,
   "metadata": {
    "collapsed": true
   },
   "outputs": [],
   "source": [
    "enr_prop_svt_gene_types =enr_prop_svt_gene_types.pipe(add_fraction)"
   ]
  },
  {
   "cell_type": "markdown",
   "metadata": {},
   "source": [
    "# Collect counts for comparison of high Exac to other things"
   ]
  },
  {
   "cell_type": "code",
   "execution_count": 57,
   "metadata": {
    "collapsed": true
   },
   "outputs": [],
   "source": [
    "stats = []\n",
    "\n",
    "for v in ['pLI', 'pRec', 'pNull']:    \n",
    "    for svt in ['DEL', 'DUP', 'mCNV', 'STR', 'MEI']:\n",
    "        for_plot = exac_tested[(exac_tested.sig_eqtl == True) & (exac_tested.SVTYPE_NR_C == svt)]\n",
    "\n",
    "        vc = (for_plot[v] > 0.9).value_counts().to_frame('num')\n",
    "        vc2 = (for_plot[v] > 0.9).value_counts(normalize = True).to_frame('frac_high')\n",
    "        vc = vc.join(vc2)\n",
    "        vc['category'] = svt\n",
    "        vc['variable'] = v\n",
    "        vc['in_category'] = True\n",
    "        stats.append(vc)\n",
    "        \n",
    "        for_plot = exac_tested[(exac_tested.sig_eqtl == False) & (exac_tested.tested_eqtl)]\n",
    "        vc = (for_plot[v] > 0.9).value_counts().to_frame('num')\n",
    "        vc2 = (for_plot[v] > 0.9).value_counts(normalize = True).to_frame('frac_high')\n",
    "        vc = vc.join(vc2)\n",
    "        vc['category'] = svt\n",
    "        vc['variable'] = v\n",
    "        vc['in_category'] = False\n",
    "        stats.append(vc)\n",
    "        \n",
    "\n",
    "    for_plot = exac_tested[(exac_tested.sig_eqtl == True) & (exac_tested.SVTYPE_NR_C != 'STR')]\n",
    "    vc = (for_plot[v] > 0.9).value_counts().to_frame('num')\n",
    "    vc2 = (for_plot[v] > 0.9).value_counts(normalize = True).to_frame('frac_high')\n",
    "    vc = vc.join(vc2)\n",
    "    vc['category'] = 'all_eSV'\n",
    "    vc['variable'] = v\n",
    "    vc['in_category'] = True\n",
    "    stats.append(vc)\n",
    "    \n",
    "    for_plot = exac_tested[(exac_tested.sig_eqtl == False)]\n",
    "    vc = (for_plot[v] > 0.9).value_counts().to_frame('num')\n",
    "    vc2 = (for_plot[v] > 0.9).value_counts(normalize = True).to_frame('frac_high')\n",
    "    vc = vc.join(vc2)\n",
    "    vc['category'] = 'all_eSV'\n",
    "    vc['variable'] = v\n",
    "    vc['in_category'] = False\n",
    "    stats.append(vc)\n",
    "    \n",
    "    \n",
    "    for_plot = exac_tested[(exac_tested.sig_eqtl == True) & (exac_tested.SVTYPE_NR_C == 'STR')]\n",
    "    vc = (for_plot[v] > 0.9).value_counts().to_frame('num')\n",
    "    vc2 = (for_plot[v] > 0.9).value_counts(normalize = True).to_frame('frac_high')\n",
    "    vc = vc.join(vc2)\n",
    "    vc['category'] = 'all_eSTR'\n",
    "    vc['variable'] = v\n",
    "    vc['in_category'] = True\n",
    "    stats.append(vc)\n",
    "    \n",
    "    for_plot = exac_tested[(exac_tested.sig_eqtl == False)]\n",
    "    vc = (for_plot[v] > 0.9).value_counts().to_frame('num')\n",
    "    vc2 = (for_plot[v] > 0.9).value_counts(normalize = True).to_frame('frac_high')\n",
    "    vc = vc.join(vc2)\n",
    "    vc['category'] = 'all_eSTR'\n",
    "    vc['variable'] = v\n",
    "    vc['in_category'] = False\n",
    "    stats.append(vc)\n",
    "    \n",
    "    \n",
    "    \n",
    "    for_plot = exac_tested[(exac_tested.sig_eqtl == True)]\n",
    "    vc = (for_plot[v] > 0.9).value_counts().to_frame('num')\n",
    "    vc2 = (for_plot[v] > 0.9).value_counts(normalize = True).to_frame('frac_high')\n",
    "    vc = vc.join(vc2)\n",
    "    vc['category'] = 'all_eGenes'\n",
    "    vc['variable'] = v\n",
    "    vc['in_category'] = True\n",
    "    stats.append(vc)\n",
    "    \n",
    "    for_plot = exac_tested[(exac_tested.sig_eqtl == False)]\n",
    "    vc = (for_plot[v] > 0.9).value_counts().to_frame('num')\n",
    "    vc2 = (for_plot[v] > 0.9).value_counts(normalize = True).to_frame('frac_high')\n",
    "    vc = vc.join(vc2)\n",
    "    vc['category'] = 'all_eGenes'\n",
    "    vc['variable'] = v\n",
    "    vc['in_category'] = False\n",
    "    stats.append(vc)\n",
    "    \n",
    "\n",
    "\n",
    "stats = pd.concat(stats)\n",
    "stats['high_variable'] = stats.index\n",
    "stats.reset_index(drop = True, inplace=True)"
   ]
  },
  {
   "cell_type": "code",
   "execution_count": 58,
   "metadata": {
    "collapsed": true
   },
   "outputs": [],
   "source": [
    "##### calc odds ratio of the genes to be high in some category versus non-egeneds\n",
    "data = []\n",
    "counts_df  = stats\n",
    "for v in ['pLI', 'pRec', 'pNull']: \n",
    "    for svt in ['DEL', 'DUP', 'mCNV', 'STR', 'MEI', 'all_eSV', 'all_eSTR', 'all_eGenes']:\n",
    "#         print svt\n",
    "        t = counts_df[(counts_df['category'] == svt) & (counts_df.variable == v) & (counts_df.in_category == True)]\n",
    "        t2 = counts_df[(counts_df['category'] == svt) & (counts_df.variable == v) & (counts_df.in_category == False)]\n",
    "\n",
    "        t.index = t['high_variable'].astype(str)\n",
    "        t2.index = t2['high_variable'].astype(str)\n",
    "        r1 = t.loc[['True', 'False'], 'num'].tolist()\n",
    "        r2 = t2.loc[['True', 'False'], 'num'].tolist()\n",
    "        contingency = [r1,r2]\n",
    "        OR, p = sps.fisher_exact(contingency)\n",
    "        data.append([OR, p, svt, v, contingency])\n",
    "    \n",
    "enr_exac_svt_vs_non = pd.DataFrame(data, columns=['OR', 'p_val', 'svt', 'category','contingency'])\n",
    "\n",
    "dfs = []\n",
    "\n",
    "for i,df in enr_exac_svt_vs_non.groupby('category'): # correct for FDR within each category separately\n",
    "    df = df.pipe(dj_stats.add_bh_fdr, 'p_val')\n",
    "    dfs.append(df)\n",
    "enr_exac_svt_vs_non= pd.concat(dfs)"
   ]
  },
  {
   "cell_type": "code",
   "execution_count": 59,
   "metadata": {
    "collapsed": false
   },
   "outputs": [
    {
     "name": "stdout",
     "output_type": "stream",
     "text": [
      "enr_exac_svt_vs_non = pd.read_pickle('/frazer01/projects/hipsci/analysis/i2QTL-sv-analysis/private_output/properties_of_egenes_analysis/qtl_data_01_19/enr_exac_svt_vs_non.pkl')\n",
      "enr_exac_svt_vs_non = pd.read_csv('/frazer01/projects/hipsci/analysis/i2QTL-sv-analysis/private_output/properties_of_egenes_analysis/qtl_data_01_19/enr_exac_svt_vs_non.tsv', sep='\\t')\n",
      "# all vars recorded: /frazer01/projects/hipsci/analysis/i2QTL-sv-analysis/private_output/properties_of_egenes_analysis/qtl_data_01_19/load_saved_nb_variables.py\n",
      "# pickled vars recorded:/frazer01/projects/hipsci/analysis/i2QTL-sv-analysis/private_output/properties_of_egenes_analysis/qtl_data_01_19/load_pickled_nb_variables.py\n"
     ]
    }
   ],
   "source": [
    "CM.save_dataframe('enr_exac_svt_vs_non', enr_exac_svt_vs_non, outdir)"
   ]
  },
  {
   "cell_type": "markdown",
   "metadata": {},
   "source": [
    "# Exac scores versus effect sizes\n",
    "Does the strength of the effect on eGene relate to Exac tolerance, can constrained genes be strongly affected?"
   ]
  },
  {
   "cell_type": "code",
   "execution_count": 68,
   "metadata": {
    "collapsed": false
   },
   "outputs": [
    {
     "name": "stdout",
     "output_type": "stream",
     "text": [
      "Optimization terminated successfully.\n",
      "         Current function value: 0.570400\n",
      "         Iterations 6\n"
     ]
    },
    {
     "data": {
      "text/plain": [
       "Text(0,0.5,'pLI (mean)')"
      ]
     },
     "execution_count": 68,
     "metadata": {},
     "output_type": "execute_result"
    },
    {
     "data": {
      "image/png": "[encoded data removed]",
      "text/plain": [
       "<Figure size 360x576 with 1 Axes>"
      ]
     },
     "metadata": {
      "needs_background": "light"
     },
     "output_type": "display_data"
    }
   ],
   "source": [
    "fig, ax = plt.subplots(1,1, figsize = (5,8))\n",
    "\n",
    "for_plot = exac_tested[(exac_tested.sig_eqtl)]\n",
    "with mpl.rc_context({\"lines.linewidth\": 0.5}):\n",
    "    sns.regplot(for_plot.beta_corrected.abs(), for_plot.pLI, x_bins= 8, logistic = True, scatter_kws={'s': 10}, \n",
    "            line_kws={'lw': 0.5}, color = 'grey', ax = ax)\n",
    "# y_pred = m.predict(exog = {'beta_abs': x1n})\n",
    "# ax.plot(x1n, y_pred, c = 'green', lw = 0.1)\n",
    "\n",
    "for_plot['beta_abs'] = for_plot.beta_corrected.abs()\n",
    "m = logit('pLI ~ beta_abs + SVTYPE_NR', data= for_plot).fit()\n",
    "summary = m.summary2()\n",
    "summary = summary.tables[1]\n",
    "p_val = summary.loc['beta_abs']['P>|z|']\n",
    "\n",
    "ax.text(0.95, 0.95,  r\"$p={0:s}$\".format(mpltools.as_si(p_val, 1)), ha = 'right', va = 'center', transform=ax.transAxes,\n",
    "         fontsize = 5)\n",
    "\n",
    "ax.set_xlabel('Effect Size ($|B|$)')\n",
    "ax.set_ylabel('pLI (mean)')"
   ]
  },
  {
   "cell_type": "code",
   "execution_count": 73,
   "metadata": {
    "collapsed": false
   },
   "outputs": [
    {
     "name": "stdout",
     "output_type": "stream",
     "text": [
      "Optimization terminated successfully.\n",
      "         Current function value: 0.544145\n",
      "         Iterations 6\n",
      "Optimization terminated successfully.\n",
      "         Current function value: 0.608305\n",
      "         Iterations 6\n",
      "Optimization terminated successfully.\n",
      "         Current function value: 0.537578\n",
      "         Iterations 5\n",
      "Optimization terminated successfully.\n",
      "         Current function value: 0.570764\n",
      "         Iterations 6\n"
     ]
    },
    {
     "data": {
      "image/png": "[encoded data removed]",
      "text/plain": [
       "<Figure size 720x720 with 4 Axes>"
      ]
     },
     "metadata": {
      "needs_background": "light"
     },
     "output_type": "display_data"
    }
   ],
   "source": [
    "fig, axes = plt.subplots(2,2, figsize = (10,10))\n",
    "svtypes = ['DEL', 'DUP', 'mCNV', 'STR']\n",
    "ylocs = np.arange(0.2, 1, 0.2)\n",
    "\n",
    "axf = axes.flatten()\n",
    "for i, svt in enumerate(svtypes):\n",
    "    ax = axf[i]\n",
    "    for_plot = exac_tested[(exac_tested.sig_eqtl) & (exac_tested.SVTYPE_NR == svt)]\n",
    "    with mpl.rc_context({\"lines.linewidth\": 0.5}):\n",
    "        sns.regplot(for_plot.beta_corrected.abs(), for_plot.pLI, x_bins= 8, \n",
    "                    logistic = True, scatter_kws={'s': 10}, label = svt, \n",
    "                line_kws={'lw': 0.5}, ax = ax, color = 'grey')\n",
    "    # y_pred = m.predict(exog = {'beta_abs': x1n})\n",
    "    # ax.plot(x1n, y_pred, c = 'green', lw = 0.1)\n",
    "\n",
    "    for_plot['beta_abs'] = for_plot.beta_corrected.abs()\n",
    "    m = logit('pLI ~ beta_abs + SVTYPE_NR', data= for_plot).fit()\n",
    "    summary = m.summary2()\n",
    "    summary = summary.tables[1]\n",
    "    p_val = summary.loc['beta_abs']['P>|z|']\n",
    "    c = 'black'\n",
    "    if p_val < 0.05:\n",
    "        c = 'red'\n",
    "    ax.text(1, 0.95,  r\"$p={0:s}$\".format(mpltools.as_si(p_val, 1)), \n",
    "            ha = 'right', va = 'center', transform=ax.transAxes,\n",
    "             fontsize = 10, color = c)\n",
    "\n",
    "    ax.set_xlabel('Effect Size ($|B|$)')\n",
    "    ax.set_ylabel('pLI (mean)')\n",
    "    ax.set_title(svt)\n",
    "    \n",
    "plt.tight_layout()"
   ]
  },
  {
   "cell_type": "code",
   "execution_count": null,
   "metadata": {
    "collapsed": true
   },
   "outputs": [],
   "source": [
    "2\n"
   ]
  },
  {
   "cell_type": "code",
   "execution_count": 154,
   "metadata": {
    "collapsed": false
   },
   "outputs": [
    {
     "data": {
      "image/png": "[encoded data removed]",
      "text/plain": [
       "<Figure size 720x720 with 4 Axes>"
      ]
     },
     "metadata": {
      "needs_background": "light"
     },
     "output_type": "display_data"
    }
   ],
   "source": [
    "fig, axes = plt.subplots(2,2, figsize = (10,10))\n",
    "svtypes = ['DEL', 'DUP', 'mCNV', 'STR']\n",
    "ylocs = np.arange(0.2, 1, 0.2)\n",
    "\n",
    "axf = axes.flatten()\n",
    "for i, svt in enumerate(svtypes):\n",
    "    ax = axf[i]\n",
    "    for_plot = exac_tested[(exac_tested.sig_eqtl) & (exac_tested.SVTYPE == svt)]\n",
    "    with mpl.rc_context({\"lines.linewidth\": 0.5}):\n",
    "        sns.regplot(for_plot.beta_corrected, for_plot.pLI, x_bins= 8, fit_reg=False, \n",
    "                    scatter_kws={'s': 10}, label = svt, \n",
    "                line_kws={'lw': 0.5}, ax = ax, color = 'grey')\n",
    "    # y_pred = m.predict(exog = {'beta_abs': x1n})\n",
    "    # ax.plot(x1n, y_pred, c = 'green', lw = 0.1)\n",
    "\n",
    "#     for_plot['beta_abs'] = for_plot.beta_corrected.abs()\n",
    "#     m = logit('pLI ~ beta_abs + SVTYPE_NR', data= for_plot).fit()\n",
    "#     summary = m.summary2()\n",
    "#     summary = summary.tables[1]\n",
    "#     p_val = summary.loc['beta_abs']['P>|z|']\n",
    "#     c = 'black'\n",
    "#     if p_val < 0.05:\n",
    "#         c = 'red'\n",
    "#     ax.text(1, 0.95,  r\"$p={0:s}$\".format(mpltools.as_si(p_val, 1)), \n",
    "#             ha = 'right', va = 'center', transform=ax.transAxes,\n",
    "#              fontsize = 10, color = c)\n",
    "\n",
    "    ax.set_xlabel('Effect Size ($B$)')\n",
    "    ax.set_ylabel('pLI (mean)')\n",
    "    ax.set_title(svt)\n",
    "    \n",
    "plt.tight_layout()"
   ]
  }
 ],
 "metadata": {
  "kernelspec": {
   "display_name": "Python 2",
   "language": "python",
   "name": "python2"
  },
  "language_info": {
   "codemirror_mode": {
    "name": "ipython",
    "version": 2
   },
   "file_extension": ".py",
   "mimetype": "text/x-python",
   "name": "python",
   "nbconvert_exporter": "python",
   "pygments_lexer": "ipython2",
   "version": "2.7.3"
  }
 },
 "nbformat": 4,
 "nbformat_minor": 2
}
