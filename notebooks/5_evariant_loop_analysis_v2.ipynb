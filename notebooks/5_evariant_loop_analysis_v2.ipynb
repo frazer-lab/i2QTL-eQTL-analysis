{
 "cells": [
  {
   "cell_type": "code",
   "execution_count": 1,
   "metadata": {
    "collapsed": true
   },
   "outputs": [],
   "source": [
    "%matplotlib inline\n",
    "from __future__ import division\n",
    "import numpy as np\n",
    "import os\n",
    "import sys\n",
    "import datetime\n",
    "from subprocess import call\n",
    "import subprocess\n",
    "import glob\n",
    "\n",
    "import warnings\n",
    "warnings.simplefilter(action='ignore', category=FutureWarning)\n",
    "import djPyi2 as DJ\n",
    "from djPyi2 import Common as CM\n",
    "from djPyi2 import mpltools\n",
    "\n",
    "import pandas as pd\n",
    "pd.options.mode.chained_assignment = None\n",
    "import csv\n",
    "import seaborn as sns\n",
    "import matplotlib as mpl\n",
    "import matplotlib.pyplot as plt\n",
    "import copy \n",
    "import pybedtools as pbt\n",
    "import ciepy\n",
    "import cardipspy as cpy\n",
    "import itertools\n",
    "\n",
    "import tempfile\n",
    "import six\n",
    "import networkx as nx\n",
    "import scipy.stats as stats\n",
    "pd.set_option('display.max_columns', 500)\n",
    "pd.set_option('display.max_rows', 100)\n",
    "from mpl_toolkits.axes_grid1 import  make_axes_locatable\n",
    "import datetime\n",
    "from matplotlib.colors import LogNorm\n",
    "import matplotlib.image as mpimg\n",
    "\n",
    "from scipy.stats import mode\n",
    "dy_name = 'evariant_loop_analysis'\n",
    "\n",
    "private_out = os.path.join(DJ.root, 'private_output', dy_name)\n",
    "if not os.path.exists(private_out):\n",
    "    DJ.makedir(private_out)\n",
    "\n",
    "import vapeplot\n",
    "\n",
    "from matplotlib.ticker import FuncFormatter\n",
    "from matplotlib.legend_handler import HandlerBase\n",
    "from matplotlib.transforms import Bbox, TransformedBbox,blended_transform_factory\n",
    "from mpl_toolkits.axes_grid1.inset_locator import BboxPatch, BboxConnector,BboxConnectorPatch\n",
    "\n",
    "import gc"
   ]
  },
  {
   "cell_type": "code",
   "execution_count": 2,
   "metadata": {
    "collapsed": true
   },
   "outputs": [],
   "source": [
    "outdir = private_out + '/qtl_results_v4'\n",
    "\n",
    "if not os.path.exists(outdir):\n",
    "    DJ.makedir(outdir)"
   ]
  },
  {
   "cell_type": "code",
   "execution_count": 175,
   "metadata": {
    "collapsed": true
   },
   "outputs": [],
   "source": [
    "def vc_unique_add_proportion(df, gb, col_unique):\n",
    "    \"\"\"groupby two categories, and count the number of unique elements in the third\n",
    "    and proportion of total unique elements\"\"\"\n",
    "    vc = df.groupby((gb[0], gb[1]))[col_unique].apply(lambda x: len(set(x))).to_frame('count').reset_index()\n",
    "    vc_tot = df.groupby(gb[0])[col_unique].apply(lambda x: len(set(x))).to_frame('total')\n",
    "    vc = vc[vc[gb[1]] == True]\n",
    "    vc = vc.set_index(gb[0])\n",
    "    vc = vc.join(vc_tot)\n",
    "    vc['fraction'] = vc['count'] / vc['total']\n",
    "    return vc\n",
    "\n",
    "def vc_w_prop(df, gb_col, bool_col):\n",
    "    vc = df.groupby(gb_col)[bool_col].value_counts().to_frame('count')\n",
    "    vc_frac = df.groupby(gb_col)[bool_col].value_counts(normalize = True).to_frame('fraction')\n",
    "    vc = vc.join(vc_frac)\n",
    "    vc = vc.reset_index()\n",
    "    tot = vc.groupby(gb_col)['count'].sum().to_frame('total')\n",
    "    \n",
    "    vc = vc[vc[bool_col] == True] \n",
    "    \n",
    "    vc = vc.set_index(gb_col).join(tot)\n",
    "    vc = vc.reset_index()\n",
    "    return vc"
   ]
  },
  {
   "cell_type": "code",
   "execution_count": 3,
   "metadata": {
    "collapsed": true
   },
   "outputs": [],
   "source": [
    "from rpy2.robjects.packages import importr\n",
    "from rpy2.robjects.vectors import FloatVector\n",
    "\n",
    "stats_r = importr('stats')\n",
    "\n",
    "# from rpy2.robjects.packages import importr\n",
    "utils = importr('utils')\n",
    "\n",
    "def add_bh_fdr(top, col):\n",
    "    top = top.copy()\n",
    "    p_vals = top[col].tolist()\n",
    "    p_adjust = stats_r.p_adjust(FloatVector(p_vals), method = 'fdr')\n",
    "    top['fdr_corrected_p'] = list(p_adjust)\n",
    "    return top"
   ]
  },
  {
   "cell_type": "code",
   "execution_count": 4,
   "metadata": {
    "collapsed": true
   },
   "outputs": [],
   "source": [
    "def vc_to_or(vc, v = False):\n",
    "    def default_loc(df, a, b, default = 0):\n",
    "        try:\n",
    "            out = df.loc[a,b]\n",
    "            return out\n",
    "        except:\n",
    "            return default\n",
    "\n",
    "        \n",
    "    if not v:\n",
    "        \n",
    "        t_g1 = [default_loc(vc, True, True), default_loc(vc, True, False)]\n",
    "        f_g1 = [default_loc(vc, False, True), default_loc(vc, False, False)]\n",
    "        v = [t_g1, f_g1]\n",
    "    else:\n",
    "        v = vc\n",
    "\n",
    "    try:\n",
    "        odds_ratio, p_fisher = stats.fisher_exact(v, )\n",
    "    except:\n",
    "        odds_ratio, p_fisher = (np.NaN, np.NaN)\n",
    "    \n",
    "    \n",
    "    return v, odds_ratio, p_fisher"
   ]
  },
  {
   "cell_type": "code",
   "execution_count": 5,
   "metadata": {
    "collapsed": true
   },
   "outputs": [],
   "source": [
    "def annotate_tests_data(df, col = \"significant\"):\n",
    "    df = df.copy()\n",
    "    def safe_div(a, b):\n",
    "        try:\n",
    "            out = a/b\n",
    "        except:\n",
    "            out = np.NaN\n",
    "        return out\n",
    "            \n",
    "#     df['frac_non_{}_ol_feat'.format(col)] = df['{}_False'.format(col)].apply(lambda x: safe_div(x[1], x[0]))\n",
    "#     df['frac_{}_ol_feat'.format(col)] =  df['{}_True'.format(col)].apply(lambda x: safe_div(x[1], x[0]))\n",
    "    try:\n",
    "        df['-log10p_fisher'] = np.log10(df['p_fisher']) * -1\n",
    "    except:\n",
    "        pass\n",
    "    \n",
    "    try:\n",
    "        df['log_odds_ratio'] = np.log10(df['odds_ratio'])\n",
    "    except:\n",
    "        pass\n",
    "    \n",
    "    try:\n",
    "        df['log2_odds_ratio'] = np.log2(df['odds_ratio'])\n",
    "    except:\n",
    "        pass\n",
    "    df = df.reset_index()\n",
    "    \n",
    "    df['log2_odds_ratio_raw'] = df['log2_odds_ratio']\n",
    "    \n",
    "    \n",
    "    t_neg_inf = df.log2_odds_ratio == (-np.inf)\n",
    "    t_pos_inf = (df.log2_odds_ratio == (np.inf))\n",
    "    \n",
    "    exclude = t_neg_inf[t_neg_inf].index.tolist() + t_pos_inf[t_pos_inf].index.tolist()\n",
    "    if len(exclude) > 0:\n",
    "        inds_non_inf = set(df.index.tolist()).difference(exclude)\n",
    "\n",
    "        if t_neg_inf[t_neg_inf].shape[0] > 0:\n",
    "            inds = t_neg_inf[t_neg_inf].index.tolist()\n",
    "            try:\n",
    "                m = df.loc[inds_non_inf].log2_odds_ratio.min()\n",
    "            except:\n",
    "                m = -1\n",
    "            \n",
    "            if m >= -0.5:\n",
    "                m = -1\n",
    "            df.loc[inds, 'log2_odds_ratio'] = m\n",
    "            \n",
    "        if t_pos_inf[t_pos_inf].shape[0] > 0:\n",
    "            inds = t_pos_inf[t_pos_inf].index.tolist()\n",
    "            try:\n",
    "                m = df.loc[inds_non_inf].log2_odds_ratio.max()\n",
    "            except:\n",
    "                m = 2\n",
    "            if m < 0:\n",
    "                m = 2\n",
    "            df.loc[inds, 'log2_odds_ratio'] = m\n",
    "            \n",
    "    return df"
   ]
  },
  {
   "cell_type": "code",
   "execution_count": 7,
   "metadata": {
    "collapsed": true
   },
   "outputs": [],
   "source": [
    "def prep_per_variant_df(per_var_info, var_egene):\n",
    "    var_egene_nr = var_egene[(var_egene.most_significant_nr)]\n",
    "    nr_ids = var_egene.Non_Redundant_ID.unique().tolist()\n",
    "    sig_assoc = var_egene[var_egene.significant==True].Non_Redundant_ID.unique().tolist()\n",
    "    th_assoc = var_egene[var_egene.top_hit_final_sig==True].Non_Redundant_ID.unique().tolist()\n",
    "    \n",
    "#     per_var_info = pd.DataFrame(index = nr_ids)\n",
    "    per_var_info['significant_association'] = per_var_info.index.isin(sig_assoc)\n",
    "    per_var_info['lead_association'] = per_var_info.index.isin(th_assoc)\n",
    "    \n",
    "    \n",
    "    num_egenes_total = (var_egene[var_egene.significant==True]\n",
    "                    .groupby('Non_Redundant_ID').feature_id.apply(lambda x: len(set(x))))\n",
    "    num_egenes_th = (var_egene[var_egene.top_hit_final_sig]\n",
    "                 .groupby('Non_Redundant_ID').feature_id.apply(lambda x: len(set(x))))\n",
    "    num_genes_tested = var_egene.groupby('Non_Redundant_ID').feature_id.apply(lambda x: len(set(x)))\n",
    "    thresh = 10000\n",
    "    num_genes_tested_loop = (var_egene[(var_egene.min_dist_pc_anchor < thresh) & \n",
    "                                      (var_egene.closer_to_inside_proximal == \n",
    "                                       False) & (var_egene.coding == False)].groupby('Non_Redundant_ID').feature_id.unique().apply(len))\n",
    "    num_egenes_loop = var_egene[(var_egene.min_dist_pc_anchor < thresh) \n",
    "                                & (var_egene.significant==True) & \n",
    "                                (var_egene.closer_to_inside_proximal ==\n",
    "                                 False) & (var_egene.coding==False)].groupby('Non_Redundant_ID').feature_id.unique().apply(len)\n",
    "    \n",
    "    num_egenes_loop_th =  var_egene[(var_egene.min_dist_pc_anchor < thresh) & (var_egene.top_hit_final_sig==True) & (var_egene.closer_to_inside_proximal == False) & (var_egene_nr.coding == False)].groupby('Non_Redundant_ID').feature_id.unique().apply(len)\n",
    "    \n",
    "\n",
    "    \n",
    "    num_genes_tested_nonloop = (var_egene[(var_egene.min_dist_pc_anchor > thresh) & \n",
    "                                      (var_egene.closer_to_inside_proximal == \n",
    "                                       False) & (var_egene.coding == False)].groupby('Non_Redundant_ID').feature_id.unique().apply(len))\n",
    "    num_egenes_nonloop = var_egene[(var_egene.min_dist_pc_anchor > thresh) \n",
    "                                & (var_egene.significant==True) & \n",
    "                                (var_egene.closer_to_inside_proximal ==\n",
    "                                 False) & (var_egene.coding==False)].groupby('Non_Redundant_ID').feature_id.unique().apply(len)\n",
    "    \n",
    "\n",
    "    num_egenes_nonloop_th = var_egene[(var_egene.min_dist_pc_anchor > thresh) \n",
    "                                & (var_egene.top_hit_final_sig==True) & \n",
    "                                (var_egene.closer_to_inside_proximal ==\n",
    "                                 False) & (var_egene.coding==False)].groupby('Non_Redundant_ID').feature_id.unique().apply(len)\n",
    "    \n",
    "    \n",
    "    num_genes_tested_da = (var_egene[(var_egene.min_dist_pc_anchor > thresh) & \n",
    "                                      (var_egene.dist_tss_abs > thresh) & \n",
    "                                     (var_egene.genic_category_variant == 'intergenic')\n",
    "                                    ].groupby('Non_Redundant_ID').feature_id.unique().apply(len))\n",
    "    num_egenes_da = (var_egene[(var_egene.min_dist_pc_anchor > thresh) & \n",
    "                                      (var_egene.dist_tss_abs > thresh) & \n",
    "                                     (var_egene.genic_category_variant == 'intergenic') &\n",
    "                               (var_egene.significant == True)\n",
    "                                    ].groupby('Non_Redundant_ID').feature_id.unique().apply(len))\n",
    "    num_egenes_da_th = (var_egene[(var_egene.min_dist_pc_anchor > thresh) & \n",
    "                                      (var_egene.dist_tss_abs > thresh) & \n",
    "                                     (var_egene.genic_category_variant == 'intergenic') &\n",
    "                               (var_egene.top_hit_final_sig == True)\n",
    "                                    ].groupby('Non_Redundant_ID').feature_id.unique().apply(len))\n",
    "\n",
    "\n",
    "    per_var_info['num_genes_tested_loop'] = num_genes_tested_loop\n",
    "    \n",
    "    per_var_info['num_egenes_loop'] = num_egenes_loop\n",
    "    per_var_info['num_egenes_loop_th'] = num_egenes_loop_th\n",
    "    \n",
    "    per_var_info['num_egenes'] = num_egenes_total\n",
    "    \n",
    "    per_var_info['num_egenes_lead'] = num_egenes_th\n",
    "    per_var_info['num_genes_tested'] = num_genes_tested\n",
    "    \n",
    "    per_var_info['num_genes_tested_da'] = num_genes_tested_da\n",
    "    per_var_info['num_egenes_da'] = num_egenes_da\n",
    "    per_var_info['num_egenes_da_lead'] = num_egenes_da_th\n",
    "    \n",
    "    \n",
    "    \n",
    "    \n",
    "    \n",
    "#     per_var_info = per_var_info.join(num_genes_tested_loop.to_frame('num_genes_tested_loop'), \n",
    "#                                  lsuffix='_loop', rsuffix= '')\n",
    "#     per_var_info = per_var_info.join(num_egenes_loop.to_frame('num_egenes_loop'), lsuffix='_loop', rsuffix= '')\n",
    "#     per_var_info = per_var_info.join(num_egenes_loop_th.to_frame('num_egenes_loop_th'), lsuffix='_loop', rsuffix= '')\n",
    "#     per_var_info = per_var_info.join(num_egenes_total.to_frame('num_egenes'), lsuffix='_loop', rsuffix= '')\n",
    "#     per_var_info = per_var_info.join(num_egenes_th.to_frame('num_egenes_lead'), lsuffix='_loop', rsuffix= '')\n",
    "#     per_var_info = per_var_info.join(num_genes_tested.to_frame('num_genes_tested'), lsuffix='_loop', rsuffix= '')\n",
    "    \n",
    "    cols = 'num_egenes\tnum_egenes_lead'.split()\n",
    "    per_var_info[cols] = per_var_info[cols].fillna(0)\n",
    "\n",
    "    cols = 'num_egenes_loop\tnum_egenes_loop_th num_genes_tested_loop'.split()\n",
    "    per_var_info[cols] = per_var_info[cols].fillna(0)\n",
    "    \n",
    "    # distal non-exonic but not overlapping the loop anchor (10kb thresh)\n",
    "    per_var_info['num_nonloop_egenes_lead'] = num_egenes_nonloop_th\n",
    "    per_var_info['num_nonloop_egenes'] = num_egenes_nonloop\n",
    "    \n",
    "    per_var_info['num_nonloop_tested'] = num_genes_tested_nonloop\n",
    "    \n",
    "    # Exonic non-exonic- probably change the naming from coding (people get confused about protein coding)\n",
    "    coding_egenes = var_egene_nr[(var_egene_nr.coding == True) & (var_egene_nr.significant)].groupby('NR_ID').feature_id.unique().apply(len)\n",
    "\n",
    "    ncoding_egenes = var_egene_nr[(var_egene_nr.coding == False) & (var_egene_nr.significant)].groupby('NR_ID').feature_id.unique().apply(len)\n",
    "\n",
    "    coding_tested = var_egene_nr[(var_egene_nr.coding == True)].groupby('NR_ID').feature_id.unique().apply(len)\n",
    "    ncoding_tested = var_egene_nr[(var_egene_nr.coding == False)].groupby('NR_ID').feature_id.unique().apply(len)\n",
    "\n",
    "    coding_lead = var_egene_nr[(var_egene_nr.coding == True) & (var_egene_nr.top_hit_final_sig)].groupby('NR_ID').feature_id.unique().apply(len)\n",
    "    ncoding_lead = var_egene_nr[(var_egene_nr.coding == False) & (var_egene_nr.top_hit_final_sig)].groupby('NR_ID').feature_id.unique().apply(len)\n",
    "\n",
    "    # coding_tested = var_egene_nr[(var_egene_nr.coding == True)].groupby('NR_ID').feature_id.unique().apply(len)\n",
    "    # ncoding_tested = var_egene_nr[(var_egene_nr.coding == False)].groupby('NR_ID').feature_id.unique().apply(len)\n",
    "\n",
    "    per_var_info['num_coding_egenes_lead'] = coding_lead\n",
    "    per_var_info['num_noncoding_egenes_lead'] = ncoding_lead\n",
    "\n",
    "\n",
    "    per_var_info['num_coding_egenes'] = coding_egenes\n",
    "    per_var_info['num_noncoding_egenes'] = ncoding_egenes\n",
    "\n",
    "    per_var_info['num_coding_tested'] = coding_tested\n",
    "    per_var_info['num_noncoding_tested'] = ncoding_tested\n",
    "    \n",
    "        \n",
    "    \n",
    "\n",
    "    cols = ['num_coding_egenes_lead', 'num_noncoding_egenes_lead', 'num_coding_egenes', \n",
    "     'num_noncoding_egenes','num_noncoding_tested', 'num_coding_tested', 'num_nonloop_egenes_lead',\n",
    "           'num_nonloop_egenes', 'num_nonloop_tested', 'num_genes_tested_da', \n",
    "            'num_egenes_da', 'num_egenes_da_lead']\n",
    "    per_var_info[cols] = per_var_info[cols].fillna(0)\n",
    "    \n",
    "    return per_var_info"
   ]
  },
  {
   "cell_type": "code",
   "execution_count": 173,
   "metadata": {
    "collapsed": true
   },
   "outputs": [],
   "source": [
    "def add_svtype_cats(all_qtls_filt):\n",
    "    convert = {'STR':'STR', 'INDEL': 'INDEL', 'SNP': 'SNV', 'SNV': 'SNV', 'INDEL_DEL': 'INDEL', \n",
    "               'INDEL_INS': 'INDEL'}\n",
    "    all_qtls_filt['SVTYPE_SUPER'] = all_qtls_filt.SVTYPE_NR.apply(lambda x: convert.get(x, 'SV'))\n",
    "    convert = {'STR':'STR', 'INDEL': 'INDEL', 'SNP': 'SNV',\n",
    "               'ALU': 'MEI', 'LINE1': 'MEI', 'SVA':'MEI', 'rMEI':'MEI', \n",
    "          'DUP': 'CNV', 'DEL': 'CNV', 'mCNV': 'CNV', 'SNV': 'SNV', 'INDEL_INS': 'INDEL', 'INDEL_DEL': 'INDEL', \n",
    "              'INDEL': 'INDEL', 'SNP': \"SNV\"}\n",
    "    all_qtls_filt['SVTYPE_COLLAPSE'] = all_qtls_filt.SVTYPE_NR.apply(lambda x: convert.get(x, 'other SV'))\n",
    "    convert = {'LINE1':'MEI', 'SVA': 'MEI', 'ALU': 'MEI'}\n",
    "    all_qtls_filt['SVTYPE_NR_C'] = all_qtls_filt.SVTYPE_NR.apply(lambda x: convert.get(x,x))\n",
    "    return all_qtls_filt"
   ]
  },
  {
   "cell_type": "code",
   "execution_count": 78,
   "metadata": {
    "collapsed": true
   },
   "outputs": [],
   "source": [
    "def fix_svtypes(info_all_rna, suff = '_all'):\n",
    "    svt_col = \"SVTYPE{}\".format(suff)\n",
    "    st_col = \"SUBTYPE{}\".format(suff)\n",
    "    \n",
    "    inds = info_all_rna[(info_all_rna[svt_col] == 'mCNV') & (info_all_rna[st_col] == 'DEL')].index.tolist()\n",
    "\n",
    "    inds_nr = info_all_rna[(info_all_rna[svt_col] == 'mCNV') & (info_all_rna[st_col] == 'DEL') & \n",
    "                           (info_all_rna.ID == info_all_rna.NR_ID)].index.tolist()\n",
    "    \n",
    "    info_all_rna.loc[inds_nr, \"SVTYPE_NR\"] = 'DEL'\n",
    "\n",
    "    info_all_rna.loc[inds, svt_col] = 'DEL'"
   ]
  },
  {
   "cell_type": "code",
   "execution_count": 8,
   "metadata": {
    "collapsed": true
   },
   "outputs": [],
   "source": [
    "var_egene = pd.read_pickle('/frazer01/projects/hipsci/analysis/i2QTL-sv-analysis/private_output/eqtl_processing/qtl_results_01_17_v4/var_egene_annot_maf5_sv_only.pkl')\n",
    "var_egene.feature_id.unique().shape\n",
    "var_egene_nr = var_egene[(var_egene.most_significant_nr)]"
   ]
  },
  {
   "cell_type": "code",
   "execution_count": 80,
   "metadata": {
    "collapsed": true
   },
   "outputs": [],
   "source": [
    "var_egene_nr['ID']= var_egene_nr.snp_id"
   ]
  },
  {
   "cell_type": "code",
   "execution_count": 81,
   "metadata": {
    "collapsed": true
   },
   "outputs": [],
   "source": [
    "var_egene_nr.pipe(fix_svtypes, suff = '')"
   ]
  },
  {
   "cell_type": "code",
   "execution_count": 86,
   "metadata": {
    "collapsed": true
   },
   "outputs": [],
   "source": [
    "# var_egene_nr.groupby(('SVTYPE', 'significant')).SUBTYPE.value_counts(normalize = True)"
   ]
  },
  {
   "cell_type": "code",
   "execution_count": 9,
   "metadata": {
    "collapsed": true
   },
   "outputs": [],
   "source": [
    "per_var = pd.read_pickle('/frazer01/projects/hipsci/analysis/i2QTL-sv-analysis/private_output/eqtl_processing/qtl_results_01_17_v4/per_variant_info_sv_only.pkl').pipe(prep_per_variant_df, var_egene_nr)"
   ]
  },
  {
   "cell_type": "code",
   "execution_count": 90,
   "metadata": {
    "collapsed": true
   },
   "outputs": [],
   "source": [
    "per_var.pipe(fix_svtypes, suff = '')"
   ]
  },
  {
   "cell_type": "code",
   "execution_count": 93,
   "metadata": {
    "collapsed": false
   },
   "outputs": [
    {
     "data": {
      "text/plain": [
       "SVTYPE  significant_association  SUBTYPE\n",
       "mCNV    False                    MIXED      385\n",
       "                                 DUP        107\n",
       "        True                     MIXED      323\n",
       "                                 DUP        102\n",
       "Name: SUBTYPE, dtype: int64"
      ]
     },
     "execution_count": 93,
     "metadata": {},
     "output_type": "execute_result"
    }
   ],
   "source": [
    "per_var[per_var.SVTYPE == 'mCNV'].groupby(('SVTYPE', 'significant_association')).SUBTYPE.value_counts()"
   ]
  },
  {
   "cell_type": "code",
   "execution_count": 98,
   "metadata": {
    "collapsed": true
   },
   "outputs": [],
   "source": [
    "per_var['ALLELES_str'] = per_var.ALLELES.apply(lambda x: \",\".join(map(str,x)))"
   ]
  },
  {
   "cell_type": "code",
   "execution_count": 109,
   "metadata": {
    "collapsed": true
   },
   "outputs": [],
   "source": [
    "per_var['num_observed_alleles'] = per_var.ALLELES.apply(len)"
   ]
  },
  {
   "cell_type": "code",
   "execution_count": 108,
   "metadata": {
    "collapsed": false
   },
   "outputs": [
    {
     "data": {
      "text/plain": [
       "4     182\n",
       "5     109\n",
       "3      50\n",
       "6      44\n",
       "7      20\n",
       "9       9\n",
       "8       7\n",
       "18      1\n",
       "13      1\n",
       "12      1\n",
       "10      1\n",
       "Name: ALLELES, dtype: int64"
      ]
     },
     "execution_count": 108,
     "metadata": {},
     "output_type": "execute_result"
    }
   ],
   "source": [
    "per_var[(per_var.SVTYPE == 'mCNV') & (per_var.significant_association)].ALLELES.apply(len).value_counts()"
   ]
  },
  {
   "cell_type": "code",
   "execution_count": null,
   "metadata": {
    "collapsed": true
   },
   "outputs": [],
   "source": [
    "per_var = per_var.pipe(add_svtype_cats)"
   ]
  },
  {
   "cell_type": "code",
   "execution_count": 159,
   "metadata": {
    "collapsed": false
   },
   "outputs": [
    {
     "name": "stdout",
     "output_type": "stream",
     "text": [
      "per_variant_info_annot_update = pd.read_pickle('/frazer01/projects/hipsci/analysis/i2QTL-sv-analysis/private_output/evariant_loop_analysis/qtl_results_v4/per_variant_info_annot_update.pkl')\n",
      "per_variant_info_annot_update = pd.read_csv('/frazer01/projects/hipsci/analysis/i2QTL-sv-analysis/private_output/evariant_loop_analysis/qtl_results_v4/per_variant_info_annot_update.tsv', sep='\\t')\n",
      "# all vars recorded: /frazer01/projects/hipsci/analysis/i2QTL-sv-analysis/private_output/evariant_loop_analysis/qtl_results_v4/load_saved_nb_variables.py\n",
      "# pickled vars recorded:/frazer01/projects/hipsci/analysis/i2QTL-sv-analysis/private_output/evariant_loop_analysis/qtl_results_v4/load_pickled_nb_variables.py\n"
     ]
    }
   ],
   "source": [
    "CM.save_dataframe('per_variant_info_annot_update', per_var, outdir)"
   ]
  },
  {
   "cell_type": "markdown",
   "metadata": {},
   "source": [
    "# mCNVs and eQTLs"
   ]
  },
  {
   "cell_type": "code",
   "execution_count": 115,
   "metadata": {
    "collapsed": true
   },
   "outputs": [],
   "source": [
    "tdf = per_var[(per_var.SVTYPE == 'mCNV') & (per_var.significant_association)].groupby('num_egenes').num_observed_alleles.value_counts().to_frame('num').reset_index()"
   ]
  },
  {
   "cell_type": "code",
   "execution_count": 117,
   "metadata": {
    "collapsed": false
   },
   "outputs": [
    {
     "data": {
      "text/plain": [
       "<matplotlib.axes._subplots.AxesSubplot at 0x7f6ff88ed4d0>"
      ]
     },
     "execution_count": 117,
     "metadata": {},
     "output_type": "execute_result"
    },
    {
     "data": {
      "image/png": "[encoded data removed]",
      "text/plain": [
       "<Figure size 432x288 with 1 Axes>"
      ]
     },
     "metadata": {
      "needs_background": "light"
     },
     "output_type": "display_data"
    }
   ],
   "source": [
    "sns.scatterplot(x = 'num_egenes', y = 'num_observed_alleles', size = 'num', data = tdf)"
   ]
  },
  {
   "cell_type": "code",
   "execution_count": 14,
   "metadata": {
    "collapsed": true
   },
   "outputs": [],
   "source": [
    "per_var['frac_loop_eg'] = per_var.num_egenes_loop/per_var.num_genes_tested_loop\n",
    "per_var['frac_nonloop_eg'] = per_var.num_egenes_da/per_var.num_genes_tested_da"
   ]
  },
  {
   "cell_type": "code",
   "execution_count": 66,
   "metadata": {
    "collapsed": true
   },
   "outputs": [],
   "source": [
    "info_pass_rna = pd.read_pickle('/frazer01/projects/hipsci/analysis/i2QTL-sv-analysis/private_output/dosage_vcf_and_variant_info/info_unfilt_consented_472_v2.pkl')\n",
    "# info_pass = pd.read_pickle('/frazer01/projects/hipsci/analysis/i2QTL-sv-analysis/private_output/dosage_vcf_and_variant_info/info_pass_consented_annot_472.pkl')\n",
    "\n",
    "info_pass_rna = info_pass_rna[~info_pass_rna['CHROM'].isin(['X', 'Y'])]"
   ]
  },
  {
   "cell_type": "code",
   "execution_count": 152,
   "metadata": {
    "collapsed": true
   },
   "outputs": [],
   "source": [
    "# info_pass_rna[(info_pass_rna.SVTYPE_all == 'mCNV') & (info_pass_rna.SUBTYPE_all == 'DEL')]"
   ]
  },
  {
   "cell_type": "code",
   "execution_count": 153,
   "metadata": {
    "collapsed": true
   },
   "outputs": [],
   "source": [
    "pvt = per_var[((per_var.num_genes_tested_loop > 0) & (per_var.num_genes_tested_da > 0)) &\n",
    "              ((per_var.num_egenes_da > 0) | (per_var.num_egenes_loop > 0))]"
   ]
  },
  {
   "cell_type": "code",
   "execution_count": 154,
   "metadata": {
    "collapsed": false
   },
   "outputs": [
    {
     "data": {
      "text/plain": [
       "<matplotlib.axes._subplots.AxesSubplot at 0x7f70143baa90>"
      ]
     },
     "execution_count": 154,
     "metadata": {},
     "output_type": "execute_result"
    },
    {
     "data": {
      "image/png": "[encoded data removed]",
      "text/plain": [
       "<Figure size 432x288 with 1 Axes>"
      ]
     },
     "metadata": {
      "needs_background": "light"
     },
     "output_type": "display_data"
    }
   ],
   "source": [
    "(pvt.frac_loop_eg - pvt.frac_nonloop_eg).hist(bins = 50)"
   ]
  },
  {
   "cell_type": "code",
   "execution_count": 84,
   "metadata": {
    "collapsed": false
   },
   "outputs": [
    {
     "data": {
      "text/plain": [
       "<matplotlib.axes._subplots.AxesSubplot at 0x7fdfedf62890>"
      ]
     },
     "execution_count": 84,
     "metadata": {},
     "output_type": "execute_result"
    },
    {
     "data": {
      "image/png": "[encoded data removed]",
      "text/plain": [
       "<Figure size 432x288 with 1 Axes>"
      ]
     },
     "metadata": {
      "needs_background": "light"
     },
     "output_type": "display_data"
    }
   ],
   "source": [
    "pvt = per_var[(per_var.num_genes_tested_loop > 0)]\n",
    "\n",
    "fig, ax = plt.subplots(1,1)\n",
    "\n",
    "sns.regplot(y = 'num_egenes', x = 'num_nonloop_tested', data = pvt[pvt.num_nonloop_tested > 0],\n",
    "           x_bins = [2, 4,6,8,10, 20, 30], label = 'nonloop_vs_ev')\n",
    "\n",
    "\n",
    "sns.regplot(y = 'num_egenes', x = 'num_genes_tested_loop', data = pvt[pvt.num_genes_tested_loop > 0], label = 'loop_vs_ev', x_bins = [2, 4,6,8,10, 20, 30])\n",
    "\n",
    "\n"
   ]
  },
  {
   "cell_type": "code",
   "execution_count": 85,
   "metadata": {
    "collapsed": false
   },
   "outputs": [
    {
     "data": {
      "text/plain": [
       "<matplotlib.axes._subplots.AxesSubplot at 0x7fdfedef4ed0>"
      ]
     },
     "execution_count": 85,
     "metadata": {},
     "output_type": "execute_result"
    },
    {
     "data": {
      "image/png": "[encoded data removed]",
      "text/plain": [
       "<Figure size 432x288 with 1 Axes>"
      ]
     },
     "metadata": {
      "needs_background": "light"
     },
     "output_type": "display_data"
    }
   ],
   "source": [
    "pvt = per_var[(per_var.num_genes_tested_loop > 0) & (per_var.num_egenes > 0)]\n",
    "\n",
    "fig, ax = plt.subplots(1,1)\n",
    "\n",
    "sns.regplot(y = 'num_egenes', x = 'num_nonloop_tested', data = pvt[pvt.num_nonloop_tested > 0],\n",
    "           x_bins = [2, 4,6,8,10, 20, 30], label = 'nonloop_vs_ev')\n",
    "\n",
    "\n",
    "sns.regplot(y = 'num_egenes', x = 'num_genes_tested_loop', data = pvt[pvt.num_genes_tested_loop > 0], label = 'loop_vs_ev', x_bins = [2, 4,6,8,10, 20, 30])\n"
   ]
  },
  {
   "cell_type": "code",
   "execution_count": 113,
   "metadata": {
    "collapsed": false
   },
   "outputs": [
    {
     "data": {
      "text/plain": [
       "<matplotlib.legend.Legend at 0x7fdf83aebe50>"
      ]
     },
     "execution_count": 113,
     "metadata": {},
     "output_type": "execute_result"
    },
    {
     "data": {
      "image/png": "[encoded data removed]",
      "text/plain": [
       "<Figure size 432x288 with 1 Axes>"
      ]
     },
     "metadata": {
      "needs_background": "light"
     },
     "output_type": "display_data"
    }
   ],
   "source": [
    "pvt = per_var[per_var.num_egenes > 0]\n",
    "fig, ax = plt.subplots(1,1)\n",
    "\n",
    "sns.regplot(y = 'num_egenes', x = 'num_nonloop_tested', data = pvt,\n",
    "           x_bins = 10, label = 'nonloop distal genes')\n",
    "\n",
    "\n",
    "sns.regplot(y = 'num_egenes', x = 'num_genes_tested_loop', data = pvt, label = 'loop_genes', x_bins = 10)\n",
    "\n",
    "\n",
    "ax.set_xlabel('num_genes_tested')\n",
    "\n",
    "ax.legend(bbox_to_anchor= (1,1), loc = 'upper left')"
   ]
  },
  {
   "cell_type": "code",
   "execution_count": 87,
   "metadata": {
    "collapsed": false
   },
   "outputs": [
    {
     "data": {
      "text/plain": [
       "<matplotlib.legend.Legend at 0x7fdfedd931d0>"
      ]
     },
     "execution_count": 87,
     "metadata": {},
     "output_type": "execute_result"
    },
    {
     "data": {
      "image/png": "[encoded data removed]",
      "text/plain": [
       "<Figure size 432x288 with 1 Axes>"
      ]
     },
     "metadata": {
      "needs_background": "light"
     },
     "output_type": "display_data"
    }
   ],
   "source": [
    "pvt = per_var[(per_var.num_genes_tested_loop > 0) & (per_var.num_egenes > 0)]\n",
    "fig, ax = plt.subplots(1,1)\n",
    "\n",
    "sns.regplot(y = 'num_egenes', x = 'num_nonloop_tested', data = pvt[pvt.num_nonloop_tested > 0],\n",
    "           x_bins = 10, label = 'nonloop distal genes')\n",
    "\n",
    "\n",
    "sns.regplot(y = 'num_egenes', x = 'num_genes_tested_loop', data = pvt[pvt.num_genes_tested_loop > 0], label = 'loop_genes', x_bins = 10)\n",
    "\n",
    "ax.set_xlabel('num_genes_tested')\n",
    "ax.legend(bbox_to_anchor= (1,1), loc = 'upper left')"
   ]
  },
  {
   "cell_type": "code",
   "execution_count": 88,
   "metadata": {
    "collapsed": true
   },
   "outputs": [],
   "source": [
    "t =(pvt.num_genes_tested_loop > 0).to_frame('connected_by_looping_to_some')"
   ]
  },
  {
   "cell_type": "code",
   "execution_count": 52,
   "metadata": {
    "collapsed": true
   },
   "outputs": [],
   "source": [
    "var_egene_nr = var_egene_nr.merge(t, left_on='NR_ID', right_index=True, how = 'left')"
   ]
  },
  {
   "cell_type": "markdown",
   "metadata": {},
   "source": [
    "# Loop eGene Matrix "
   ]
  },
  {
   "cell_type": "code",
   "execution_count": 160,
   "metadata": {
    "collapsed": true
   },
   "outputs": [],
   "source": [
    "bins = [0.5, 1.5, 6, 11, 21, 10000]\n",
    "bin_labels = ['1', '2-5', '6-10', '11-20', '21+']\n",
    "\n",
    "per_var['num_genes_tested_loop_bin'] = pd.cut(per_var.num_genes_tested_loop, bins = bins, labels = bin_labels, include_lowest=True).astype(str)"
   ]
  },
  {
   "cell_type": "code",
   "execution_count": 161,
   "metadata": {
    "collapsed": true
   },
   "outputs": [],
   "source": [
    "vc_all = per_var[per_var.num_egenes_loop > 0].groupby(('num_genes_tested_loop', 'num_egenes_loop')).size().to_frame('count').reset_index()"
   ]
  },
  {
   "cell_type": "code",
   "execution_count": 162,
   "metadata": {
    "collapsed": true
   },
   "outputs": [],
   "source": [
    "bins = [0,1.5] + [5, 10, 20, 30, 1000]\n",
    "nbins = np.arange(0, len(bins[1:]))\n",
    "order_bins = dict(zip(bins[1:], nbins))\n",
    "vc_all['num_genes_tested_loop_bin'] = pd.cut(vc_all.num_genes_tested_loop, bins = bins, labels = bins[1:])"
   ]
  },
  {
   "cell_type": "code",
   "execution_count": 163,
   "metadata": {
    "collapsed": true
   },
   "outputs": [],
   "source": [
    "vc_all['order_bins'] = vc_all.num_genes_tested_loop_bin.map(order_bins)\n",
    "vc_all.num_genes_tested_loop_bin = vc_all.num_genes_tested_loop_bin.astype(int)"
   ]
  },
  {
   "cell_type": "code",
   "execution_count": 164,
   "metadata": {
    "collapsed": true
   },
   "outputs": [],
   "source": [
    "mat = vc_all.groupby(('num_genes_tested_loop_bin', 'order_bins','num_egenes_loop'))['count'].sum().to_frame('count').reset_index().fillna(0)"
   ]
  },
  {
   "cell_type": "code",
   "execution_count": 165,
   "metadata": {
    "collapsed": true
   },
   "outputs": [],
   "source": [
    "mat = pd.pivot_table(mat.sort_values(['order_bins', 'num_egenes_loop']),values = 'count', index = 'num_genes_tested_loop_bin', columns='num_egenes_loop').fillna(0)"
   ]
  },
  {
   "cell_type": "code",
   "execution_count": 166,
   "metadata": {
    "collapsed": true
   },
   "outputs": [],
   "source": [
    "mat = mat.applymap(int)\n",
    "mat.columns = mat.columns.astype(int)"
   ]
  },
  {
   "cell_type": "code",
   "execution_count": 168,
   "metadata": {
    "collapsed": false
   },
   "outputs": [
    {
     "name": "stdout",
     "output_type": "stream",
     "text": [
      "num_loops_per_egene_mat = pd.read_pickle('/frazer01/projects/hipsci/analysis/i2QTL-sv-analysis/private_output/evariant_loop_analysis/qtl_results_v4/num_loops_per_egene_mat.pkl')\n",
      "num_loops_per_egene_mat = pd.read_csv('/frazer01/projects/hipsci/analysis/i2QTL-sv-analysis/private_output/evariant_loop_analysis/qtl_results_v4/num_loops_per_egene_mat.tsv', sep='\\t')\n",
      "# all vars recorded: /frazer01/projects/hipsci/analysis/i2QTL-sv-analysis/private_output/evariant_loop_analysis/qtl_results_v4/load_saved_nb_variables.py\n",
      "# pickled vars recorded:/frazer01/projects/hipsci/analysis/i2QTL-sv-analysis/private_output/evariant_loop_analysis/qtl_results_v4/load_pickled_nb_variables.py\n"
     ]
    }
   ],
   "source": [
    "CM.save_dataframe('num_loops_per_egene_mat', mat, outdir)"
   ]
  },
  {
   "cell_type": "code",
   "execution_count": 169,
   "metadata": {
    "collapsed": true
   },
   "outputs": [],
   "source": [
    "xticklabels = ['1', '2-5', '6-10', '11-20', '21-30', '31+']"
   ]
  },
  {
   "cell_type": "code",
   "execution_count": 171,
   "metadata": {
    "collapsed": true
   },
   "outputs": [],
   "source": [
    "log_norm = LogNorm(vmin=1, vmax=500)"
   ]
  },
  {
   "cell_type": "code",
   "execution_count": 172,
   "metadata": {
    "collapsed": false
   },
   "outputs": [
    {
     "data": {
      "text/plain": [
       "[Text(0,0.5,'1'),\n",
       " Text(0,1.5,'2'),\n",
       " Text(0,2.5,'3'),\n",
       " Text(0,3.5,'4'),\n",
       " Text(0,4.5,'5'),\n",
       " Text(0,5.5,'6'),\n",
       " Text(0,6.5,'7')]"
      ]
     },
     "execution_count": 172,
     "metadata": {},
     "output_type": "execute_result"
    },
    {
     "data": {
      "image/png": "[encoded data removed]",
      "text/plain": [
       "<Figure size 576x360 with 1 Axes>"
      ]
     },
     "metadata": {
      "needs_background": "light"
     },
     "output_type": "display_data"
    }
   ],
   "source": [
    "fig, ax = plt.subplots(1,1, figsize = (8,5))\n",
    "ax = sns.heatmap(mat.T, annot = True, fmt = \"0\", vmin = 1, vmax = 500, norm=log_norm, cmap='Blues_r', cbar = False)\n",
    "ax.invert_yaxis()\n",
    "ax.spines['left'].set_visible(True)\n",
    "ax.spines['bottom'].set_visible(True)\n",
    "ax.set_xlabel('No. Genes Linked By \\n Loop To Variant')\n",
    "ax.set_ylabel('No. of eGenes')\n",
    "ax.set_xticklabels(xticklabels)\n",
    "ax.set_yticklabels(map(int, ax.get_yticks()))\n",
    "ax.set_yticklabels(range(1,8))"
   ]
  },
  {
   "cell_type": "markdown",
   "metadata": {},
   "source": [
    "# Percentage eQTLs "
   ]
  },
  {
   "cell_type": "code",
   "execution_count": 178,
   "metadata": {
    "collapsed": true
   },
   "outputs": [],
   "source": [
    "var_egene_nr_nc_nd = var_egene_nr[(var_egene_nr.coding == False) & (var_egene_nr.genic_category_variant != 'intersects_promoter') & (var_egene_nr.near_distal_loop == True)]"
   ]
  },
  {
   "cell_type": "code",
   "execution_count": 179,
   "metadata": {
    "collapsed": true
   },
   "outputs": [],
   "source": [
    "# the fraction of significant var-egene pairs near distal eQTL\n",
    "t1 = vc_w_prop(var_egene_nr_nc_nd[var_egene_nr_nc_nd.int_distal_pc_10kb == True], 'SVTYPE_NR_C', 'significant') \n",
    "t2 = vc_w_prop(var_egene_nr_nc_nd[var_egene_nr_nc_nd.int_distal_pc_10kb == False], 'SVTYPE_NR_C', 'significant') \n",
    "t1['intersects_anchor'] = True\n",
    "t2['intersects_anchor'] = False\n",
    "df = pd.concat([t1,t2])"
   ]
  },
  {
   "cell_type": "code",
   "execution_count": 181,
   "metadata": {
    "collapsed": false
   },
   "outputs": [
    {
     "name": "stdout",
     "output_type": "stream",
     "text": [
      "vc_pc10_sv_only = pd.read_pickle('/frazer01/projects/hipsci/analysis/i2QTL-sv-analysis/private_output/evariant_loop_analysis/qtl_results_v4/vc_pc10_sv_only.pkl')\n",
      "vc_pc10_sv_only = pd.read_csv('/frazer01/projects/hipsci/analysis/i2QTL-sv-analysis/private_output/evariant_loop_analysis/qtl_results_v4/vc_pc10_sv_only.tsv', sep='\\t')\n",
      "# all vars recorded: /frazer01/projects/hipsci/analysis/i2QTL-sv-analysis/private_output/evariant_loop_analysis/qtl_results_v4/load_saved_nb_variables.py\n",
      "# pickled vars recorded:/frazer01/projects/hipsci/analysis/i2QTL-sv-analysis/private_output/evariant_loop_analysis/qtl_results_v4/load_pickled_nb_variables.py\n"
     ]
    }
   ],
   "source": [
    "CM.save_dataframe('vc_pc10_sv_only', df, outdir)"
   ]
  }
 ],
 "metadata": {
  "kernelspec": {
   "display_name": "Python 2",
   "language": "python",
   "name": "python2"
  },
  "language_info": {
   "codemirror_mode": {
    "name": "ipython",
    "version": 2
   },
   "file_extension": ".py",
   "mimetype": "text/x-python",
   "name": "python",
   "nbconvert_exporter": "python",
   "pygments_lexer": "ipython2",
   "version": "2.7.3"
  }
 },
 "nbformat": 4,
 "nbformat_minor": 2
}
