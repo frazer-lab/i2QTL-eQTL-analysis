{
 "cells": [
  {
   "cell_type": "code",
   "execution_count": 2,
   "metadata": {
    "collapsed": true
   },
   "outputs": [],
   "source": [
    "%matplotlib inline\n",
    "from __future__ import division\n",
    "import numpy as np\n",
    "import os\n",
    "import sys\n",
    "import datetime\n",
    "from subprocess import call\n",
    "import subprocess\n",
    "import glob\n",
    "import djPyi2 as DJ\n",
    "from djPyi2 import Common as CM\n",
    "\n",
    "\n",
    "import pandas as pd\n",
    "pd.options.mode.chained_assignment = None\n",
    "import csv\n",
    "import seaborn as sns\n",
    "import matplotlib as mpl\n",
    "import matplotlib.pyplot as plt\n",
    "import copy \n",
    "import pybedtools as pbt\n",
    "import ciepy\n",
    "import cardipspy as cpy\n",
    "import itertools\n",
    "import tempfile\n",
    "import six\n",
    "import networkx as nx\n",
    "import scipy.stats as stats\n",
    "pd.set_option('display.max_columns', 500)\n",
    "pd.set_option('display.max_rows', 100)\n",
    "from mpl_toolkits.axes_grid1 import  make_axes_locatable\n",
    "import datetime\n",
    "\n",
    "from scipy.stats import mode\n",
    "dy_name = 'distance_to_loop_anchors'\n",
    "\n",
    "private_out = os.path.join(DJ.root, 'private_output', dy_name)\n",
    "if not os.path.exists(private_out):\n",
    "    cpy.makedir(private_out)\n",
    "\n",
    "import gc"
   ]
  },
  {
   "cell_type": "code",
   "execution_count": 3,
   "metadata": {
    "collapsed": true
   },
   "outputs": [],
   "source": [
    "from djPyi2 import mpltools\n",
    "\n",
    "from djPyi2 import pandas_methods as pm"
   ]
  },
  {
   "cell_type": "code",
   "execution_count": 4,
   "metadata": {
    "collapsed": true
   },
   "outputs": [],
   "source": [
    "def prep_tx_info(df):\n",
    "    df = df.copy()\n",
    "    df['gene_id_mod'] = df.gene_id.apply(lambda x: x.split('.')[0])\n",
    "    df = df.set_index('tx_id', drop = False)\n",
    "    return df\n",
    "\n",
    "def prep_promoter_info(df, tx_info):\n",
    "    df = df.copy()\n",
    "#     df['gene_id_mod'] = df.tx_id.apply(lambda x: x.split('.')[0])\n",
    "    df['tx_id'] = df.tx_id.apply(lambda x: x.split('_')[0])\n",
    "    \n",
    "    df = df.set_index('tx_id', drop = False)\n",
    "    df = df.join(tx_info[['gene_id', 'gene_id_mod']])\n",
    "    \n",
    "    return df\n",
    "\n",
    "def prep_gene_info(df):\n",
    "    df = df.copy()\n",
    "    df['gene_id_mod'] = df.gene_id.apply(lambda x: x.split('.')[0])\n",
    "    df = df.set_index('gene_id_mod', drop = False)\n",
    "    return df"
   ]
  },
  {
   "cell_type": "code",
   "execution_count": 5,
   "metadata": {
    "collapsed": true
   },
   "outputs": [],
   "source": [
    "def prep_var_egene(df):\n",
    "    df = df.copy()\n",
    "    df['feature_chrom'] = df['feature_chromosome'].apply(lambda x: \"chr{}\".format(x))\n",
    "    df['chrom_variant'] = df['feature_chrom']\n",
    "    return df"
   ]
  },
  {
   "cell_type": "code",
   "execution_count": 5,
   "metadata": {
    "collapsed": true
   },
   "outputs": [],
   "source": [
    "tx_info =  pd.read_table('/publicdata/gencode_v19_20151104/transcript_to_gene.tsv', names=['tx_id', 'gene_id']).pipe(prep_tx_info)\n",
    "promoter_info = pd.read_table('/publicdata/gencode_v19_20151104/promoters.bed', names=['chrom', 'start', 'end', 'tx_id', 'strand', 'other']).pipe(prep_promoter_info, tx_info)"
   ]
  },
  {
   "cell_type": "code",
   "execution_count": null,
   "metadata": {
    "collapsed": true
   },
   "outputs": [],
   "source": [
    "fn_promoter_bed = outdir + '/promoters_annot.bed'\n",
    "promoter_info.to_csv(fn_promoter_bed, sep = '\\t', header = None, index = False)"
   ]
  },
  {
   "cell_type": "code",
   "execution_count": 6,
   "metadata": {
    "collapsed": true
   },
   "outputs": [],
   "source": [
    "# Make Loop IDs unique for loops from Montefiori paper\n",
    "\n",
    "def add_anchor_sizes(df):\n",
    "    df = df.copy()\n",
    "    df['anchor_A_size'] = df['endA'] - df['startA']\n",
    "    df['anchor_B_size'] = df['endB'] - df['startB']\n",
    "    return df\n",
    "\n",
    "pc_df = pd.read_table('/frazer01/projects/hipsci/analysis/i2QTL-sv-analysis/private_output/pc_intersections/qtl_results_12_4/supp1.iPSC.pHiC.pgl', names = ['chromA', 'startA', 'endA','chromB', 'startB', 'endB', 'score', 'loop_id'])\n",
    "\n",
    "pc_df = pc_df.pipe(pm.concat_cols, 'loop_id chromA\tstartA\tendA\tchromB\tstartB\tendB'.split(), sep = ':', name = 'unique_loop_id')\n",
    "\n",
    "pc_df = pc_df.pipe(add_anchor_sizes)\n",
    "pc_df.set_index('unique_loop_id', drop = False, inplace = True)\n",
    "pc_loop_anchor_sizes = pc_df[['anchor_A_size', 'anchor_B_size']]\n",
    "\n",
    "fn = '/frazer01/projects/hipsci/analysis/i2QTL-sv-analysis/private_output/pc_intersections/qtl_results_12_4/supp1.iPSC.pHiC.annot_uniq.pgl'\n",
    "pc_df.to_csv(fn, sep = '\\t', index = False, header = None)\n",
    "\n",
    "fn = '/frazer01/projects/hipsci/analysis/i2QTL-sv-analysis/private_output/pc_intersections/qtl_results_12_4/iPSC.reference.withIndex.pgl'\n",
    "hic_df = pd.read_table(fn, names = ['chromA', 'startA', 'endA','chromB', 'startB', 'endB', 'loop_id'])\n",
    "\n",
    "hic_df = hic_df.pipe(add_anchor_sizes)\n",
    "hic_df.set_index('loop_id', drop = False, inplace = True)\n",
    "hic_loop_anchor_sizes = hic_df[['anchor_A_size', 'anchor_B_size']]"
   ]
  },
  {
   "cell_type": "markdown",
   "metadata": {},
   "source": [
    "# Commands"
   ]
  },
  {
   "cell_type": "code",
   "execution_count": null,
   "metadata": {
    "collapsed": true
   },
   "outputs": [],
   "source": [
    "pgltools condense supp1.iPSC.pHiC.pgl > supp1.iPSC.pHiC.condense.bed\n",
    "pgltools condense iPSC.reference.withIndex.pgl > iPSC.reference.withIndex.condense.bed\n",
    "\n",
    "sort-bed promoters_annot.bed > promoters_annot.sorted.bed\n",
    "sort-bed supp1.iPSC.pHiC.condense.bed > supp1.iPSC.pHiC.condense.sorted.bed\n",
    "sort-bed  iPSC.reference.withIndex.condense.bed > iPSC.reference.withIndex.condense.sorted.bed"
   ]
  },
  {
   "cell_type": "code",
   "execution_count": null,
   "metadata": {
    "collapsed": true
   },
   "outputs": [],
   "source": [
    "pgltools condense supp1.iPSC.pHiC.annot_uniq.pgl > supp1.iPSC.pHiC.annot_uniq.condense.bed\n",
    "sort-bed supp1.iPSC.pHiC.annot_uniq.condense.bed > supp1.iPSC.pHiC.annot_uniq.condense.sorted.bed"
   ]
  },
  {
   "cell_type": "code",
   "execution_count": 7,
   "metadata": {
    "collapsed": true
   },
   "outputs": [],
   "source": [
    "fn = '/frazer01/projects/hipsci/analysis/i2QTL-sv-analysis/private_output/pc_intersections/qtl_results_12_4/supp1.iPSC.pHiC.annot_uniq.condense.sorted.bed'\n",
    "pc_bt = pbt.BedTool(fn).sort()\n",
    "# add 5kb slop to promoter capture loops\n",
    "pc_bt = pc_bt.slop(b = 5000, g = '/frazer01/publicdata/gatk_bundle_2.8/b37/human_g1k_v37_decoy_Sendai.genome')"
   ]
  },
  {
   "cell_type": "code",
   "execution_count": null,
   "metadata": {
    "collapsed": true
   },
   "outputs": [],
   "source": []
  },
  {
   "cell_type": "code",
   "execution_count": 8,
   "metadata": {
    "collapsed": true
   },
   "outputs": [],
   "source": [
    "fn = '/frazer01/projects/hipsci/analysis/i2QTL-sv-analysis/private_output/pc_intersections/qtl_results_12_4/promoters_annot.sorted.bed'\n",
    "prom_bt = pbt.BedTool(fn).sort()"
   ]
  },
  {
   "cell_type": "code",
   "execution_count": 9,
   "metadata": {
    "collapsed": true
   },
   "outputs": [],
   "source": [
    "def process_intersect(intersect):\n",
    "    cols = ['chromA', 'startA', 'endA'] + 'tx_id\tstrand\tother\tgene_id\tgene_id_mod'.split() + ['chromB', 'startB', 'endB', 'anchor_id', 'score', 'loop_id', 'loop_id_unique', 'overlap']\n",
    "    df = intersect.to_dataframe(names = cols)\n",
    "    df = df.drop_duplicates(['gene_id_mod', 'loop_id_unique'])\n",
    "    \n",
    "    df  = (df.pipe(pm.expand_col_split_join, 'loop_id_unique', \n",
    "                   sep=':', col_names=['loop_id2', 'chrom_anchorA', 'start_anchorA',\n",
    "                                       'end_anchorA', 'chrom_anchorB', 'start_anchorB', 'end_anchorB'], \n",
    "                   subset = ['start_anchorA', 'end_anchorA', 'start_anchorB', 'end_anchorB'], overwrite = True))\n",
    "    \n",
    "    return df"
   ]
  },
  {
   "cell_type": "code",
   "execution_count": 10,
   "metadata": {
    "collapsed": true
   },
   "outputs": [],
   "source": [
    "# get loops that intersect a promoter\n",
    "intersect = prom_bt.intersect(pc_bt, wo = True)"
   ]
  },
  {
   "cell_type": "code",
   "execution_count": 11,
   "metadata": {
    "collapsed": true
   },
   "outputs": [],
   "source": [
    "intersect = process_intersect(intersect)"
   ]
  },
  {
   "cell_type": "code",
   "execution_count": null,
   "metadata": {
    "collapsed": true
   },
   "outputs": [],
   "source": [
    "/frazer01/projects/hipsci/analysis/i2QTL-sv-analysis/private_output/loop_locus_examples/iPSC.merged_nodups.filtered.intra.5kb.cool"
   ]
  },
  {
   "cell_type": "markdown",
   "metadata": {},
   "source": [
    "# Pull in variants from eQTL testing- figure out which variants are closest to these loops"
   ]
  },
  {
   "cell_type": "code",
   "execution_count": 13,
   "metadata": {
    "collapsed": true
   },
   "outputs": [],
   "source": [
    "intersect = intersect.drop_duplicates(['gene_id_mod', 'loop_id_unique'])"
   ]
  },
  {
   "cell_type": "code",
   "execution_count": 14,
   "metadata": {
    "collapsed": true
   },
   "outputs": [],
   "source": [
    "var_egene = pd.read_pickle('/frazer01/projects/hipsci/analysis/i2QTL-sv-analysis/private_output/eqtl_processing/qtl_results_01_17_v2/all_qtls_combined_filt5.pkl')"
   ]
  },
  {
   "cell_type": "code",
   "execution_count": 15,
   "metadata": {
    "collapsed": true
   },
   "outputs": [],
   "source": [
    "genes_tested = var_egene.feature_id.unique().tolist()"
   ]
  },
  {
   "cell_type": "code",
   "execution_count": 16,
   "metadata": {
    "collapsed": true
   },
   "outputs": [],
   "source": [
    "intersect['in_tested_genes'] = intersect.gene_id_mod.isin(genes_tested)"
   ]
  },
  {
   "cell_type": "code",
   "execution_count": 17,
   "metadata": {
    "collapsed": true
   },
   "outputs": [],
   "source": [
    "intersects_tested_genes = intersect[intersect.in_tested_genes == True].drop_duplicates(['gene_id_mod'])[['loop_id_unique',\n",
    "                                                                              'gene_id_mod', 'in_tested_genes']]"
   ]
  },
  {
   "cell_type": "code",
   "execution_count": 18,
   "metadata": {
    "collapsed": false
   },
   "outputs": [
    {
     "name": "stdout",
     "output_type": "stream",
     "text": [
      "pc_promoter_intersect_tested_genes = pd.read_pickle('/frazer01/projects/hipsci/analysis/i2QTL-sv-analysis/private_output/distance_to_loop_anchors/pc_promoter_intersect_tested_genes.pkl')\n",
      "pc_promoter_intersect_tested_genes = pd.read_csv('/frazer01/projects/hipsci/analysis/i2QTL-sv-analysis/private_output/distance_to_loop_anchors/pc_promoter_intersect_tested_genes.tsv', sep='\\t')\n",
      "# all vars recorded: /frazer01/projects/hipsci/analysis/i2QTL-sv-analysis/private_output/distance_to_loop_anchors/load_saved_nb_variables.py\n",
      "# pickled vars recorded:/frazer01/projects/hipsci/analysis/i2QTL-sv-analysis/private_output/distance_to_loop_anchors/load_pickled_nb_variables.py\n"
     ]
    }
   ],
   "source": [
    "CM.save_dataframe('pc_promoter_intersect_tested_genes', intersects_tested_genes, private_out)"
   ]
  },
  {
   "cell_type": "code",
   "execution_count": 19,
   "metadata": {
    "collapsed": false
   },
   "outputs": [
    {
     "data": {
      "text/plain": [
       "(13529,)"
      ]
     },
     "execution_count": 19,
     "metadata": {},
     "output_type": "execute_result"
    }
   ],
   "source": [
    "intersect[intersect.in_tested_genes].gene_id_mod.unique().shape"
   ]
  },
  {
   "cell_type": "code",
   "execution_count": 20,
   "metadata": {
    "collapsed": false
   },
   "outputs": [
    {
     "data": {
      "text/plain": [
       "(16018,)"
      ]
     },
     "execution_count": 20,
     "metadata": {},
     "output_type": "execute_result"
    }
   ],
   "source": [
    "var_egene.feature_id.unique().shape"
   ]
  },
  {
   "cell_type": "markdown",
   "metadata": {},
   "source": [
    " we have a promoter loop to 13529 genes out of 16018 in test"
   ]
  },
  {
   "cell_type": "code",
   "execution_count": 21,
   "metadata": {
    "collapsed": false
   },
   "outputs": [
    {
     "data": {
      "text/plain": [
       "(30148,)"
      ]
     },
     "execution_count": 21,
     "metadata": {},
     "output_type": "execute_result"
    }
   ],
   "source": [
    "intersect.gene_id_mod.unique().shape"
   ]
  },
  {
   "cell_type": "markdown",
   "metadata": {},
   "source": [
    "a total of 30148 genes have a promoter loop to them (but we don't include all of them due to filtering of gene list to expressed things)"
   ]
  },
  {
   "cell_type": "code",
   "execution_count": 22,
   "metadata": {
    "collapsed": true
   },
   "outputs": [],
   "source": [
    "var_egene['has_pc_at_prom'] = var_egene.feature_id.isin(intersect.gene_id_mod.unique())"
   ]
  },
  {
   "cell_type": "code",
   "execution_count": 23,
   "metadata": {
    "collapsed": false
   },
   "outputs": [
    {
     "data": {
      "text/plain": [
       "(13529,)"
      ]
     },
     "execution_count": 23,
     "metadata": {},
     "output_type": "execute_result"
    }
   ],
   "source": [
    "# sanity check\n",
    "var_egene[var_egene.has_pc_at_prom].feature_id.unique().shape"
   ]
  },
  {
   "cell_type": "code",
   "execution_count": 24,
   "metadata": {
    "collapsed": true
   },
   "outputs": [],
   "source": [
    "def dist_lambda(df, col_start1, col_end1, col_start2, col_end2):\n",
    "#     Chr = str(x.CHROM)\n",
    "\n",
    "    \n",
    "    data = []\n",
    "    for x in df[[col_start1, col_end1, col_start2, col_end2]].values:\n",
    "        l = map(int, x)\n",
    "        \n",
    "        start1, end1 = l[0], l[1]     \n",
    "        start2, end2 = l[2], l[3]\n",
    "    \n",
    "\n",
    "        ## CNV before\n",
    "        if start1 < start2 and end1 <= start2:\n",
    "            dist = end1 - start2\n",
    "        ## CNV after \n",
    "        elif start1 > end2:\n",
    "            dist = start1- end2\n",
    "\n",
    "        ## CNV overlaps right edge:\n",
    "        elif start1 < start2 and end1 > start2 and end1 < end2:\n",
    "            dist = 0\n",
    "        ## CNV overlaps left edge\n",
    "\n",
    "        elif start1 >= start2 and start1 <= end2 and end1 >= end2:\n",
    "            dist=0\n",
    "\n",
    "        ## CNV Overlaps entire region:\n",
    "        elif start1 <= start2 and end1 >= end2:\n",
    "\n",
    "            dist =0\n",
    "\n",
    "        ## CNV_within entirely\n",
    "        elif start1 >= start2 and start1 <= end2 and end1 >= start2 and end1 <= end2:\n",
    "            dist = 0\n",
    "\n",
    "        else:\n",
    "            print start1, start2, end1, end2\n",
    "            return\n",
    "        \n",
    "        data.append(dist)\n",
    "    return data"
   ]
  },
  {
   "cell_type": "code",
   "execution_count": 46,
   "metadata": {
    "collapsed": true
   },
   "outputs": [],
   "source": [
    "def add_anchor_locations(tdf):\n",
    "    \"\"\" extra annotations needed to figure out where anchors are wrt to promoter/variant and \n",
    "    whether variants and egenes are actually within the same loops or not\"\"\"\n",
    "\n",
    "    tdf['min_dist_prom_anchor'] = tdf['dist_prom_anchor_A\tdist_prom_anchor_B'.split()].abs().min(axis = 1)\n",
    "    convert = {'True': 'A', 'False': 'B'}\n",
    "    tdf['nearest_anchor_prom'] = (tdf.dist_prom_anchor_A.abs() == tdf.min_dist_prom_anchor).apply(lambda x: convert[str(x)])\n",
    "\n",
    "    tdf['min_dist_var_anchor'] = tdf['dist_var_anchor_A\tdist_var_anchor_B'.split()].abs().min(axis = 1)\n",
    "    tdf['nearest_anchor_var'] = (tdf.dist_var_anchor_A.abs() == tdf.min_dist_var_anchor).apply(lambda x: convert[str(x)])\n",
    "    \n",
    "    tdf['proximal_anchor'] = tdf.nearest_anchor_prom\n",
    "    convert = {'A':'B', 'B': 'A'}\n",
    "    tdf['distal_anchor'] = tdf.nearest_anchor_prom.apply(lambda x: convert[x])\n",
    "    \n",
    "    # annotate whether the variant is upstream or downstream of the promoter\n",
    "    convert = {'True': 'downstream', 'False': 'upstream'}\n",
    "    tdf['var_wrt_prom'] = (tdf['start_variant'] >= tdf['startA']).apply(lambda x: convert[str(x)])\n",
    "    \n",
    "    # the anchor nearest the promoter will be called the proximal anchor, the other distal\n",
    "    convert = {'True': 'proximal', 'False': 'distal'}\n",
    "    tdf['nearest_anchor_type_var'] = (tdf['nearest_anchor_prom'] == tdf['nearest_anchor_var']).apply(lambda x: convert[str(x)])\n",
    "    \n",
    "    # annotate whether variant is inside or outside the loop\n",
    "    # downstream ones can be measured from anchor B\n",
    "    convert = {'True': 'inside', 'False': 'outside'}\n",
    "    tdf['var_inside_loop'] = ((tdf['dist_var_anchor_B'] <= 0) & (tdf.dist_var_anchor_A >=0)).apply(lambda x: convert[str(x)])\n",
    "    tdf['prom_inside_loop'] = ((tdf['dist_prom_anchor_A'] >= 0) & (tdf.dist_prom_anchor_B <=0)).apply(lambda x: convert[str(x)])\n",
    "\n",
    "    # handle the cases where A is distal\n",
    "    inds = tdf[tdf.distal_anchor == 'A'].index.tolist()\n",
    "    tdf.loc[inds, 'var_inside_loop'] = ((tdf['dist_var_anchor_A'] >= 0) & (tdf.dist_var_anchor_B <=0)).apply(lambda x: convert[str(x)])\n",
    "    tdf.loc[inds, 'prom_inside_loop'] = ((tdf['dist_prom_anchor_B'] <= 0) & (tdf.dist_prom_anchor_A >=0)).apply(lambda x: convert[str(x)])\n",
    "    \n",
    "    \n",
    "    # distances to prox/distal_anchors- pull out the distances to anchor that is proximal- (on promoter side) \n",
    "    # or distal (on the variant side)- no adjustment of sign (- is upstream + is downstream of whatever anchor)\n",
    "   \n",
    "    tdf['dist_var_distal_anchor'] = tdf.dist_var_anchor_B\n",
    "    tdf['dist_var_proximal_anchor'] = tdf.dist_var_anchor_A\n",
    "    tdf['dist_prom_proximal_anchor'] = tdf.dist_prom_anchor_A\n",
    "    tdf['dist_prom_distal_anchor'] = tdf.dist_prom_anchor_B\n",
    "\n",
    "    inds = tdf[tdf.distal_anchor == 'A'].index.tolist()\n",
    "    tdf.loc[inds,'dist_var_distal_anchor'] = tdf.loc[inds, 'dist_var_anchor_A']\n",
    "    tdf.loc[inds, 'dist_var_proximal_anchor'] = tdf.loc[inds, 'dist_var_anchor_B']\n",
    "    tdf.loc[inds,'dist_prom_distal_anchor'] = tdf.loc[inds, 'dist_prom_anchor_A']\n",
    "    tdf.loc[inds, 'dist_prom_proximal_anchor'] = tdf.loc[inds, 'dist_prom_anchor_B']\n",
    "\n",
    "\n",
    "    tdf['var_prom_location'] = ((tdf['var_wrt_prom'] + '_' + tdf['var_inside_loop'] + '_' + \n",
    "                                 tdf['prom_inside_loop'] + '_' + tdf.nearest_anchor_type_var))\n",
    "    \n",
    "    \n",
    "    # add on distances where inside loop from proximal to promoter distance is positive,\n",
    "    # and inside loop from var to distal loop anchor is negative-\n",
    "    # this is normalizing for changes in sign based on var-prom orientation\n",
    "    tdf['dist_var_distal_norm'] = tdf.dist_var_distal_anchor\n",
    "    tdf['dist_var_proximal_norm'] = tdf.dist_var_proximal_anchor\n",
    "    \n",
    "    inds = tdf[tdf.var_inside_loop == 'inside'].index.tolist()\n",
    "    tdf.loc[inds, 'dist_var_distal_norm'] = (tdf.loc[inds, 'dist_var_distal_norm'].abs() * -1)\n",
    "    tdf.loc[inds, 'dist_var_proximal_norm'] = (tdf.loc[inds, 'dist_var_proximal_norm'].abs())\n",
    "    \n",
    "    inds = tdf[tdf.var_inside_loop == 'outside'].index.tolist()\n",
    "    tdf.loc[inds, 'dist_var_distal_norm'] = (tdf.loc[inds, 'dist_var_distal_norm'].abs())\n",
    "    tdf.loc[inds, 'dist_var_proximal_norm'] = (tdf.loc[inds, 'dist_var_proximal_norm'].abs() * -1)\n",
    "\n",
    "    tdf['dist_prom_proximal_norm'] = tdf.dist_prom_proximal_anchor\n",
    "\n",
    "    inds = tdf[tdf.prom_inside_loop == 'inside'].index.tolist()\n",
    "    tdf.loc[inds, 'dist_prom_proximal_norm'] = (tdf.loc[inds, 'dist_prom_proximal_norm'].abs())\n",
    "\n",
    "    inds = tdf[tdf.prom_inside_loop == 'outside'].index.tolist()\n",
    "    tdf.loc[inds, 'dist_prom_proximal_norm'] = (tdf.loc[inds, 'dist_prom_proximal_norm'].abs() * -1)\n",
    "    return tdf"
   ]
  },
  {
   "cell_type": "code",
   "execution_count": 26,
   "metadata": {
    "collapsed": true
   },
   "outputs": [],
   "source": [
    "def process_closest_info(tdf):\n",
    "    # variant distance\n",
    "    d = dist_lambda(tdf, 'start_variant', 'end_variant','start_anchorA', 'end_anchorA')\n",
    "    tdf['dist_var_anchor_A'] = d\n",
    "    d = dist_lambda(tdf, 'start_variant', 'end_variant','start_anchorB', 'end_anchorB')\n",
    "    tdf['dist_var_anchor_B'] = d\n",
    "    # promoter distance\n",
    "    d = dist_lambda(tdf, 'startA', 'endA','start_anchorA', 'end_anchorA')\n",
    "    tdf['dist_prom_anchor_A'] = d\n",
    "    d = dist_lambda(tdf, 'startA', 'endA', 'start_anchorB', 'end_anchorB')\n",
    "    tdf['dist_prom_anchor_B'] = d\n",
    "    tdf['dist_var_prom'] =  dist_lambda(tdf, 'start_variant', 'end_variant', 'startA', 'endA')\n",
    "    tdf = add_anchor_locations(tdf)\n",
    "\n",
    "    return tdf"
   ]
  },
  {
   "cell_type": "code",
   "execution_count": 27,
   "metadata": {
    "collapsed": true
   },
   "outputs": [],
   "source": [
    "prom_loop_vars = intersect.merge(var_egene[['feature_id','start_variant', 'end_variant', 'snp_id']], left_on='gene_id_mod', right_on='feature_id', how = 'inner')"
   ]
  },
  {
   "cell_type": "code",
   "execution_count": 121,
   "metadata": {
    "collapsed": false
   },
   "outputs": [
    {
     "data": {
      "text/plain": [
       "(27940796, 25)"
      ]
     },
     "execution_count": 121,
     "metadata": {},
     "output_type": "execute_result"
    }
   ],
   "source": [
    "prom_loop_vars.shape"
   ]
  },
  {
   "cell_type": "code",
   "execution_count": null,
   "metadata": {
    "collapsed": true
   },
   "outputs": [],
   "source": [
    "# this is really big, to save RAM I'll chunk process the file and save the outputs- delete the input file and reload from the outputs- processing them one at a time"
   ]
  },
  {
   "cell_type": "code",
   "execution_count": 16,
   "metadata": {
    "collapsed": true
   },
   "outputs": [],
   "source": [
    "# outdir = private_out + '/distance_anchors_maf5'\n",
    "# DJ.makedir(outdir)"
   ]
  },
  {
   "cell_type": "code",
   "execution_count": 28,
   "metadata": {
    "collapsed": true
   },
   "outputs": [],
   "source": [
    "outdir = private_out + '/distance_anchors_maf5_v2'\n",
    "DJ.makedir(outdir)"
   ]
  },
  {
   "cell_type": "code",
   "execution_count": 30,
   "metadata": {
    "collapsed": true
   },
   "outputs": [],
   "source": [
    "for x, df in prom_loop_vars.groupby('chromA'):\n",
    "    fn_out = outdir + '/closest_annot_{}.tsv'.format(x)\n",
    "    tdf = process_closest_info(df)\n",
    "    tdf = tdf.pipe(add_anchor_locations)\n",
    "    tdf.to_csv(fn_out, sep = '\\t')"
   ]
  },
  {
   "cell_type": "code",
   "execution_count": 124,
   "metadata": {
    "collapsed": true
   },
   "outputs": [],
   "source": [
    "del prom_loop_vars"
   ]
  },
  {
   "cell_type": "code",
   "execution_count": 125,
   "metadata": {
    "collapsed": false
   },
   "outputs": [
    {
     "data": {
      "text/plain": [
       "396"
      ]
     },
     "execution_count": 125,
     "metadata": {},
     "output_type": "execute_result"
    }
   ],
   "source": [
    "gc.collect()"
   ]
  },
  {
   "cell_type": "markdown",
   "metadata": {},
   "source": [
    "# Post Process the Loop Distance Information-\n",
    "Retrieve the info about the variants that are closest to loop anchors, inside or outside the loop, proximal or distal anchor.  This way we can test influence of several distances as predictors"
   ]
  },
  {
   "cell_type": "code",
   "execution_count": 31,
   "metadata": {
    "collapsed": true
   },
   "outputs": [],
   "source": [
    "def retrieve_loop_info_per_var_gene(tdf):\n",
    "    \n",
    "    tdf['dist_var_distal_abs'] = tdf['dist_var_distal_norm'].abs()\n",
    "    tdf['dist_var_proximal_abs'] = tdf['dist_var_proximal_norm'].abs()\n",
    "    tdf['loop_size_inner'] = tdf['start_anchorB'] - tdf.end_anchorA\n",
    "    cats = ['inside', 'outside']\n",
    "    coding ={0:'inside_distal', 1: 'inside_proximal', 2:'outside_distal', 3:'outside_proximal'}\n",
    "    coding_rev = dict(zip(coding.values(), coding.keys()))\n",
    "    data = []\n",
    "    for x, df in tdf.groupby(['gene_id_mod', 'snp_id']):\n",
    "\n",
    "        out = []\n",
    "        annot = []\n",
    "        lengths = []\n",
    "        for c in cats:\n",
    "            cdf = df[df['var_inside_loop'] == c]\n",
    "            s =  cdf.shape[0]\n",
    "            if s > 0:\n",
    "                if s > 1:\n",
    "                    t = cdf.sort_values(['dist_var_distal_abs']).iloc[0]\n",
    "                    min_var_to_distal, ls_min_distal, id_min_distal = (t['dist_var_distal_abs'], \n",
    "                                                                       t['loop_size_inner'], t['loop_id_unique'])\n",
    "\n",
    "                    t = cdf.sort_values(['dist_var_proximal_abs']).iloc[0]\n",
    "                    min_var_to_proximal, ls_min_prox, id_min_prox = (t['dist_var_proximal_abs'], \n",
    "                                                                     t['loop_size_inner'], t['loop_id_unique'])\n",
    "                    \n",
    "                else:\n",
    "                    t = cdf.iloc[0]\n",
    "                    min_var_to_distal, ls_min_distal, id_min_distal = (t['dist_var_distal_abs'],\n",
    "                                                                       t['loop_size_inner'], t['loop_id_unique'])\n",
    "                    min_var_to_proximal,  ls_min_prox, id_min_prox = (t['dist_var_proximal_abs'],\n",
    "                                                                      t['loop_size_inner'], t['loop_id_unique'])\n",
    "            else:\n",
    "                min_var_to_distal = np.NaN\n",
    "                min_var_to_proximal = np.NaN\n",
    "\n",
    "                ls_min_distal = False\n",
    "                ls_min_prox = False\n",
    "                id_min_prox = False\n",
    "                id_min_distal = False\n",
    "            lengths = lengths + [ls_min_distal, ls_min_prox]\n",
    "            annot = annot + [id_min_distal, id_min_prox]\n",
    "            out = out + [min_var_to_distal, min_var_to_proximal]\n",
    "\n",
    "        min_overall_dist = np.nanmin(out)\n",
    "        category_of_min = coding[out.index(min_overall_dist)]\n",
    "        loop_id_overall_min = annot[coding_rev[category_of_min]]\n",
    "        loop_size_overall_min = lengths[coding_rev[category_of_min]]\n",
    "        out = (out + annot + [lengths[0]] + \n",
    "               [min_overall_dist, category_of_min, x[0], x[1], loop_id_overall_min, loop_size_overall_min])\n",
    "        data.append(out)\n",
    "\n",
    "    df_out = pd.DataFrame(data, columns=['min_inside_distal', 'min_inside_proximal', 'min_outside_distal', 'min_outside_proximal', 'loop_id_inside_distal', 'loop_id_inside_proximal', 'loop_id_outside_distal', 'loop_id_outside_proximal', 'loop_size_inside_distal_min', 'min_overall_dist', 'category_min', 'gene_id_mod', 'snp_id', 'loop_id_overall_min', 'loop_size_overall_min'])\n",
    "    \n",
    "    return df_out"
   ]
  },
  {
   "cell_type": "code",
   "execution_count": 38,
   "metadata": {
    "collapsed": true
   },
   "outputs": [],
   "source": [
    "def post_process_distance_info(fns):\n",
    "    dfs = [pd.read_table(f) for f in fns_out]\n",
    "    distance_summary = pd.concat(dfs, ignore_index=True)\n",
    "    distance_summary['var_inside_and_outside'] = ((distance_summary.min_inside_distal.isnull() == False) & \n",
    "                                                  (distance_summary.min_outside_distal.isnull() == False))\n",
    "\n",
    "    distance_summary['var_inside_only'] = ((distance_summary.min_inside_distal.isnull() == False) &\n",
    "                                           (distance_summary.min_outside_distal.isnull() == True))\n",
    "\n",
    "    distance_summary['var_outside_only'] = ((distance_summary.min_inside_distal.isnull() == True) & \n",
    "                                            (distance_summary.min_outside_distal.isnull() == False))\n",
    "    \n",
    "    # modify bins of distance to loops\n",
    "    bins = [0,0.5, 5000, 10000, 20000, 50000, 100000, 200000, 300000,1000000000]\n",
    "    bin_names = ['0bp','1-5kb', '5kb-10kb', '10kb-20kb', '20kb-50kb', '50kb-100kb', '100kb-200kb', '200kb-300kb',\n",
    "                 '300kb+']\n",
    "    distance_summary['bin_dist_inside_distal'] = pd.cut(distance_summary.min_inside_distal, bins = bins, \n",
    "                                                        labels = bin_names, include_lowest=True)\n",
    "\n",
    "    # modify bins of distance to loops\n",
    "    bins = [0,0.5, 5000, 10000, 20000, 50000, 100000, 200000, 300000,1000000000]\n",
    "    bin_names = ['0bp','1-5kb', '5kb-10kb', '10kb-20kb', '20kb-50kb', '50kb-100kb', '100kb-200kb', '200kb-300kb',\n",
    "                 '300kb+']\n",
    "\n",
    "    distance_summary['bin_dist_outside_distal'] = pd.cut(distance_summary.min_outside_distal, \n",
    "                                                         bins = bins, labels = bin_names, include_lowest=True)\n",
    "\n",
    "    bins = [0,0.5, 5000, 10000, 20000, 50000, 100000, 200000, 300000,1000000000]\n",
    "    bin_names = ['0bp','1-5kb', '5kb-10kb', '10kb-20kb', '20kb-50kb', '50kb-100kb', '100kb-200kb', '200kb-300kb',\n",
    "                 '300kb+']\n",
    "    distance_summary['bin_dist_overall_loop'] = pd.cut(distance_summary.min_overall_dist, \n",
    "                                                       bins = bins, labels = bin_names,\n",
    "                                                      include_lowest = True)\n",
    "\n",
    "    distance_summary['min_overall_dist_norm'] = distance_summary.min_overall_dist\n",
    "    inds = distance_summary[distance_summary.category_min.apply(lambda x: x.split(\"_\")[0] == 'inside')].index.tolist()\n",
    "\n",
    "    # make the inner distal ones negative outside distal positive\n",
    "    distance_summary.loc[inds, 'min_overall_dist_norm'] = distance_summary.loc[inds, 'min_overall_dist_norm'] * -1\n",
    "    bins = [-1000000000, -300000, -200000, -100000, -50000, -20000, \n",
    "            -10000, -5000,-0.5, 0.5, 5000, 10000, 20000, 50000, 100000, 200000, 300000, 1000000000]\n",
    "\n",
    "    bin_names = ['-300kb+', '-200kb-300kb', '-100kb-200kb', '-50kb-100kb', '-20kb-50kb', \n",
    "                 '-10kb-20kb', '-10kb-5kb', '-5kb-1bp','0bp','1bp-5kb', '5kb-10kb', '10kb-20kb', \n",
    "                 '20kb-50kb', '50kb-100kb', '100kb-200kb', '200kb-300kb','300kb+']\n",
    "    \n",
    "    distance_summary['bin_dist_up_and_down'] = pd.cut(distance_summary.min_overall_dist_norm, \n",
    "                                                  bins = bins, labels = bin_names, include_lowest=True)\n",
    "    \n",
    "    distance_summary['closer_to_inside_proximal'] = (distance_summary.min_inside_proximal < \n",
    "                                                     distance_summary.min_inside_distal)\n",
    "    return distance_summary"
   ]
  },
  {
   "cell_type": "code",
   "execution_count": 48,
   "metadata": {
    "collapsed": true
   },
   "outputs": [],
   "source": [
    "tdf = pd.read_table('/frazer01/projects/hipsci/analysis/i2QTL-sv-analysis/private_output/distance_to_loop_anchors/distance_anchors_maf5/closest_annot_chr5.tsv')"
   ]
  },
  {
   "cell_type": "code",
   "execution_count": 44,
   "metadata": {
    "collapsed": false
   },
   "outputs": [
    {
     "data": {
      "text/plain": [
       "outside_proximal    407176\n",
       "outside_distal      315793\n",
       "inside_distal        41957\n",
       "inside_proximal      40088\n",
       "dtype: int64"
      ]
     },
     "execution_count": 44,
     "metadata": {},
     "output_type": "execute_result"
    }
   ],
   "source": [
    "(tdf.var_inside_loop + '_' + tdf.nearest_anchor_type_var).value_counts()"
   ]
  },
  {
   "cell_type": "code",
   "execution_count": 49,
   "metadata": {
    "collapsed": true
   },
   "outputs": [],
   "source": [
    "tdf = tdf.pipe(add_anchor_locations)"
   ]
  },
  {
   "cell_type": "code",
   "execution_count": 50,
   "metadata": {
    "collapsed": false
   },
   "outputs": [
    {
     "data": {
      "text/plain": [
       "outside_proximal    409769\n",
       "outside_distal      317235\n",
       "inside_distal        42165\n",
       "inside_proximal      40325\n",
       "dtype: int64"
      ]
     },
     "execution_count": 50,
     "metadata": {},
     "output_type": "execute_result"
    }
   ],
   "source": [
    "(tdf.var_inside_loop + '_' + tdf.nearest_anchor_type_var).value_counts()"
   ]
  },
  {
   "cell_type": "code",
   "execution_count": 342,
   "metadata": {
    "collapsed": false
   },
   "outputs": [
    {
     "data": {
      "text/plain": [
       "outside_proximal    850758\n",
       "outside_distal      710462\n",
       "inside_distal        87884\n",
       "inside_proximal      85880\n",
       "dtype: int64"
      ]
     },
     "execution_count": 342,
     "metadata": {},
     "output_type": "execute_result"
    }
   ],
   "source": [
    "(tdf.var_inside_loop + '_' + tdf.nearest_anchor_type_var).value_counts()"
   ]
  },
  {
   "cell_type": "code",
   "execution_count": 32,
   "metadata": {
    "collapsed": true
   },
   "outputs": [],
   "source": [
    "fns_out = glob.glob(outdir + '/*')"
   ]
  },
  {
   "cell_type": "code",
   "execution_count": 33,
   "metadata": {
    "collapsed": false
   },
   "outputs": [
    {
     "data": {
      "text/plain": [
       "['/frazer01/projects/hipsci/analysis/i2QTL-sv-analysis/private_output/distance_to_loop_anchors/distance_anchors_maf5_v2/closest_annot_chr21.tsv',\n",
       " '/frazer01/projects/hipsci/analysis/i2QTL-sv-analysis/private_output/distance_to_loop_anchors/distance_anchors_maf5_v2/closest_annot_chr13.tsv',\n",
       " '/frazer01/projects/hipsci/analysis/i2QTL-sv-analysis/private_output/distance_to_loop_anchors/distance_anchors_maf5_v2/closest_annot_chr18.tsv',\n",
       " '/frazer01/projects/hipsci/analysis/i2QTL-sv-analysis/private_output/distance_to_loop_anchors/distance_anchors_maf5_v2/closest_annot_chr9.tsv',\n",
       " '/frazer01/projects/hipsci/analysis/i2QTL-sv-analysis/private_output/distance_to_loop_anchors/distance_anchors_maf5_v2/closest_annot_chr7.tsv',\n",
       " '/frazer01/projects/hipsci/analysis/i2QTL-sv-analysis/private_output/distance_to_loop_anchors/distance_anchors_maf5_v2/closest_annot_chr15.tsv',\n",
       " '/frazer01/projects/hipsci/analysis/i2QTL-sv-analysis/private_output/distance_to_loop_anchors/distance_anchors_maf5_v2/closest_annot_chr5.tsv',\n",
       " '/frazer01/projects/hipsci/analysis/i2QTL-sv-analysis/private_output/distance_to_loop_anchors/distance_anchors_maf5_v2/closest_annot_chr10.tsv',\n",
       " '/frazer01/projects/hipsci/analysis/i2QTL-sv-analysis/private_output/distance_to_loop_anchors/distance_anchors_maf5_v2/closest_annot_chr11.tsv',\n",
       " '/frazer01/projects/hipsci/analysis/i2QTL-sv-analysis/private_output/distance_to_loop_anchors/distance_anchors_maf5_v2/closest_annot_chr16.tsv',\n",
       " '/frazer01/projects/hipsci/analysis/i2QTL-sv-analysis/private_output/distance_to_loop_anchors/distance_anchors_maf5_v2/closest_annot_chr17.tsv',\n",
       " '/frazer01/projects/hipsci/analysis/i2QTL-sv-analysis/private_output/distance_to_loop_anchors/distance_anchors_maf5_v2/closest_annot_chr2.tsv',\n",
       " '/frazer01/projects/hipsci/analysis/i2QTL-sv-analysis/private_output/distance_to_loop_anchors/distance_anchors_maf5_v2/closest_annot_chr20.tsv',\n",
       " '/frazer01/projects/hipsci/analysis/i2QTL-sv-analysis/private_output/distance_to_loop_anchors/distance_anchors_maf5_v2/closest_annot_chr8.tsv',\n",
       " '/frazer01/projects/hipsci/analysis/i2QTL-sv-analysis/private_output/distance_to_loop_anchors/distance_anchors_maf5_v2/closest_annot_chr19.tsv',\n",
       " '/frazer01/projects/hipsci/analysis/i2QTL-sv-analysis/private_output/distance_to_loop_anchors/distance_anchors_maf5_v2/closest_annot_chr3.tsv',\n",
       " '/frazer01/projects/hipsci/analysis/i2QTL-sv-analysis/private_output/distance_to_loop_anchors/distance_anchors_maf5_v2/closest_annot_chr12.tsv',\n",
       " '/frazer01/projects/hipsci/analysis/i2QTL-sv-analysis/private_output/distance_to_loop_anchors/distance_anchors_maf5_v2/closest_annot_chr4.tsv',\n",
       " '/frazer01/projects/hipsci/analysis/i2QTL-sv-analysis/private_output/distance_to_loop_anchors/distance_anchors_maf5_v2/closest_annot_chr6.tsv',\n",
       " '/frazer01/projects/hipsci/analysis/i2QTL-sv-analysis/private_output/distance_to_loop_anchors/distance_anchors_maf5_v2/closest_annot_chr14.tsv',\n",
       " '/frazer01/projects/hipsci/analysis/i2QTL-sv-analysis/private_output/distance_to_loop_anchors/distance_anchors_maf5_v2/closest_annot_chr22.tsv',\n",
       " '/frazer01/projects/hipsci/analysis/i2QTL-sv-analysis/private_output/distance_to_loop_anchors/distance_anchors_maf5_v2/closest_annot_chr1.tsv']"
      ]
     },
     "execution_count": 33,
     "metadata": {},
     "output_type": "execute_result"
    }
   ],
   "source": [
    "fns_out"
   ]
  },
  {
   "cell_type": "code",
   "execution_count": 34,
   "metadata": {
    "collapsed": false
   },
   "outputs": [
    {
     "name": "stdout",
     "output_type": "stream",
     "text": [
      "chr21 2019-03-21 14:59:35.420696\n",
      "chr13 2019-03-21 14:59:47.863982\n",
      "chr18 2019-03-21 15:00:09.898572\n",
      "chr9 2019-03-21 15:00:28.301052\n",
      "chr7 2019-03-21 15:01:31.418458\n",
      "chr15 2019-03-21 15:03:05.177692\n",
      "chr5 2019-03-21 15:03:54.805145\n",
      "chr10 2019-03-21 15:05:04.483335\n",
      "chr11 2019-03-21 15:06:01.107195\n",
      "chr16 2019-03-21 15:07:49.920386\n",
      "chr17 2019-03-21 15:09:11.993206\n",
      "chr2 2019-03-21 15:11:40.814362\n",
      "chr20 2019-03-21 15:13:15.004091\n",
      "chr8 2019-03-21 15:13:58.056727\n",
      "chr19 2019-03-21 15:14:45.807808\n",
      "chr3 2019-03-21 15:18:11.785747\n",
      "chr12 2019-03-21 15:19:45.663409\n",
      "chr4 2019-03-21 15:21:32.976882\n",
      "chr6 2019-03-21 15:22:25.037134\n",
      "chr14 2019-03-21 15:24:48.148446\n",
      "chr22 2019-03-21 15:25:54.284917\n",
      "chr1 2019-03-21 15:26:45.798731\n"
     ]
    }
   ],
   "source": [
    "fns_out = glob.glob(outdir + '/*')\n",
    "dfs = []\n",
    "for f in fns_out:\n",
    "    chrom = f.split('/')[-1].split('_')[-1].replace('.tsv', '')\n",
    "    print chrom, datetime.datetime.now()\n",
    "    fn_out = outdir + '/distances_summary_{}.tsv'.format(chrom)\n",
    "    df_out = pd.read_table(f).pipe(retrieve_loop_info_per_var_gene)\n",
    "    df_out.to_csv(fn_out, sep = '\\t')"
   ]
  },
  {
   "cell_type": "code",
   "execution_count": 40,
   "metadata": {
    "collapsed": true
   },
   "outputs": [],
   "source": [
    "fns_out = glob.glob(outdir + '/distances*')\n",
    "distance_summary = post_process_distance_info(fns_out)"
   ]
  },
  {
   "cell_type": "code",
   "execution_count": 52,
   "metadata": {
    "collapsed": false
   },
   "outputs": [
    {
     "name": "stdout",
     "output_type": "stream",
     "text": [
      "pc_distance_summary_sv_maf5_v2 = pd.read_pickle('/frazer01/projects/hipsci/analysis/i2QTL-sv-analysis/private_output/distance_to_loop_anchors/pc_distance_summary_sv_maf5_v2.pkl')\n",
      "pc_distance_summary_sv_maf5_v2 = pd.read_csv('/frazer01/projects/hipsci/analysis/i2QTL-sv-analysis/private_output/distance_to_loop_anchors/pc_distance_summary_sv_maf5_v2.tsv', sep='\\t')\n",
      "# all vars recorded: /frazer01/projects/hipsci/analysis/i2QTL-sv-analysis/private_output/distance_to_loop_anchors/load_saved_nb_variables.py\n",
      "# pickled vars recorded:/frazer01/projects/hipsci/analysis/i2QTL-sv-analysis/private_output/distance_to_loop_anchors/load_pickled_nb_variables.py\n"
     ]
    }
   ],
   "source": [
    "CM.save_dataframe('pc_distance_summary_sv_maf5_v2', distance_summary, private_out)"
   ]
  }
 ],
 "metadata": {
  "kernelspec": {
   "display_name": "Python 2",
   "language": "python",
   "name": "python2"
  },
  "language_info": {
   "codemirror_mode": {
    "name": "ipython",
    "version": 2
   },
   "file_extension": ".py",
   "mimetype": "text/x-python",
   "name": "python",
   "nbconvert_exporter": "python",
   "pygments_lexer": "ipython2",
   "version": "2.7.3"
  }
 },
 "nbformat": 4,
 "nbformat_minor": 1
}
