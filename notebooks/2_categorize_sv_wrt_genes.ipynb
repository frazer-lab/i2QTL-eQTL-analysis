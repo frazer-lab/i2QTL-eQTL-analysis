{
 "cells": [
  {
   "cell_type": "code",
   "execution_count": 1,
   "metadata": {
    "collapsed": true
   },
   "outputs": [],
   "source": [
    "%matplotlib inline\n",
    "from __future__ import division\n",
    "import numpy as np\n",
    "import os\n",
    "import sys\n",
    "import datetime\n",
    "from subprocess import call\n",
    "import subprocess\n",
    "import glob\n",
    "import warnings\n",
    "warnings.simplefilter(action='ignore', category=FutureWarning)\n",
    "import djPyi2 as DJ\n",
    "from djPyi2 import Common as CM\n",
    "from djPyi2 import mpltools\n",
    "\n",
    "import pandas as pd\n",
    "pd.options.mode.chained_assignment = None\n",
    "import csv\n",
    "import seaborn as sns\n",
    "import matplotlib as mpl\n",
    "import matplotlib.pyplot as plt\n",
    "import copy \n",
    "import pybedtools as pbt\n",
    "import ciepy\n",
    "import cardipspy as cpy\n",
    "import itertools\n",
    "import tempfile\n",
    "import six\n",
    "import networkx as nx\n",
    "import scipy.stats as stats\n",
    "pd.set_option('display.max_columns', 500)\n",
    "pd.set_option('display.max_rows', 100)\n",
    "from mpl_toolkits.axes_grid1 import  make_axes_locatable\n",
    "import datetime\n",
    "\n",
    "from scipy.stats import mode\n",
    "dy_name = 'categorize_sv_wrt_genes'\n",
    "\n",
    "private_out = os.path.join(DJ.root, 'private_output', dy_name)\n",
    "if not os.path.exists(private_out):\n",
    "    cpy.makedir(private_out)\n",
    "\n",
    "import gc"
   ]
  },
  {
   "cell_type": "code",
   "execution_count": 2,
   "metadata": {
    "collapsed": true
   },
   "outputs": [],
   "source": [
    "def categorize_intersect(intersect_types):\n",
    "    \"\"\" categorize the variant into one genic type, based on types present for a variant\"\"\"\n",
    "    \n",
    "    if len(intersect_types) == 1:\n",
    "        out = intersect_types.pop()\n",
    "        if out == 'intersects_gene':\n",
    "            return 'intersects_intron'\n",
    "        else:\n",
    "            return out\n",
    "    hierarchy = ['contains_gene', 'contains_exon', 'intersects_exon', 'intersects_promoter']    \n",
    "    for i in hierarchy:\n",
    "        if i in intersect_types:\n",
    "            return i\n",
    "    else:\n",
    "        return 'missed case'\n",
    "def intersect_and_categorize_loc(bt1, bt2, tx_gene_dict):\n",
    "    \"\"\" process the intersect with genes/exons/promoters from gencode\n",
    "    output mutually exclusive categories: contains gene > contains exon > intersects exon > \n",
    "    intersects promoter > intergenic  \n",
    "    \n",
    "    count these for all categories specified in fifth column of bedfile \"\"\"\n",
    "    \n",
    "    intersect = bt1.intersect(bt2, wo=True)\n",
    "    # read the intersect line by line and count up the intersect_scenarios\n",
    "    out_intersect_data = []\n",
    "    categorized_all = []\n",
    "    with open(intersect.fn, 'r') as F:\n",
    "        count = 0\n",
    "        var_count = 1\n",
    "        ID_current = False\n",
    "        intersect_types = []\n",
    "        for line in F:\n",
    "            contains = False\n",
    "            line = line.rstrip() \n",
    "            lin_spl = line.split()\n",
    "            \n",
    "            # start end of A\n",
    "        \n",
    "            ID_A = lin_spl[3]\n",
    "            ID_B = lin_spl[8]\n",
    "      \n",
    "            if count == 0:\n",
    "                ID_current = copy.deepcopy(ID_A)\n",
    "                intersect_types = []\n",
    "                \n",
    "            if ID_A != ID_current:\n",
    "                if len(intersect_types) > 0:\n",
    "                    var_count +=1\n",
    "                    category = categorize_intersect(set(intersect_types))\n",
    "                    out_intersect_data.append([ID_A, category, category_A])\n",
    "    \n",
    "                else:\n",
    "                    print intersect_types, ID_A, category_A\n",
    "                    break \n",
    "                ID_current = copy.deepcopy(ID_A)\n",
    "                intersect_types = []\n",
    "            \n",
    "            category_A = lin_spl[4]    \n",
    "            start, end = int(lin_spl[1]), int(lin_spl[2])\n",
    "            length_A = end - start\n",
    "            \n",
    "            start, end = int(lin_spl[6]), int(lin_spl[7])\n",
    "            length_B = end - start\n",
    "            \n",
    "            \n",
    "            \n",
    "            category_B = lin_spl[11]\n",
    "            overlap = int(lin_spl[-1])\n",
    "            \n",
    "            if overlap >= length_B:\n",
    "                out_type = \"{}_{}\".format('contains', category_B)\n",
    "                intersect_types.append(out_type)\n",
    "            else:\n",
    "                out_type = \"{}_{}\".format('intersects', category_B)\n",
    "                intersect_types.append(out_type)  \n",
    "                \n",
    "            gene_mod = ID_B.split('_')[0]\n",
    "            categorized_all.append([count, ID_A, ID_B, gene_mod, out_type, overlap])\n",
    "            count +=1\n",
    "            \n",
    "    df_all = pd.DataFrame(categorized_all, columns = ['index', 'ID', 'feature', \n",
    "                                                      'feature_mod', 'genic_category_indiv', 'overlap'])\n",
    "    \n",
    "    \n",
    "    df_all['gene_id'] = df_all.feature_mod.apply(lambda x: tx_gene_dict.get(x, x))\n",
    "    return intersect, df_all"
   ]
  },
  {
   "cell_type": "code",
   "execution_count": 3,
   "metadata": {
    "collapsed": true
   },
   "outputs": [],
   "source": [
    "def prep_tx_info(df):\n",
    "    df = df.copy()\n",
    "    df['gene_id_mod'] = df.gene_id.apply(lambda x: x.split('.')[0])\n",
    "    df = df.set_index('tx_id', drop = False)\n",
    "    return df\n",
    "\n",
    "def post_process_intersect(info_all_feat, info_all_vars):\n",
    "    info_all_feat['gene_id_mod'] = info_all_feat.gene_id.apply(lambda x: x.split('.')[0])\n",
    "    info_cat_per_gene = info_all_feat.groupby(['ID', 'gene_id_mod']).genic_category_indiv.apply(lambda x: categorize_intersect(list(set(x))))\n",
    "    info_cat_per_gene = info_cat_per_gene.reset_index()\n",
    "    \n",
    "    missing = set(info_all_vars.ID.tolist()).difference(info_all_feat.ID.tolist())\n",
    "    df = pd.DataFrame(index = missing, columns=['genic_category_indiv'])\n",
    "    df.loc[missing] = 'intergenic'\n",
    "    df['ID'] = df.index\n",
    "    df = df.reset_index(drop=True)\n",
    "    info_cat_per_gene_all = pd.concat([info_cat_per_gene, df])\n",
    "    info_cat_per_gene_all['genic_category_variant']= info_cat_per_gene_all['genic_category_indiv']\n",
    "    info_cat_per_gene_all['unique_id'] = info_cat_per_gene_all.gene_id_mod + '_' + info_cat_per_gene_all.ID\n",
    "    return info_cat_per_gene_all\n",
    "\n",
    "def genes_impacted_at_top_level(info_cat_per_gene_all, out_strings = False):\n",
    "    intersect_types = ['intersects_intron', 'intersects_promoter','contains_gene',\n",
    "                       'intersects_exon', 'contains_exon']\n",
    "            \n",
    "    data = []\n",
    "    for i, df in info_cat_per_gene_all.groupby('ID'):\n",
    "        genic_categories = df.genic_category_variant.tolist()\n",
    "        super_category = categorize_intersect(list(set(genic_categories)))\n",
    "        if super_category == 'missed case':\n",
    "            print df, genic_categories\n",
    "            break\n",
    "        \n",
    "        if super_category == 'intergenic':\n",
    "            g = False\n",
    "        else:\n",
    "            g = df[df.genic_category_variant == super_category].gene_id_mod.tolist()\n",
    "            if out_strings:\n",
    "                g = \",\".join(sorted(g))\n",
    "        \n",
    "        \n",
    "        out_data = [i, super_category, g]\n",
    "        d = {}\n",
    "        for ind, x in df.iterrows():\n",
    "            cat = x['genic_category_variant']\n",
    "            gene = x['gene_id_mod']\n",
    "            d[cat] = d.get(cat, []) + [gene]\n",
    "        \n",
    "        genes_affected = set()\n",
    "        for t in intersect_types:\n",
    "            a = d.get(t, False)\n",
    "            if a:\n",
    "                genes_affected.update(set(a))\n",
    "                if out_strings:\n",
    "                    a = \",\".join(sorted(a))\n",
    "                    out_data.append(a)\n",
    "                else:\n",
    "                    out_data.append(set(a))\n",
    "            else:\n",
    "                out_data.append(False)\n",
    "                \n",
    "        num_affected = len(genes_affected)\n",
    "        \n",
    "        if out_strings:\n",
    "            genes_affected = \",\".join(sorted(list(genes_affected)))\n",
    "            \n",
    "        out_data += [genes_affected, num_affected]\n",
    "        data.append(out_data)\n",
    "    \n",
    "    cols = (['ID', 'super_category', 'genes_supercategory'] + intersect_types + \n",
    "            ['genes_affected', 'num_genes_affected'])\n",
    "    df = pd.DataFrame(data, columns= cols )\n",
    "    return df"
   ]
  },
  {
   "cell_type": "code",
   "execution_count": 4,
   "metadata": {
    "collapsed": true
   },
   "outputs": [],
   "source": [
    "def prep_info_all(df): \n",
    "    df = df.copy()\n",
    "    df['chrom'] = df.CHROM.apply(lambda x: \"chr{}\".format(str(x)))\n",
    "    return df"
   ]
  },
  {
   "cell_type": "code",
   "execution_count": 11,
   "metadata": {
    "collapsed": true
   },
   "outputs": [],
   "source": [
    "dy_name = 'qtl_results_01_17'\n",
    "outdir = os.path.join(private_out, dy_name)\n",
    "if not os.path.exists(outdir):\n",
    "    DJ.makedir(outdir)"
   ]
  },
  {
   "cell_type": "code",
   "execution_count": 10,
   "metadata": {
    "collapsed": true
   },
   "outputs": [],
   "source": [
    "dy_bed_files = private_out + '/bed_files'\n",
    "if not os.path.exists(dy_bed_files):\n",
    "    DJ.makedir(dy_bed_files)"
   ]
  },
  {
   "cell_type": "code",
   "execution_count": 20,
   "metadata": {
    "collapsed": true
   },
   "outputs": [],
   "source": [
    "info_all = pd.read_pickle('/frazer01/projects/hipsci/analysis/i2QTL-sv-analysis/private_output/combined_full_vcf_sv_strs/info_all_pass_nref1_annot_final_414.pkl').pipe(prep_info_all)"
   ]
  },
  {
   "cell_type": "code",
   "execution_count": 22,
   "metadata": {
    "collapsed": true
   },
   "outputs": [],
   "source": [
    "fn_vars_bt = dy_bed_files + '/all_vars_nnre1.bed'\n",
    "\n",
    "cols = ['chrom', 'POS', 'END', 'ID', 'SVTYPE']\n",
    "vars_bt = pbt.BedTool.from_dataframe(info_all[cols])\n",
    "vars_bt = vars_bt.sort()\n",
    "vars_bt = vars_bt.moveto(fn_vars_bt)"
   ]
  },
  {
   "cell_type": "code",
   "execution_count": 23,
   "metadata": {
    "collapsed": true
   },
   "outputs": [],
   "source": [
    "fn_vars_bt = '/frazer01/projects/hipsci/analysis/i2QTL-sv-analysis/private_output/eqtl_processing/qtl_results_12_5/bed_files/all_vars_nnre1.bed'"
   ]
  },
  {
   "cell_type": "code",
   "execution_count": 25,
   "metadata": {
    "collapsed": true
   },
   "outputs": [],
   "source": [
    "tx_info =  pd.read_table('/publicdata/gencode_v19_20151104/transcript_to_gene.tsv', names=['tx_id', 'gene_id']).pipe(prep_tx_info)\n",
    "tx_gene_dict = tx_info.gene_id_mod.to_dict()\n",
    "\n",
    "fn = '/frazer01/projects/hipsci/analysis/i2QTL-sv-analysis/private_output/enrichment_shuffle_svs/bed_files_features/genic_features_all.bed'\n",
    "features_bt = pbt.BedTool(fn)"
   ]
  },
  {
   "cell_type": "code",
   "execution_count": 26,
   "metadata": {
    "collapsed": true
   },
   "outputs": [],
   "source": [
    "intersect_feat, info_all_feat = intersect_and_categorize_loc(vars_bt, features_bt, tx_gene_dict)\n",
    "info_cat_per_gene_all =  post_process_intersect(info_all_feat, info_all)"
   ]
  },
  {
   "cell_type": "code",
   "execution_count": 31,
   "metadata": {
    "collapsed": true
   },
   "outputs": [],
   "source": [
    "cat_sv_str_overall_sets =  genes_impacted_at_top_level(info_cat_per_gene_all)\n",
    "cat_sv_str_overall_strings = genes_impacted_at_top_level(info_cat_per_gene_all, out_strings=True)"
   ]
  },
  {
   "cell_type": "code",
   "execution_count": 36,
   "metadata": {
    "collapsed": false
   },
   "outputs": [
    {
     "name": "stdout",
     "output_type": "stream",
     "text": [
      "info_var_gene_intersects_i2QTL_411_nnref1 = pd.read_pickle('/frazer01/projects/hipsci/analysis/i2QTL-sv-analysis/private_output/categorize_sv_wrt_genes/qtl_results_01_17/info_var_gene_intersects_i2QTL_411_nnref1.pkl')\n",
      "info_var_gene_intersects_i2QTL_411_nnref1 = pd.read_csv('/frazer01/projects/hipsci/analysis/i2QTL-sv-analysis/private_output/categorize_sv_wrt_genes/qtl_results_01_17/info_var_gene_intersects_i2QTL_411_nnref1.tsv', sep='\\t')\n",
      "# all vars recorded: /frazer01/projects/hipsci/analysis/i2QTL-sv-analysis/private_output/categorize_sv_wrt_genes/qtl_results_01_17/load_saved_nb_variables.py\n",
      "# pickled vars recorded:/frazer01/projects/hipsci/analysis/i2QTL-sv-analysis/private_output/categorize_sv_wrt_genes/qtl_results_01_17/load_pickled_nb_variables.py\n"
     ]
    }
   ],
   "source": [
    "CM.save_dataframe('info_var_gene_intersects_i2QTL_411_nnref1', info_cat_per_gene_all, outdir)"
   ]
  },
  {
   "cell_type": "code",
   "execution_count": 34,
   "metadata": {
    "collapsed": false
   },
   "outputs": [
    {
     "name": "stdout",
     "output_type": "stream",
     "text": [
      "info_var_gene_wide_string_i2QTL_411_nnref1 = pd.read_pickle('/frazer01/projects/hipsci/analysis/i2QTL-sv-analysis/private_output/categorize_sv_wrt_genes/qtl_results_01_17/info_var_gene_wide_string_i2QTL_411_nnref1.pkl')\n",
      "info_var_gene_wide_string_i2QTL_411_nnref1 = pd.read_csv('/frazer01/projects/hipsci/analysis/i2QTL-sv-analysis/private_output/categorize_sv_wrt_genes/qtl_results_01_17/info_var_gene_wide_string_i2QTL_411_nnref1.tsv', sep='\\t')\n",
      "# all vars recorded: /frazer01/projects/hipsci/analysis/i2QTL-sv-analysis/private_output/categorize_sv_wrt_genes/qtl_results_01_17/load_saved_nb_variables.py\n",
      "# pickled vars recorded:/frazer01/projects/hipsci/analysis/i2QTL-sv-analysis/private_output/categorize_sv_wrt_genes/qtl_results_01_17/load_pickled_nb_variables.py\n"
     ]
    }
   ],
   "source": [
    "CM.save_dataframe('info_var_gene_wide_string_i2QTL_411_nnref1', cat_sv_str_overall_strings, outdir)"
   ]
  },
  {
   "cell_type": "code",
   "execution_count": 35,
   "metadata": {
    "collapsed": false
   },
   "outputs": [
    {
     "name": "stdout",
     "output_type": "stream",
     "text": [
      "info_var_gene_wide_sets_i2QTL_411_nnref1 = pd.read_pickle('/frazer01/projects/hipsci/analysis/i2QTL-sv-analysis/private_output/categorize_sv_wrt_genes/qtl_results_01_17/info_var_gene_wide_sets_i2QTL_411_nnref1.pkl')\n",
      "info_var_gene_wide_sets_i2QTL_411_nnref1 = pd.read_csv('/frazer01/projects/hipsci/analysis/i2QTL-sv-analysis/private_output/categorize_sv_wrt_genes/qtl_results_01_17/info_var_gene_wide_sets_i2QTL_411_nnref1.tsv', sep='\\t')\n",
      "# all vars recorded: /frazer01/projects/hipsci/analysis/i2QTL-sv-analysis/private_output/categorize_sv_wrt_genes/qtl_results_01_17/load_saved_nb_variables.py\n",
      "# pickled vars recorded:/frazer01/projects/hipsci/analysis/i2QTL-sv-analysis/private_output/categorize_sv_wrt_genes/qtl_results_01_17/load_pickled_nb_variables.py\n"
     ]
    }
   ],
   "source": [
    "CM.save_dataframe('info_var_gene_wide_sets_i2QTL_411_nnref1', cat_sv_str_overall_sets, outdir)"
   ]
  },
  {
   "cell_type": "markdown",
   "metadata": {},
   "source": [
    "# Full annotations for 472 Consented "
   ]
  },
  {
   "cell_type": "code",
   "execution_count": 32,
   "metadata": {
    "collapsed": true
   },
   "outputs": [],
   "source": [
    "dy_name = 'consented_472'\n",
    "outdir = os.path.join(private_out, dy_name)\n",
    "if not os.path.exists(outdir):\n",
    "    DJ.makedir(outdir)"
   ]
  },
  {
   "cell_type": "code",
   "execution_count": 3,
   "metadata": {
    "collapsed": true
   },
   "outputs": [],
   "source": [
    "dy_bed_files = private_out + '/bed_files'\n",
    "if not os.path.exists(dy_bed_files):\n",
    "    DJ.makedir(dy_bed_files)"
   ]
  },
  {
   "cell_type": "code",
   "execution_count": 34,
   "metadata": {
    "collapsed": true
   },
   "outputs": [],
   "source": [
    "info_pass_consented_472 = pd.read_pickle('/frazer01/projects/hipsci/analysis/i2QTL-sv-analysis/private_output/dosage_vcf_and_variant_info/info_pass_consented_472.pkl').pipe(prep_info_all)"
   ]
  },
  {
   "cell_type": "code",
   "execution_count": 35,
   "metadata": {
    "collapsed": true
   },
   "outputs": [],
   "source": [
    "fn_vars_bt = dy_bed_files + '/all_vars_consented_nnref1.bed'\n",
    "cols = ['chrom', 'POS', 'END', 'ID', 'SVTYPE_all']\n",
    "vars_bt = pbt.BedTool.from_dataframe(info_pass_consented_472[cols])\n",
    "vars_bt = vars_bt.sort()\n",
    "vars_bt = vars_bt.moveto(fn_vars_bt)"
   ]
  },
  {
   "cell_type": "code",
   "execution_count": 36,
   "metadata": {
    "collapsed": true
   },
   "outputs": [],
   "source": [
    "tx_info =  pd.read_table('/publicdata/gencode_v19_20151104/transcript_to_gene.tsv', names=['tx_id', 'gene_id']).pipe(prep_tx_info)\n",
    "tx_gene_dict = tx_info.gene_id_mod.to_dict()\n",
    "\n",
    "fn = '/frazer01/projects/hipsci/analysis/i2QTL-sv-analysis/private_output/enrichment_shuffle_svs/bed_files_features/genic_features_all.bed'\n",
    "features_bt = pbt.BedTool(fn)"
   ]
  },
  {
   "cell_type": "code",
   "execution_count": 37,
   "metadata": {
    "collapsed": true
   },
   "outputs": [],
   "source": [
    "intersect_feat, info_all_feat = intersect_and_categorize_loc(vars_bt, features_bt, tx_gene_dict)\n",
    "info_cat_per_gene_all =  post_process_intersect(info_all_feat, info_pass_consented_472)"
   ]
  },
  {
   "cell_type": "code",
   "execution_count": 38,
   "metadata": {
    "collapsed": true
   },
   "outputs": [],
   "source": [
    "cat_sv_str_overall_sets =  genes_impacted_at_top_level(info_cat_per_gene_all)\n",
    "cat_sv_str_overall_strings = genes_impacted_at_top_level(info_cat_per_gene_all, out_strings=True)"
   ]
  },
  {
   "cell_type": "code",
   "execution_count": 39,
   "metadata": {
    "collapsed": false
   },
   "outputs": [
    {
     "name": "stdout",
     "output_type": "stream",
     "text": [
      "info_var_gene_intersects_i2QTL_472_nnref1 = pd.read_pickle('/frazer01/projects/hipsci/analysis/i2QTL-sv-analysis/private_output/categorize_sv_wrt_genes/consented_472/info_var_gene_intersects_i2QTL_472_nnref1.pkl')\n",
      "info_var_gene_intersects_i2QTL_472_nnref1 = pd.read_csv('/frazer01/projects/hipsci/analysis/i2QTL-sv-analysis/private_output/categorize_sv_wrt_genes/consented_472/info_var_gene_intersects_i2QTL_472_nnref1.tsv', sep='\\t')\n",
      "# all vars recorded: /frazer01/projects/hipsci/analysis/i2QTL-sv-analysis/private_output/categorize_sv_wrt_genes/consented_472/load_saved_nb_variables.py\n",
      "# pickled vars recorded:/frazer01/projects/hipsci/analysis/i2QTL-sv-analysis/private_output/categorize_sv_wrt_genes/consented_472/load_pickled_nb_variables.py\n"
     ]
    }
   ],
   "source": [
    "CM.save_dataframe('info_var_gene_intersects_i2QTL_472_nnref1', info_cat_per_gene_all, outdir)"
   ]
  },
  {
   "cell_type": "code",
   "execution_count": 40,
   "metadata": {
    "collapsed": false
   },
   "outputs": [
    {
     "name": "stdout",
     "output_type": "stream",
     "text": [
      "info_var_gene_wide_string_i2QTL_472_nnref1 = pd.read_pickle('/frazer01/projects/hipsci/analysis/i2QTL-sv-analysis/private_output/categorize_sv_wrt_genes/consented_472/info_var_gene_wide_string_i2QTL_472_nnref1.pkl')\n",
      "info_var_gene_wide_string_i2QTL_472_nnref1 = pd.read_csv('/frazer01/projects/hipsci/analysis/i2QTL-sv-analysis/private_output/categorize_sv_wrt_genes/consented_472/info_var_gene_wide_string_i2QTL_472_nnref1.tsv', sep='\\t')\n",
      "# all vars recorded: /frazer01/projects/hipsci/analysis/i2QTL-sv-analysis/private_output/categorize_sv_wrt_genes/consented_472/load_saved_nb_variables.py\n",
      "# pickled vars recorded:/frazer01/projects/hipsci/analysis/i2QTL-sv-analysis/private_output/categorize_sv_wrt_genes/consented_472/load_pickled_nb_variables.py\n"
     ]
    }
   ],
   "source": [
    "CM.save_dataframe('info_var_gene_wide_string_i2QTL_472_nnref1', cat_sv_str_overall_strings, outdir)"
   ]
  },
  {
   "cell_type": "code",
   "execution_count": 41,
   "metadata": {
    "collapsed": false
   },
   "outputs": [
    {
     "name": "stdout",
     "output_type": "stream",
     "text": [
      "info_var_gene_wide_sets_i2QTL_472_nnref1 = pd.read_pickle('/frazer01/projects/hipsci/analysis/i2QTL-sv-analysis/private_output/categorize_sv_wrt_genes/consented_472/info_var_gene_wide_sets_i2QTL_472_nnref1.pkl')\n",
      "info_var_gene_wide_sets_i2QTL_472_nnref1 = pd.read_csv('/frazer01/projects/hipsci/analysis/i2QTL-sv-analysis/private_output/categorize_sv_wrt_genes/consented_472/info_var_gene_wide_sets_i2QTL_472_nnref1.tsv', sep='\\t')\n",
      "# all vars recorded: /frazer01/projects/hipsci/analysis/i2QTL-sv-analysis/private_output/categorize_sv_wrt_genes/consented_472/load_saved_nb_variables.py\n",
      "# pickled vars recorded:/frazer01/projects/hipsci/analysis/i2QTL-sv-analysis/private_output/categorize_sv_wrt_genes/consented_472/load_pickled_nb_variables.py\n"
     ]
    }
   ],
   "source": [
    "CM.save_dataframe('info_var_gene_wide_sets_i2QTL_472_nnref1', cat_sv_str_overall_sets, outdir)"
   ]
  },
  {
   "cell_type": "markdown",
   "metadata": {},
   "source": [
    "# Annotate the SNV/Indel Top hits"
   ]
  },
  {
   "cell_type": "code",
   "execution_count": 52,
   "metadata": {
    "collapsed": true
   },
   "outputs": [],
   "source": [
    "def classify_snv_indel(x):\n",
    "    spl = x.split('_')\n",
    "    ref = spl[-2]\n",
    "    alt = spl[-1]\n",
    "    \n",
    "    len_ref = len(ref)\n",
    "    len_alt = len(alt)\n",
    "    \n",
    "    if alt == \"*\":\n",
    "        return 'INDEL'\n",
    "    \n",
    "    elif len_ref == len_alt:\n",
    "        return 'SNV'\n",
    "    \n",
    "    else:\n",
    "        return 'INDEL'\n",
    "\n",
    "def classify_indel_change(x):\n",
    "    spl = x.split('_')\n",
    "    ref = spl[-2]\n",
    "    alt = spl[-1]\n",
    "    \n",
    "    len_ref = len(ref)\n",
    "    len_alt = len(alt)\n",
    "    \n",
    "    change = (len_alt - len_ref)\n",
    "    \n",
    "    if alt == \"*\":\n",
    "        return -1 * len_ref\n",
    "    \n",
    "    else:\n",
    "        return change\n",
    "\n",
    "def classify_snv_indel_subcat(x):\n",
    "    if x == 0:\n",
    "        return 'SNV'\n",
    "    if x > 0:\n",
    "        return 'INS'\n",
    "    if x < 0:\n",
    "        return 'DEL'\n",
    "    \n",
    "    return 'missed_case'"
   ]
  },
  {
   "cell_type": "code",
   "execution_count": 9,
   "metadata": {
    "collapsed": true
   },
   "outputs": [],
   "source": [
    "dy_name = 'qtl_results_01_17'\n",
    "outdir = os.path.join(private_out, dy_name)\n",
    "if not os.path.exists(outdir):\n",
    "    DJ.makedir(outdir)"
   ]
  },
  {
   "cell_type": "code",
   "execution_count": 10,
   "metadata": {
    "collapsed": true
   },
   "outputs": [],
   "source": [
    "top_hits_sv_snp_maf5 = pd.read_pickle('/frazer01/projects/hipsci/analysis/i2QTL-sv-analysis/private_output/eqtl_processing/qtl_results_01_17_v2/top_hits_sv_snp_maf5_story.pkl')"
   ]
  },
  {
   "cell_type": "code",
   "execution_count": 103,
   "metadata": {
    "collapsed": true
   },
   "outputs": [],
   "source": [
    "new =  pd.read_pickle('/frazer01/projects/hipsci/analysis/i2QTL-sv-analysis/private_output/eqtl_processing/qtl_results_01_17_v2/top_hits_sv_snp_maf5_story_v2.pkl')"
   ]
  },
  {
   "cell_type": "code",
   "execution_count": 108,
   "metadata": {
    "collapsed": true
   },
   "outputs": [],
   "source": [
    "fn_top_combined = '/frazer01/projects/hipsci/analysis/i2QTL-sv-analysis/private_output/eqtl_processing/qtl_data_sv_snp_1_14_19/top_qtl_results_sv_snp_combined.txt'\n",
    "test = pd.read_table(fn_top_combined)"
   ]
  },
  {
   "cell_type": "code",
   "execution_count": 20,
   "metadata": {
    "collapsed": true
   },
   "outputs": [],
   "source": [
    "fn_top_combined = '/frazer01/projects/hipsci/analysis/i2QTL-sv-analysis/private_output/eqtl_processing/qtl_data_sv_snp_1_14_19/top_qtl_results_sv_snp_combined.txt'\n",
    "\n",
    "snv_indel_top_all = pd.read_table(fn_top_combined)"
   ]
  },
  {
   "cell_type": "code",
   "execution_count": 12,
   "metadata": {
    "collapsed": true
   },
   "outputs": [],
   "source": [
    "info_all_rna = pd.read_pickle('/frazer01/projects/hipsci/analysis/i2QTL-sv-analysis/private_output/dosage_vcf_and_variant_info/info_unfilt_pass_rna_398.pkl')[['ID', 'NR_ID', 'SVTYPE_NR', 'CALLER', 'SVTYPE']]"
   ]
  },
  {
   "cell_type": "code",
   "execution_count": 21,
   "metadata": {
    "collapsed": true
   },
   "outputs": [],
   "source": [
    "snv_indel_top_all = snv_indel_top_all.merge(info_all_rna, left_on='snp_id', right_on='ID', how = 'left')"
   ]
  },
  {
   "cell_type": "code",
   "execution_count": 69,
   "metadata": {
    "collapsed": true
   },
   "outputs": [],
   "source": [
    "snv_indel = snv_indel_top_all[snv_indel_top_all.CALLER.isnull() == True]\n",
    "\n",
    "snv_indel['CHANGE'] = snv_indel.snp_id.apply(lambda x: classify_indel_change(x))\n",
    "snv_indel['VARIANT_SUBTYPE'] = snv_indel.CHANGE.apply(lambda x: classify_snv_indel_subcat(x))\n",
    "snv_indel['CALLER'] = 'GATK'\n",
    "\n",
    "snv_indel['start_variant'] =  snv_indel.snp_id.apply(lambda x: x.split('_')[1]).astype(int)\n",
    "snv_indel['end_variant'] =  snv_indel.start_variant\n",
    "snv_indel['VARIANT_TYPE'] = snv_indel.snp_id.apply(lambda x: classify_snv_indel(x))\n",
    "snv_indel['adjust'] = 0\n",
    "inds = snv_indel[snv_indel.VARIANT_SUBTYPE == 'DEL'].index.tolist()\n",
    "snv_indel.loc[inds, 'adjust'] = snv_indel.loc[inds, 'CHANGE'].abs()\n",
    "snv_indel['end_variant'] = snv_indel.end_variant + snv_indel.adjust\n",
    "\n",
    "snv_indel['ref'] = snv_indel.snp_id.apply(lambda x: x.split('_')[-2])\n",
    "snv_indel['alt'] = snv_indel.snp_id.apply(lambda x: x.split('_')[-1])\n",
    "\n",
    "snv_indel['chrom'] = 'chr' + snv_indel.feature_chromosome.astype(str)"
   ]
  },
  {
   "cell_type": "code",
   "execution_count": 77,
   "metadata": {
    "collapsed": true
   },
   "outputs": [],
   "source": [
    "snv_indels_lead  = snv_indel.drop_duplicates(['snp_id'])"
   ]
  },
  {
   "cell_type": "code",
   "execution_count": 78,
   "metadata": {
    "collapsed": true
   },
   "outputs": [],
   "source": [
    "fn_vars_bt = dy_bed_files + '/sig_snv_indel_leads_all.bed'\n",
    "cols = ['chrom', 'start_variant', 'end_variant', 'snp_id', 'VARIANT_TYPE']\n",
    "vars_bt = pbt.BedTool.from_dataframe(snv_indel[cols])\n",
    "vars_bt = vars_bt.sort()\n",
    "vars_bt = vars_bt.moveto(fn_vars_bt)"
   ]
  },
  {
   "cell_type": "code",
   "execution_count": 79,
   "metadata": {
    "collapsed": true
   },
   "outputs": [],
   "source": [
    "tx_info =  pd.read_table('/publicdata/gencode_v19_20151104/transcript_to_gene.tsv', names=['tx_id', 'gene_id']).pipe(prep_tx_info)\n",
    "tx_gene_dict = tx_info.gene_id_mod.to_dict()\n",
    "\n",
    "fn = '/frazer01/projects/hipsci/analysis/i2QTL-sv-analysis/private_output/enrichment_shuffle_svs/bed_files_features/genic_features_all.bed'\n",
    "features_bt = pbt.BedTool(fn)"
   ]
  },
  {
   "cell_type": "code",
   "execution_count": 81,
   "metadata": {
    "collapsed": true
   },
   "outputs": [],
   "source": [
    "intersect_feat, info_all_feat = intersect_and_categorize_loc(vars_bt, features_bt, tx_gene_dict)\n",
    "info_cat_per_gene_all =  post_process_intersect(info_all_feat, snv_indels_lead)"
   ]
  },
  {
   "cell_type": "code",
   "execution_count": 82,
   "metadata": {
    "collapsed": true
   },
   "outputs": [],
   "source": [
    "cat_sv_str_overall_sets =  genes_impacted_at_top_level(info_cat_per_gene_all)\n",
    "cat_sv_str_overall_strings = genes_impacted_at_top_level(info_cat_per_gene_all, out_strings=True)"
   ]
  },
  {
   "cell_type": "code",
   "execution_count": 83,
   "metadata": {
    "collapsed": false
   },
   "outputs": [
    {
     "name": "stdout",
     "output_type": "stream",
     "text": [
      "info_var_gene_intersects_snv_indel_lead = pd.read_pickle('/frazer01/projects/hipsci/analysis/i2QTL-sv-analysis/private_output/categorize_sv_wrt_genes/qtl_results_01_17/info_var_gene_intersects_snv_indel_lead.pkl')\n",
      "info_var_gene_intersects_snv_indel_lead = pd.read_csv('/frazer01/projects/hipsci/analysis/i2QTL-sv-analysis/private_output/categorize_sv_wrt_genes/qtl_results_01_17/info_var_gene_intersects_snv_indel_lead.tsv', sep='\\t')\n"
     ]
    }
   ],
   "source": [
    "CM.save_dataframe('info_var_gene_intersects_snv_indel_lead', info_cat_per_gene_all, \n",
    "                  outdir, print_vars_recorded_loc=False)"
   ]
  },
  {
   "cell_type": "code",
   "execution_count": 84,
   "metadata": {
    "collapsed": false
   },
   "outputs": [
    {
     "name": "stdout",
     "output_type": "stream",
     "text": [
      "info_var_gene_wide_string_snv_indel_lead = pd.read_pickle('/frazer01/projects/hipsci/analysis/i2QTL-sv-analysis/private_output/categorize_sv_wrt_genes/qtl_results_01_17/info_var_gene_wide_string_snv_indel_lead.pkl')\n",
      "info_var_gene_wide_string_snv_indel_lead = pd.read_csv('/frazer01/projects/hipsci/analysis/i2QTL-sv-analysis/private_output/categorize_sv_wrt_genes/qtl_results_01_17/info_var_gene_wide_string_snv_indel_lead.tsv', sep='\\t')\n"
     ]
    }
   ],
   "source": [
    "CM.save_dataframe('info_var_gene_wide_string_snv_indel_lead', cat_sv_str_overall_strings, outdir,\n",
    "                 print_vars_recorded_loc=False)"
   ]
  },
  {
   "cell_type": "code",
   "execution_count": 85,
   "metadata": {
    "collapsed": false
   },
   "outputs": [
    {
     "name": "stdout",
     "output_type": "stream",
     "text": [
      "info_var_gene_wide_sets_snv_indel_lead = pd.read_pickle('/frazer01/projects/hipsci/analysis/i2QTL-sv-analysis/private_output/categorize_sv_wrt_genes/qtl_results_01_17/info_var_gene_wide_sets_snv_indel_lead.pkl')\n",
      "info_var_gene_wide_sets_snv_indel_lead = pd.read_csv('/frazer01/projects/hipsci/analysis/i2QTL-sv-analysis/private_output/categorize_sv_wrt_genes/qtl_results_01_17/info_var_gene_wide_sets_snv_indel_lead.tsv', sep='\\t')\n"
     ]
    }
   ],
   "source": [
    "CM.save_dataframe('info_var_gene_wide_sets_snv_indel_lead', cat_sv_str_overall_sets, \n",
    "                  outdir, print_vars_recorded_loc=False)"
   ]
  },
  {
   "cell_type": "code",
   "execution_count": 90,
   "metadata": {
    "collapsed": true
   },
   "outputs": [],
   "source": [
    "info_var_gene_intersect_sv_str = pd.read_pickle('/frazer01/projects/hipsci/analysis/i2QTL-sv-analysis/private_output/categorize_sv_wrt_genes/consented_472/info_var_gene_intersects_i2QTL_472_nnref1.pkl')\n"
   ]
  },
  {
   "cell_type": "code",
   "execution_count": 91,
   "metadata": {
    "collapsed": true
   },
   "outputs": [],
   "source": [
    "info_var_gene_wide_sv_str_string = pd.read_pickle('/frazer01/projects/hipsci/analysis/i2QTL-sv-analysis/private_output/categorize_sv_wrt_genes/consented_472/info_var_gene_wide_string_i2QTL_472_nnref1.pkl')"
   ]
  },
  {
   "cell_type": "code",
   "execution_count": 94,
   "metadata": {
    "collapsed": true
   },
   "outputs": [],
   "source": [
    "snv_lead_and_all_sv = pd.concat([info_var_gene_intersect_sv_str, info_cat_per_gene_all])"
   ]
  },
  {
   "cell_type": "code",
   "execution_count": 124,
   "metadata": {
    "collapsed": false
   },
   "outputs": [
    {
     "name": "stdout",
     "output_type": "stream",
     "text": [
      "info_var_gene_intersects_sv_str_w_joint_leads = pd.read_pickle('/frazer01/projects/hipsci/analysis/i2QTL-sv-analysis/private_output/categorize_sv_wrt_genes/qtl_results_01_17/info_var_gene_intersects_sv_str_w_joint_leads.pkl')\n",
      "info_var_gene_intersects_sv_str_w_joint_leads = pd.read_csv('/frazer01/projects/hipsci/analysis/i2QTL-sv-analysis/private_output/categorize_sv_wrt_genes/qtl_results_01_17/info_var_gene_intersects_sv_str_w_joint_leads.tsv', sep='\\t')\n"
     ]
    }
   ],
   "source": [
    "CM.save_dataframe('info_var_gene_intersects_sv_str_w_joint_leads' ,snv_lead_and_all_sv, outdir, print_vars_recorded_loc=False)"
   ]
  },
  {
   "cell_type": "code",
   "execution_count": 125,
   "metadata": {
    "collapsed": true
   },
   "outputs": [],
   "source": [
    "snv_lead_and_all_sv_gene_wide = pd.concat([info_var_gene_wide_sv_str_string, cat_sv_str_overall_strings])"
   ]
  },
  {
   "cell_type": "code",
   "execution_count": 126,
   "metadata": {
    "collapsed": false
   },
   "outputs": [
    {
     "name": "stdout",
     "output_type": "stream",
     "text": [
      "info_var_gene_wide_sv_str_w_joint_leads = pd.read_pickle('/frazer01/projects/hipsci/analysis/i2QTL-sv-analysis/private_output/categorize_sv_wrt_genes/qtl_results_01_17/info_var_gene_wide_sv_str_w_joint_leads.pkl')\n",
      "info_var_gene_wide_sv_str_w_joint_leads = pd.read_csv('/frazer01/projects/hipsci/analysis/i2QTL-sv-analysis/private_output/categorize_sv_wrt_genes/qtl_results_01_17/info_var_gene_wide_sv_str_w_joint_leads.tsv', sep='\\t')\n"
     ]
    }
   ],
   "source": [
    "CM.save_dataframe('info_var_gene_wide_sv_str_w_joint_leads' ,snv_lead_and_all_sv_gene_wide, outdir, print_vars_recorded_loc=False)"
   ]
  },
  {
   "cell_type": "markdown",
   "metadata": {},
   "source": [
    "# All Significant SNV/INDEL"
   ]
  },
  {
   "cell_type": "code",
   "execution_count": 2,
   "metadata": {
    "collapsed": true
   },
   "outputs": [],
   "source": [
    "dy_name = 'qtl_results_01_17'\n",
    "outdir = os.path.join(private_out, dy_name)\n",
    "if not os.path.exists(outdir):\n",
    "    DJ.makedir(outdir)"
   ]
  },
  {
   "cell_type": "code",
   "execution_count": 17,
   "metadata": {
    "collapsed": true
   },
   "outputs": [],
   "source": [
    "sig_joint_story5_annot = pd.read_pickle('/frazer01/projects/hipsci/analysis/i2QTL-sv-analysis/private_output/eqtl_processing_joint/qtl_results_01_19/sig_joint_story5_annot.pkl')"
   ]
  },
  {
   "cell_type": "code",
   "execution_count": 18,
   "metadata": {
    "collapsed": true
   },
   "outputs": [],
   "source": [
    "sig_joint_story5_annot['chrom'] = 'chr' + sig_joint_story5_annot.feature_chromosome.astype(str)"
   ]
  },
  {
   "cell_type": "code",
   "execution_count": 19,
   "metadata": {
    "collapsed": true
   },
   "outputs": [],
   "source": [
    "all_sig_vars = sig_joint_story5_annot.drop_duplicates(['snp_id'])"
   ]
  },
  {
   "cell_type": "code",
   "execution_count": 20,
   "metadata": {
    "collapsed": true
   },
   "outputs": [],
   "source": [
    "# all_sig_vars['start_variant_bed\tend_variant'.split()].applymap(int)"
   ]
  },
  {
   "cell_type": "code",
   "execution_count": 21,
   "metadata": {
    "collapsed": true
   },
   "outputs": [],
   "source": [
    "fn_vars_bt = dy_bed_files + '/sig_snv_indel_leads_all.bed'\n",
    "cols = ['chrom', 'start_variant_bed', 'end_variant', 'snp_id', 'VARIANT_TYPE']\n",
    "vars_bt = pbt.BedTool.from_dataframe(all_sig_vars[cols])\n",
    "vars_bt = vars_bt.sort()\n",
    "vars_bt = vars_bt.moveto(fn_vars_bt)"
   ]
  },
  {
   "cell_type": "code",
   "execution_count": 22,
   "metadata": {
    "collapsed": true
   },
   "outputs": [],
   "source": [
    "tx_info =  pd.read_table('/publicdata/gencode_v19_20151104/transcript_to_gene.tsv', names=['tx_id', 'gene_id']).pipe(prep_tx_info)\n",
    "tx_gene_dict = tx_info.gene_id_mod.to_dict()\n",
    "\n",
    "fn = '/frazer01/projects/hipsci/analysis/i2QTL-sv-analysis/private_output/enrichment_shuffle_svs/bed_files_features/genic_features_all.bed'\n",
    "features_bt = pbt.BedTool(fn)"
   ]
  },
  {
   "cell_type": "code",
   "execution_count": 27,
   "metadata": {
    "collapsed": true
   },
   "outputs": [],
   "source": [
    "all_sig_vars['ID'] = all_sig_vars.snp_id"
   ]
  },
  {
   "cell_type": "code",
   "execution_count": 28,
   "metadata": {
    "collapsed": true
   },
   "outputs": [],
   "source": [
    "intersect_feat, info_all_feat = intersect_and_categorize_loc(vars_bt, features_bt, tx_gene_dict)\n",
    "info_cat_per_gene_all =  post_process_intersect(info_all_feat, all_sig_vars)"
   ]
  },
  {
   "cell_type": "code",
   "execution_count": 29,
   "metadata": {
    "collapsed": true
   },
   "outputs": [],
   "source": [
    "cat_sv_str_overall_sets =  genes_impacted_at_top_level(info_cat_per_gene_all)\n",
    "cat_sv_str_overall_strings = genes_impacted_at_top_level(info_cat_per_gene_all, out_strings=True)"
   ]
  },
  {
   "cell_type": "code",
   "execution_count": 31,
   "metadata": {
    "collapsed": false
   },
   "outputs": [
    {
     "name": "stdout",
     "output_type": "stream",
     "text": [
      "info_var_gene_intersects_joint_sig = pd.read_pickle('/frazer01/projects/hipsci/analysis/i2QTL-sv-analysis/private_output/categorize_sv_wrt_genes/qtl_results_01_17/info_var_gene_intersects_joint_sig.pkl')\n",
      "info_var_gene_intersects_joint_sig = pd.read_csv('/frazer01/projects/hipsci/analysis/i2QTL-sv-analysis/private_output/categorize_sv_wrt_genes/qtl_results_01_17/info_var_gene_intersects_joint_sig.tsv', sep='\\t')\n"
     ]
    }
   ],
   "source": [
    "CM.save_dataframe('info_var_gene_intersects_joint_sig', info_cat_per_gene_all, \n",
    "                  outdir, print_vars_recorded_loc=False)"
   ]
  },
  {
   "cell_type": "code",
   "execution_count": 32,
   "metadata": {
    "collapsed": false
   },
   "outputs": [
    {
     "name": "stdout",
     "output_type": "stream",
     "text": [
      "info_var_gene_wide_string_joint_sig = pd.read_pickle('/frazer01/projects/hipsci/analysis/i2QTL-sv-analysis/private_output/categorize_sv_wrt_genes/qtl_results_01_17/info_var_gene_wide_string_joint_sig.pkl')\n",
      "info_var_gene_wide_string_joint_sig = pd.read_csv('/frazer01/projects/hipsci/analysis/i2QTL-sv-analysis/private_output/categorize_sv_wrt_genes/qtl_results_01_17/info_var_gene_wide_string_joint_sig.tsv', sep='\\t')\n"
     ]
    }
   ],
   "source": [
    "CM.save_dataframe('info_var_gene_wide_string_joint_sig', cat_sv_str_overall_strings, outdir,\n",
    "                 print_vars_recorded_loc=False)"
   ]
  },
  {
   "cell_type": "code",
   "execution_count": 34,
   "metadata": {
    "collapsed": false
   },
   "outputs": [
    {
     "name": "stdout",
     "output_type": "stream",
     "text": [
      "info_var_gene_wide_sets_joint_sig = pd.read_pickle('/frazer01/projects/hipsci/analysis/i2QTL-sv-analysis/private_output/categorize_sv_wrt_genes/qtl_results_01_17/info_var_gene_wide_sets_joint_sig.pkl')\n",
      "info_var_gene_wide_sets_joint_sig = pd.read_csv('/frazer01/projects/hipsci/analysis/i2QTL-sv-analysis/private_output/categorize_sv_wrt_genes/qtl_results_01_17/info_var_gene_wide_sets_joint_sig.tsv', sep='\\t')\n"
     ]
    }
   ],
   "source": [
    "# accidentally oversaved the snv_indel_lead ones oops\n",
    "CM.save_dataframe('info_var_gene_wide_sets_joint_sig', cat_sv_str_overall_sets, \n",
    "                  outdir, print_vars_recorded_loc=False)"
   ]
  }
 ],
 "metadata": {
  "kernelspec": {
   "display_name": "Python 2",
   "language": "python",
   "name": "python2"
  },
  "language_info": {
   "codemirror_mode": {
    "name": "ipython",
    "version": 2
   },
   "file_extension": ".py",
   "mimetype": "text/x-python",
   "name": "python",
   "nbconvert_exporter": "python",
   "pygments_lexer": "ipython2",
   "version": "2.7.3"
  }
 },
 "nbformat": 4,
 "nbformat_minor": 2
}
